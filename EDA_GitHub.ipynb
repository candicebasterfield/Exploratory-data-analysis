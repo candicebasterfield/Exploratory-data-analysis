{
 "cells": [
  {
   "cell_type": "markdown",
   "id": "c0b4ff17-f8b6-4d4c-a913-c0855a274636",
   "metadata": {
    "tags": []
   },
   "source": [
    "## Step 1:"
   ]
  },
  {
   "cell_type": "code",
   "execution_count": 1,
   "id": "fbf1adab",
   "metadata": {
    "tags": []
   },
   "outputs": [],
   "source": [
    "# Load libraries\n",
    "import pandas as pd \n",
    "from matplotlib import pyplot as plt\n",
    "from IPython.display import display\n"
   ]
  },
  {
   "cell_type": "code",
   "execution_count": 2,
   "id": "a9feef8d",
   "metadata": {},
   "outputs": [
    {
     "data": {
      "text/html": [
       "<div>\n",
       "<style scoped>\n",
       "    .dataframe tbody tr th:only-of-type {\n",
       "        vertical-align: middle;\n",
       "    }\n",
       "\n",
       "    .dataframe tbody tr th {\n",
       "        vertical-align: top;\n",
       "    }\n",
       "\n",
       "    .dataframe thead th {\n",
       "        text-align: right;\n",
       "    }\n",
       "</style>\n",
       "<table border=\"1\" class=\"dataframe\">\n",
       "  <thead>\n",
       "    <tr style=\"text-align: right;\">\n",
       "      <th></th>\n",
       "      <th>order_id</th>\n",
       "      <th>user_id</th>\n",
       "      <th>order_number</th>\n",
       "      <th>order_dow</th>\n",
       "      <th>order_hour_of_day</th>\n",
       "      <th>days_since_prior_order</th>\n",
       "    </tr>\n",
       "  </thead>\n",
       "  <tbody>\n",
       "    <tr>\n",
       "      <th>0</th>\n",
       "      <td>1515936</td>\n",
       "      <td>183418</td>\n",
       "      <td>11</td>\n",
       "      <td>6</td>\n",
       "      <td>13</td>\n",
       "      <td>30.0</td>\n",
       "    </tr>\n",
       "    <tr>\n",
       "      <th>1</th>\n",
       "      <td>1690866</td>\n",
       "      <td>163593</td>\n",
       "      <td>5</td>\n",
       "      <td>5</td>\n",
       "      <td>12</td>\n",
       "      <td>9.0</td>\n",
       "    </tr>\n",
       "    <tr>\n",
       "      <th>2</th>\n",
       "      <td>1454967</td>\n",
       "      <td>39980</td>\n",
       "      <td>4</td>\n",
       "      <td>5</td>\n",
       "      <td>19</td>\n",
       "      <td>2.0</td>\n",
       "    </tr>\n",
       "    <tr>\n",
       "      <th>3</th>\n",
       "      <td>1768857</td>\n",
       "      <td>82516</td>\n",
       "      <td>56</td>\n",
       "      <td>0</td>\n",
       "      <td>20</td>\n",
       "      <td>10.0</td>\n",
       "    </tr>\n",
       "    <tr>\n",
       "      <th>4</th>\n",
       "      <td>3007858</td>\n",
       "      <td>196724</td>\n",
       "      <td>2</td>\n",
       "      <td>4</td>\n",
       "      <td>12</td>\n",
       "      <td>17.0</td>\n",
       "    </tr>\n",
       "    <tr>\n",
       "      <th>...</th>\n",
       "      <td>...</td>\n",
       "      <td>...</td>\n",
       "      <td>...</td>\n",
       "      <td>...</td>\n",
       "      <td>...</td>\n",
       "      <td>...</td>\n",
       "    </tr>\n",
       "    <tr>\n",
       "      <th>478962</th>\n",
       "      <td>3210681</td>\n",
       "      <td>5617</td>\n",
       "      <td>5</td>\n",
       "      <td>1</td>\n",
       "      <td>14</td>\n",
       "      <td>7.0</td>\n",
       "    </tr>\n",
       "    <tr>\n",
       "      <th>478963</th>\n",
       "      <td>3270802</td>\n",
       "      <td>112087</td>\n",
       "      <td>2</td>\n",
       "      <td>3</td>\n",
       "      <td>13</td>\n",
       "      <td>6.0</td>\n",
       "    </tr>\n",
       "    <tr>\n",
       "      <th>478964</th>\n",
       "      <td>885349</td>\n",
       "      <td>82944</td>\n",
       "      <td>16</td>\n",
       "      <td>2</td>\n",
       "      <td>11</td>\n",
       "      <td>6.0</td>\n",
       "    </tr>\n",
       "    <tr>\n",
       "      <th>478965</th>\n",
       "      <td>216274</td>\n",
       "      <td>4391</td>\n",
       "      <td>3</td>\n",
       "      <td>3</td>\n",
       "      <td>8</td>\n",
       "      <td>8.0</td>\n",
       "    </tr>\n",
       "    <tr>\n",
       "      <th>478966</th>\n",
       "      <td>2071924</td>\n",
       "      <td>1730</td>\n",
       "      <td>18</td>\n",
       "      <td>1</td>\n",
       "      <td>14</td>\n",
       "      <td>15.0</td>\n",
       "    </tr>\n",
       "  </tbody>\n",
       "</table>\n",
       "<p>478967 rows × 6 columns</p>\n",
       "</div>"
      ],
      "text/plain": [
       "        order_id  user_id  order_number  order_dow  order_hour_of_day  \\\n",
       "0        1515936   183418            11          6                 13   \n",
       "1        1690866   163593             5          5                 12   \n",
       "2        1454967    39980             4          5                 19   \n",
       "3        1768857    82516            56          0                 20   \n",
       "4        3007858   196724             2          4                 12   \n",
       "...          ...      ...           ...        ...                ...   \n",
       "478962   3210681     5617             5          1                 14   \n",
       "478963   3270802   112087             2          3                 13   \n",
       "478964    885349    82944            16          2                 11   \n",
       "478965    216274     4391             3          3                  8   \n",
       "478966   2071924     1730            18          1                 14   \n",
       "\n",
       "        days_since_prior_order  \n",
       "0                         30.0  \n",
       "1                          9.0  \n",
       "2                          2.0  \n",
       "3                         10.0  \n",
       "4                         17.0  \n",
       "...                        ...  \n",
       "478962                     7.0  \n",
       "478963                     6.0  \n",
       "478964                     6.0  \n",
       "478965                     8.0  \n",
       "478966                    15.0  \n",
       "\n",
       "[478967 rows x 6 columns]"
      ]
     },
     "execution_count": 2,
     "metadata": {},
     "output_type": "execute_result"
    }
   ],
   "source": [
    "\n",
    "orders= pd.read_csv('instacart_orders.csv', sep=';')\n",
    "\n",
    "orders"
   ]
  },
  {
   "cell_type": "code",
   "execution_count": 3,
   "id": "4422ebf3-a161-4273-8bb8-b54a4b1b1423",
   "metadata": {
    "tags": []
   },
   "outputs": [
    {
     "name": "stdout",
     "output_type": "stream",
     "text": [
      "<class 'pandas.core.frame.DataFrame'>\n",
      "RangeIndex: 478967 entries, 0 to 478966\n",
      "Data columns (total 6 columns):\n",
      " #   Column                  Non-Null Count   Dtype  \n",
      "---  ------                  --------------   -----  \n",
      " 0   order_id                478967 non-null  int64  \n",
      " 1   user_id                 478967 non-null  int64  \n",
      " 2   order_number            478967 non-null  int64  \n",
      " 3   order_dow               478967 non-null  int64  \n",
      " 4   order_hour_of_day       478967 non-null  int64  \n",
      " 5   days_since_prior_order  450148 non-null  float64\n",
      "dtypes: float64(1), int64(5)\n",
      "memory usage: 21.9 MB\n"
     ]
    },
    {
     "data": {
      "text/plain": [
       "'  Days since prior order is a float and should be an interger. \\nNum of days is usually represenetd as a whole number and you would not have partial days.'"
      ]
     },
     "execution_count": 3,
     "metadata": {},
     "output_type": "execute_result"
    }
   ],
   "source": [
    "orders.info()\n",
    "\n",
    "'''  Days since prior order is a float and should be an interger. \n",
    "Num of days is usually represenetd as a whole number and you would not have partial days.'''"
   ]
  },
  {
   "cell_type": "code",
   "execution_count": 4,
   "id": "ad36396d",
   "metadata": {
    "tags": []
   },
   "outputs": [
    {
     "data": {
      "text/html": [
       "<div>\n",
       "<style scoped>\n",
       "    .dataframe tbody tr th:only-of-type {\n",
       "        vertical-align: middle;\n",
       "    }\n",
       "\n",
       "    .dataframe tbody tr th {\n",
       "        vertical-align: top;\n",
       "    }\n",
       "\n",
       "    .dataframe thead th {\n",
       "        text-align: right;\n",
       "    }\n",
       "</style>\n",
       "<table border=\"1\" class=\"dataframe\">\n",
       "  <thead>\n",
       "    <tr style=\"text-align: right;\">\n",
       "      <th></th>\n",
       "      <th>product_id</th>\n",
       "      <th>product_name</th>\n",
       "      <th>aisle_id</th>\n",
       "      <th>department_id</th>\n",
       "    </tr>\n",
       "  </thead>\n",
       "  <tbody>\n",
       "    <tr>\n",
       "      <th>0</th>\n",
       "      <td>1</td>\n",
       "      <td>Chocolate Sandwich Cookies</td>\n",
       "      <td>61</td>\n",
       "      <td>19</td>\n",
       "    </tr>\n",
       "    <tr>\n",
       "      <th>1</th>\n",
       "      <td>2</td>\n",
       "      <td>All-Seasons Salt</td>\n",
       "      <td>104</td>\n",
       "      <td>13</td>\n",
       "    </tr>\n",
       "    <tr>\n",
       "      <th>2</th>\n",
       "      <td>3</td>\n",
       "      <td>Robust Golden Unsweetened Oolong Tea</td>\n",
       "      <td>94</td>\n",
       "      <td>7</td>\n",
       "    </tr>\n",
       "    <tr>\n",
       "      <th>3</th>\n",
       "      <td>4</td>\n",
       "      <td>Smart Ones Classic Favorites Mini Rigatoni Wit...</td>\n",
       "      <td>38</td>\n",
       "      <td>1</td>\n",
       "    </tr>\n",
       "    <tr>\n",
       "      <th>4</th>\n",
       "      <td>5</td>\n",
       "      <td>Green Chile Anytime Sauce</td>\n",
       "      <td>5</td>\n",
       "      <td>13</td>\n",
       "    </tr>\n",
       "    <tr>\n",
       "      <th>...</th>\n",
       "      <td>...</td>\n",
       "      <td>...</td>\n",
       "      <td>...</td>\n",
       "      <td>...</td>\n",
       "    </tr>\n",
       "    <tr>\n",
       "      <th>49689</th>\n",
       "      <td>49690</td>\n",
       "      <td>HIGH PERFORMANCE ENERGY DRINK</td>\n",
       "      <td>64</td>\n",
       "      <td>7</td>\n",
       "    </tr>\n",
       "    <tr>\n",
       "      <th>49690</th>\n",
       "      <td>49691</td>\n",
       "      <td>ORIGINAL PANCAKE &amp; WAFFLE MIX</td>\n",
       "      <td>130</td>\n",
       "      <td>14</td>\n",
       "    </tr>\n",
       "    <tr>\n",
       "      <th>49691</th>\n",
       "      <td>49692</td>\n",
       "      <td>ORGANIC INSTANT OATMEAL LIGHT MAPLE BROWN SUGAR</td>\n",
       "      <td>130</td>\n",
       "      <td>14</td>\n",
       "    </tr>\n",
       "    <tr>\n",
       "      <th>49692</th>\n",
       "      <td>49693</td>\n",
       "      <td>SPRING WATER BODY WASH</td>\n",
       "      <td>127</td>\n",
       "      <td>11</td>\n",
       "    </tr>\n",
       "    <tr>\n",
       "      <th>49693</th>\n",
       "      <td>49694</td>\n",
       "      <td>BURRITO- STEAK &amp; CHEESE</td>\n",
       "      <td>38</td>\n",
       "      <td>1</td>\n",
       "    </tr>\n",
       "  </tbody>\n",
       "</table>\n",
       "<p>49694 rows × 4 columns</p>\n",
       "</div>"
      ],
      "text/plain": [
       "       product_id                                       product_name  \\\n",
       "0               1                         Chocolate Sandwich Cookies   \n",
       "1               2                                   All-Seasons Salt   \n",
       "2               3               Robust Golden Unsweetened Oolong Tea   \n",
       "3               4  Smart Ones Classic Favorites Mini Rigatoni Wit...   \n",
       "4               5                          Green Chile Anytime Sauce   \n",
       "...           ...                                                ...   \n",
       "49689       49690                      HIGH PERFORMANCE ENERGY DRINK   \n",
       "49690       49691                      ORIGINAL PANCAKE & WAFFLE MIX   \n",
       "49691       49692    ORGANIC INSTANT OATMEAL LIGHT MAPLE BROWN SUGAR   \n",
       "49692       49693                             SPRING WATER BODY WASH   \n",
       "49693       49694                            BURRITO- STEAK & CHEESE   \n",
       "\n",
       "       aisle_id  department_id  \n",
       "0            61             19  \n",
       "1           104             13  \n",
       "2            94              7  \n",
       "3            38              1  \n",
       "4             5             13  \n",
       "...         ...            ...  \n",
       "49689        64              7  \n",
       "49690       130             14  \n",
       "49691       130             14  \n",
       "49692       127             11  \n",
       "49693        38              1  \n",
       "\n",
       "[49694 rows x 4 columns]"
      ]
     },
     "execution_count": 4,
     "metadata": {},
     "output_type": "execute_result"
    }
   ],
   "source": [
    "products= pd.read_csv('products.csv', sep=';')\n",
    "\n",
    "products"
   ]
  },
  {
   "cell_type": "code",
   "execution_count": 5,
   "id": "dfc14e9c-c352-45c3-ab90-82a1cd7c8655",
   "metadata": {
    "tags": []
   },
   "outputs": [
    {
     "name": "stdout",
     "output_type": "stream",
     "text": [
      "<class 'pandas.core.frame.DataFrame'>\n",
      "RangeIndex: 49694 entries, 0 to 49693\n",
      "Data columns (total 4 columns):\n",
      " #   Column         Non-Null Count  Dtype \n",
      "---  ------         --------------  ----- \n",
      " 0   product_id     49694 non-null  int64 \n",
      " 1   product_name   48436 non-null  object\n",
      " 2   aisle_id       49694 non-null  int64 \n",
      " 3   department_id  49694 non-null  int64 \n",
      "dtypes: int64(3), object(1)\n",
      "memory usage: 1.5+ MB\n"
     ]
    }
   ],
   "source": [
    "products.info()\n",
    "\n",
    "#missing data in product_name column"
   ]
  },
  {
   "cell_type": "code",
   "execution_count": 6,
   "id": "ad6a1efa",
   "metadata": {
    "tags": []
   },
   "outputs": [
    {
     "data": {
      "text/html": [
       "<div>\n",
       "<style scoped>\n",
       "    .dataframe tbody tr th:only-of-type {\n",
       "        vertical-align: middle;\n",
       "    }\n",
       "\n",
       "    .dataframe tbody tr th {\n",
       "        vertical-align: top;\n",
       "    }\n",
       "\n",
       "    .dataframe thead th {\n",
       "        text-align: right;\n",
       "    }\n",
       "</style>\n",
       "<table border=\"1\" class=\"dataframe\">\n",
       "  <thead>\n",
       "    <tr style=\"text-align: right;\">\n",
       "      <th></th>\n",
       "      <th>aisle_id</th>\n",
       "      <th>aisle</th>\n",
       "    </tr>\n",
       "  </thead>\n",
       "  <tbody>\n",
       "    <tr>\n",
       "      <th>0</th>\n",
       "      <td>1</td>\n",
       "      <td>prepared soups salads</td>\n",
       "    </tr>\n",
       "    <tr>\n",
       "      <th>1</th>\n",
       "      <td>2</td>\n",
       "      <td>specialty cheeses</td>\n",
       "    </tr>\n",
       "    <tr>\n",
       "      <th>2</th>\n",
       "      <td>3</td>\n",
       "      <td>energy granola bars</td>\n",
       "    </tr>\n",
       "    <tr>\n",
       "      <th>3</th>\n",
       "      <td>4</td>\n",
       "      <td>instant foods</td>\n",
       "    </tr>\n",
       "    <tr>\n",
       "      <th>4</th>\n",
       "      <td>5</td>\n",
       "      <td>marinades meat preparation</td>\n",
       "    </tr>\n",
       "    <tr>\n",
       "      <th>...</th>\n",
       "      <td>...</td>\n",
       "      <td>...</td>\n",
       "    </tr>\n",
       "    <tr>\n",
       "      <th>129</th>\n",
       "      <td>130</td>\n",
       "      <td>hot cereal pancake mixes</td>\n",
       "    </tr>\n",
       "    <tr>\n",
       "      <th>130</th>\n",
       "      <td>131</td>\n",
       "      <td>dry pasta</td>\n",
       "    </tr>\n",
       "    <tr>\n",
       "      <th>131</th>\n",
       "      <td>132</td>\n",
       "      <td>beauty</td>\n",
       "    </tr>\n",
       "    <tr>\n",
       "      <th>132</th>\n",
       "      <td>133</td>\n",
       "      <td>muscles joints pain relief</td>\n",
       "    </tr>\n",
       "    <tr>\n",
       "      <th>133</th>\n",
       "      <td>134</td>\n",
       "      <td>specialty wines champagnes</td>\n",
       "    </tr>\n",
       "  </tbody>\n",
       "</table>\n",
       "<p>134 rows × 2 columns</p>\n",
       "</div>"
      ],
      "text/plain": [
       "     aisle_id                       aisle\n",
       "0           1       prepared soups salads\n",
       "1           2           specialty cheeses\n",
       "2           3         energy granola bars\n",
       "3           4               instant foods\n",
       "4           5  marinades meat preparation\n",
       "..        ...                         ...\n",
       "129       130    hot cereal pancake mixes\n",
       "130       131                   dry pasta\n",
       "131       132                      beauty\n",
       "132       133  muscles joints pain relief\n",
       "133       134  specialty wines champagnes\n",
       "\n",
       "[134 rows x 2 columns]"
      ]
     },
     "execution_count": 6,
     "metadata": {},
     "output_type": "execute_result"
    }
   ],
   "source": [
    "aisles= pd.read_csv('aisles.csv', sep=';')\n",
    "\n",
    "aisles"
   ]
  },
  {
   "cell_type": "code",
   "execution_count": 7,
   "id": "752671ea-77f9-45c8-ad29-c175a19cbc73",
   "metadata": {
    "tags": []
   },
   "outputs": [
    {
     "name": "stdout",
     "output_type": "stream",
     "text": [
      "<class 'pandas.core.frame.DataFrame'>\n",
      "RangeIndex: 134 entries, 0 to 133\n",
      "Data columns (total 2 columns):\n",
      " #   Column    Non-Null Count  Dtype \n",
      "---  ------    --------------  ----- \n",
      " 0   aisle_id  134 non-null    int64 \n",
      " 1   aisle     134 non-null    object\n",
      "dtypes: int64(1), object(1)\n",
      "memory usage: 2.2+ KB\n"
     ]
    }
   ],
   "source": [
    "aisles.info()"
   ]
  },
  {
   "cell_type": "code",
   "execution_count": 8,
   "id": "5130e05e",
   "metadata": {
    "tags": []
   },
   "outputs": [
    {
     "data": {
      "text/html": [
       "<div>\n",
       "<style scoped>\n",
       "    .dataframe tbody tr th:only-of-type {\n",
       "        vertical-align: middle;\n",
       "    }\n",
       "\n",
       "    .dataframe tbody tr th {\n",
       "        vertical-align: top;\n",
       "    }\n",
       "\n",
       "    .dataframe thead th {\n",
       "        text-align: right;\n",
       "    }\n",
       "</style>\n",
       "<table border=\"1\" class=\"dataframe\">\n",
       "  <thead>\n",
       "    <tr style=\"text-align: right;\">\n",
       "      <th></th>\n",
       "      <th>department_id</th>\n",
       "      <th>department</th>\n",
       "    </tr>\n",
       "  </thead>\n",
       "  <tbody>\n",
       "    <tr>\n",
       "      <th>0</th>\n",
       "      <td>1</td>\n",
       "      <td>frozen</td>\n",
       "    </tr>\n",
       "    <tr>\n",
       "      <th>1</th>\n",
       "      <td>2</td>\n",
       "      <td>other</td>\n",
       "    </tr>\n",
       "    <tr>\n",
       "      <th>2</th>\n",
       "      <td>3</td>\n",
       "      <td>bakery</td>\n",
       "    </tr>\n",
       "    <tr>\n",
       "      <th>3</th>\n",
       "      <td>4</td>\n",
       "      <td>produce</td>\n",
       "    </tr>\n",
       "    <tr>\n",
       "      <th>4</th>\n",
       "      <td>5</td>\n",
       "      <td>alcohol</td>\n",
       "    </tr>\n",
       "    <tr>\n",
       "      <th>5</th>\n",
       "      <td>6</td>\n",
       "      <td>international</td>\n",
       "    </tr>\n",
       "    <tr>\n",
       "      <th>6</th>\n",
       "      <td>7</td>\n",
       "      <td>beverages</td>\n",
       "    </tr>\n",
       "    <tr>\n",
       "      <th>7</th>\n",
       "      <td>8</td>\n",
       "      <td>pets</td>\n",
       "    </tr>\n",
       "    <tr>\n",
       "      <th>8</th>\n",
       "      <td>9</td>\n",
       "      <td>dry goods pasta</td>\n",
       "    </tr>\n",
       "    <tr>\n",
       "      <th>9</th>\n",
       "      <td>10</td>\n",
       "      <td>bulk</td>\n",
       "    </tr>\n",
       "    <tr>\n",
       "      <th>10</th>\n",
       "      <td>11</td>\n",
       "      <td>personal care</td>\n",
       "    </tr>\n",
       "    <tr>\n",
       "      <th>11</th>\n",
       "      <td>12</td>\n",
       "      <td>meat seafood</td>\n",
       "    </tr>\n",
       "    <tr>\n",
       "      <th>12</th>\n",
       "      <td>13</td>\n",
       "      <td>pantry</td>\n",
       "    </tr>\n",
       "    <tr>\n",
       "      <th>13</th>\n",
       "      <td>14</td>\n",
       "      <td>breakfast</td>\n",
       "    </tr>\n",
       "    <tr>\n",
       "      <th>14</th>\n",
       "      <td>15</td>\n",
       "      <td>canned goods</td>\n",
       "    </tr>\n",
       "    <tr>\n",
       "      <th>15</th>\n",
       "      <td>16</td>\n",
       "      <td>dairy eggs</td>\n",
       "    </tr>\n",
       "    <tr>\n",
       "      <th>16</th>\n",
       "      <td>17</td>\n",
       "      <td>household</td>\n",
       "    </tr>\n",
       "    <tr>\n",
       "      <th>17</th>\n",
       "      <td>18</td>\n",
       "      <td>babies</td>\n",
       "    </tr>\n",
       "    <tr>\n",
       "      <th>18</th>\n",
       "      <td>19</td>\n",
       "      <td>snacks</td>\n",
       "    </tr>\n",
       "    <tr>\n",
       "      <th>19</th>\n",
       "      <td>20</td>\n",
       "      <td>deli</td>\n",
       "    </tr>\n",
       "    <tr>\n",
       "      <th>20</th>\n",
       "      <td>21</td>\n",
       "      <td>missing</td>\n",
       "    </tr>\n",
       "  </tbody>\n",
       "</table>\n",
       "</div>"
      ],
      "text/plain": [
       "    department_id       department\n",
       "0               1           frozen\n",
       "1               2            other\n",
       "2               3           bakery\n",
       "3               4          produce\n",
       "4               5          alcohol\n",
       "5               6    international\n",
       "6               7        beverages\n",
       "7               8             pets\n",
       "8               9  dry goods pasta\n",
       "9              10             bulk\n",
       "10             11    personal care\n",
       "11             12     meat seafood\n",
       "12             13           pantry\n",
       "13             14        breakfast\n",
       "14             15     canned goods\n",
       "15             16       dairy eggs\n",
       "16             17        household\n",
       "17             18           babies\n",
       "18             19           snacks\n",
       "19             20             deli\n",
       "20             21          missing"
      ]
     },
     "execution_count": 8,
     "metadata": {},
     "output_type": "execute_result"
    }
   ],
   "source": [
    "departments= pd.read_csv('departments.csv', sep=';')\n",
    "\n",
    "departments"
   ]
  },
  {
   "cell_type": "code",
   "execution_count": 9,
   "id": "2646a80b-4916-4417-b57c-5f93a24468a9",
   "metadata": {
    "tags": []
   },
   "outputs": [
    {
     "name": "stdout",
     "output_type": "stream",
     "text": [
      "<class 'pandas.core.frame.DataFrame'>\n",
      "RangeIndex: 21 entries, 0 to 20\n",
      "Data columns (total 2 columns):\n",
      " #   Column         Non-Null Count  Dtype \n",
      "---  ------         --------------  ----- \n",
      " 0   department_id  21 non-null     int64 \n",
      " 1   department     21 non-null     object\n",
      "dtypes: int64(1), object(1)\n",
      "memory usage: 468.0+ bytes\n"
     ]
    }
   ],
   "source": [
    "departments.info()"
   ]
  },
  {
   "cell_type": "code",
   "execution_count": 10,
   "id": "d8370c05",
   "metadata": {
    "tags": []
   },
   "outputs": [
    {
     "data": {
      "text/html": [
       "<div>\n",
       "<style scoped>\n",
       "    .dataframe tbody tr th:only-of-type {\n",
       "        vertical-align: middle;\n",
       "    }\n",
       "\n",
       "    .dataframe tbody tr th {\n",
       "        vertical-align: top;\n",
       "    }\n",
       "\n",
       "    .dataframe thead th {\n",
       "        text-align: right;\n",
       "    }\n",
       "</style>\n",
       "<table border=\"1\" class=\"dataframe\">\n",
       "  <thead>\n",
       "    <tr style=\"text-align: right;\">\n",
       "      <th></th>\n",
       "      <th>order_id</th>\n",
       "      <th>product_id</th>\n",
       "      <th>add_to_cart_order</th>\n",
       "      <th>reordered</th>\n",
       "    </tr>\n",
       "  </thead>\n",
       "  <tbody>\n",
       "    <tr>\n",
       "      <th>0</th>\n",
       "      <td>2141543</td>\n",
       "      <td>11440</td>\n",
       "      <td>17.0</td>\n",
       "      <td>0</td>\n",
       "    </tr>\n",
       "    <tr>\n",
       "      <th>1</th>\n",
       "      <td>567889</td>\n",
       "      <td>1560</td>\n",
       "      <td>1.0</td>\n",
       "      <td>1</td>\n",
       "    </tr>\n",
       "    <tr>\n",
       "      <th>2</th>\n",
       "      <td>2261212</td>\n",
       "      <td>26683</td>\n",
       "      <td>1.0</td>\n",
       "      <td>1</td>\n",
       "    </tr>\n",
       "    <tr>\n",
       "      <th>3</th>\n",
       "      <td>491251</td>\n",
       "      <td>8670</td>\n",
       "      <td>35.0</td>\n",
       "      <td>1</td>\n",
       "    </tr>\n",
       "    <tr>\n",
       "      <th>4</th>\n",
       "      <td>2571142</td>\n",
       "      <td>1940</td>\n",
       "      <td>5.0</td>\n",
       "      <td>1</td>\n",
       "    </tr>\n",
       "    <tr>\n",
       "      <th>...</th>\n",
       "      <td>...</td>\n",
       "      <td>...</td>\n",
       "      <td>...</td>\n",
       "      <td>...</td>\n",
       "    </tr>\n",
       "    <tr>\n",
       "      <th>4545002</th>\n",
       "      <td>577211</td>\n",
       "      <td>15290</td>\n",
       "      <td>12.0</td>\n",
       "      <td>1</td>\n",
       "    </tr>\n",
       "    <tr>\n",
       "      <th>4545003</th>\n",
       "      <td>1219554</td>\n",
       "      <td>21914</td>\n",
       "      <td>9.0</td>\n",
       "      <td>0</td>\n",
       "    </tr>\n",
       "    <tr>\n",
       "      <th>4545004</th>\n",
       "      <td>692640</td>\n",
       "      <td>47766</td>\n",
       "      <td>4.0</td>\n",
       "      <td>1</td>\n",
       "    </tr>\n",
       "    <tr>\n",
       "      <th>4545005</th>\n",
       "      <td>319435</td>\n",
       "      <td>691</td>\n",
       "      <td>8.0</td>\n",
       "      <td>1</td>\n",
       "    </tr>\n",
       "    <tr>\n",
       "      <th>4545006</th>\n",
       "      <td>1398151</td>\n",
       "      <td>28733</td>\n",
       "      <td>9.0</td>\n",
       "      <td>0</td>\n",
       "    </tr>\n",
       "  </tbody>\n",
       "</table>\n",
       "<p>4545007 rows × 4 columns</p>\n",
       "</div>"
      ],
      "text/plain": [
       "         order_id  product_id  add_to_cart_order  reordered\n",
       "0         2141543       11440               17.0          0\n",
       "1          567889        1560                1.0          1\n",
       "2         2261212       26683                1.0          1\n",
       "3          491251        8670               35.0          1\n",
       "4         2571142        1940                5.0          1\n",
       "...           ...         ...                ...        ...\n",
       "4545002    577211       15290               12.0          1\n",
       "4545003   1219554       21914                9.0          0\n",
       "4545004    692640       47766                4.0          1\n",
       "4545005    319435         691                8.0          1\n",
       "4545006   1398151       28733                9.0          0\n",
       "\n",
       "[4545007 rows x 4 columns]"
      ]
     },
     "execution_count": 10,
     "metadata": {},
     "output_type": "execute_result"
    }
   ],
   "source": [
    "order_products= pd.read_csv('order_products.csv', sep=';')\n",
    "\n",
    "order_products\n"
   ]
  },
  {
   "cell_type": "code",
   "execution_count": 11,
   "id": "59e2090f",
   "metadata": {
    "tags": []
   },
   "outputs": [
    {
     "name": "stdout",
     "output_type": "stream",
     "text": [
      "<class 'pandas.core.frame.DataFrame'>\n",
      "RangeIndex: 4545007 entries, 0 to 4545006\n",
      "Data columns (total 4 columns):\n",
      " #   Column             Non-Null Count    Dtype  \n",
      "---  ------             --------------    -----  \n",
      " 0   order_id           4545007 non-null  int64  \n",
      " 1   product_id         4545007 non-null  int64  \n",
      " 2   add_to_cart_order  4544171 non-null  float64\n",
      " 3   reordered          4545007 non-null  int64  \n",
      "dtypes: float64(1), int64(3)\n",
      "memory usage: 138.7 MB\n"
     ]
    }
   ],
   "source": [
    "order_products.info(show_counts=True)\n",
    "\n",
    "## missing data in add_to_cart and reordered column"
   ]
  },
  {
   "cell_type": "markdown",
   "id": "61bc84f6",
   "metadata": {},
   "source": [
    "### Step 2"
   ]
  },
  {
   "cell_type": "markdown",
   "id": "07357848-dc64-4156-9cc3-01ff4365226d",
   "metadata": {},
   "source": [
    "##### Find and remove duplicate values "
   ]
  },
  {
   "cell_type": "markdown",
   "id": "f179f0a9",
   "metadata": {},
   "source": [
    "##### `orders` data frame"
   ]
  },
  {
   "cell_type": "code",
   "execution_count": 12,
   "id": "b99297a5-405a-463d-8535-9adc3da4ad74",
   "metadata": {
    "tags": []
   },
   "outputs": [
    {
     "name": "stdout",
     "output_type": "stream",
     "text": [
      "15\n"
     ]
    }
   ],
   "source": [
    "# Check for duplicated orders\n",
    "\n",
    "print(orders.duplicated().sum())\n",
    "\n",
    "#print(orders['user_id'].value_counts())\n",
    "\n",
    "## There are 15 duplicate rows in the dataframe"
   ]
  },
  {
   "cell_type": "code",
   "execution_count": 13,
   "id": "0d44de5d",
   "metadata": {
    "tags": []
   },
   "outputs": [
    {
     "data": {
      "text/html": [
       "<div>\n",
       "<style scoped>\n",
       "    .dataframe tbody tr th:only-of-type {\n",
       "        vertical-align: middle;\n",
       "    }\n",
       "\n",
       "    .dataframe tbody tr th {\n",
       "        vertical-align: top;\n",
       "    }\n",
       "\n",
       "    .dataframe thead th {\n",
       "        text-align: right;\n",
       "    }\n",
       "</style>\n",
       "<table border=\"1\" class=\"dataframe\">\n",
       "  <thead>\n",
       "    <tr style=\"text-align: right;\">\n",
       "      <th></th>\n",
       "      <th>order_id</th>\n",
       "      <th>user_id</th>\n",
       "      <th>order_number</th>\n",
       "      <th>order_dow</th>\n",
       "      <th>order_hour_of_day</th>\n",
       "      <th>days_since_prior_order</th>\n",
       "    </tr>\n",
       "  </thead>\n",
       "  <tbody>\n",
       "    <tr>\n",
       "      <th>4838</th>\n",
       "      <td>2766110</td>\n",
       "      <td>162084</td>\n",
       "      <td>41</td>\n",
       "      <td>3</td>\n",
       "      <td>2</td>\n",
       "      <td>16.0</td>\n",
       "    </tr>\n",
       "    <tr>\n",
       "      <th>5156</th>\n",
       "      <td>2190225</td>\n",
       "      <td>138285</td>\n",
       "      <td>18</td>\n",
       "      <td>3</td>\n",
       "      <td>2</td>\n",
       "      <td>11.0</td>\n",
       "    </tr>\n",
       "    <tr>\n",
       "      <th>15506</th>\n",
       "      <td>553049</td>\n",
       "      <td>58599</td>\n",
       "      <td>13</td>\n",
       "      <td>3</td>\n",
       "      <td>2</td>\n",
       "      <td>7.0</td>\n",
       "    </tr>\n",
       "    <tr>\n",
       "      <th>18420</th>\n",
       "      <td>382357</td>\n",
       "      <td>120200</td>\n",
       "      <td>19</td>\n",
       "      <td>3</td>\n",
       "      <td>2</td>\n",
       "      <td>11.0</td>\n",
       "    </tr>\n",
       "    <tr>\n",
       "      <th>24691</th>\n",
       "      <td>690242</td>\n",
       "      <td>77357</td>\n",
       "      <td>2</td>\n",
       "      <td>3</td>\n",
       "      <td>2</td>\n",
       "      <td>9.0</td>\n",
       "    </tr>\n",
       "    <tr>\n",
       "      <th>...</th>\n",
       "      <td>...</td>\n",
       "      <td>...</td>\n",
       "      <td>...</td>\n",
       "      <td>...</td>\n",
       "      <td>...</td>\n",
       "      <td>...</td>\n",
       "    </tr>\n",
       "    <tr>\n",
       "      <th>457013</th>\n",
       "      <td>3384021</td>\n",
       "      <td>14881</td>\n",
       "      <td>6</td>\n",
       "      <td>3</td>\n",
       "      <td>2</td>\n",
       "      <td>30.0</td>\n",
       "    </tr>\n",
       "    <tr>\n",
       "      <th>458816</th>\n",
       "      <td>910166</td>\n",
       "      <td>164782</td>\n",
       "      <td>18</td>\n",
       "      <td>3</td>\n",
       "      <td>2</td>\n",
       "      <td>4.0</td>\n",
       "    </tr>\n",
       "    <tr>\n",
       "      <th>459635</th>\n",
       "      <td>1680532</td>\n",
       "      <td>106435</td>\n",
       "      <td>6</td>\n",
       "      <td>3</td>\n",
       "      <td>2</td>\n",
       "      <td>21.0</td>\n",
       "    </tr>\n",
       "    <tr>\n",
       "      <th>468324</th>\n",
       "      <td>222962</td>\n",
       "      <td>54979</td>\n",
       "      <td>59</td>\n",
       "      <td>3</td>\n",
       "      <td>2</td>\n",
       "      <td>3.0</td>\n",
       "    </tr>\n",
       "    <tr>\n",
       "      <th>477526</th>\n",
       "      <td>2592344</td>\n",
       "      <td>46860</td>\n",
       "      <td>38</td>\n",
       "      <td>3</td>\n",
       "      <td>2</td>\n",
       "      <td>3.0</td>\n",
       "    </tr>\n",
       "  </tbody>\n",
       "</table>\n",
       "<p>121 rows × 6 columns</p>\n",
       "</div>"
      ],
      "text/plain": [
       "        order_id  user_id  order_number  order_dow  order_hour_of_day  \\\n",
       "4838     2766110   162084            41          3                  2   \n",
       "5156     2190225   138285            18          3                  2   \n",
       "15506     553049    58599            13          3                  2   \n",
       "18420     382357   120200            19          3                  2   \n",
       "24691     690242    77357             2          3                  2   \n",
       "...          ...      ...           ...        ...                ...   \n",
       "457013   3384021    14881             6          3                  2   \n",
       "458816    910166   164782            18          3                  2   \n",
       "459635   1680532   106435             6          3                  2   \n",
       "468324    222962    54979            59          3                  2   \n",
       "477526   2592344    46860            38          3                  2   \n",
       "\n",
       "        days_since_prior_order  \n",
       "4838                      16.0  \n",
       "5156                      11.0  \n",
       "15506                      7.0  \n",
       "18420                     11.0  \n",
       "24691                      9.0  \n",
       "...                        ...  \n",
       "457013                    30.0  \n",
       "458816                     4.0  \n",
       "459635                    21.0  \n",
       "468324                     3.0  \n",
       "477526                     3.0  \n",
       "\n",
       "[121 rows x 6 columns]"
      ]
     },
     "metadata": {},
     "output_type": "display_data"
    }
   ],
   "source": [
    "# Check for all orders placed Wednesday at 2:00 AM\n",
    "\n",
    "display(orders[(orders['order_dow'] == 3) & (orders['order_hour_of_day'] == 2)])\n",
    "\n",
    "## See all orders that were placed on Wednesday at 2am."
   ]
  },
  {
   "cell_type": "code",
   "execution_count": 14,
   "id": "480563c7",
   "metadata": {
    "tags": []
   },
   "outputs": [],
   "source": [
    "# Remove duplicate orders\n",
    "\n",
    "orders=orders.drop_duplicates()\n",
    "\n",
    "## using drop duplictaes method to remove the duplicated rows."
   ]
  },
  {
   "cell_type": "code",
   "execution_count": 15,
   "id": "0b2396a2",
   "metadata": {
    "tags": []
   },
   "outputs": [
    {
     "name": "stdout",
     "output_type": "stream",
     "text": [
      "0\n"
     ]
    }
   ],
   "source": [
    "# Double check for duplicate rows\n",
    "\n",
    "print(orders.duplicated().sum())\n",
    "\n",
    "## Duplicates have been dealt with"
   ]
  },
  {
   "cell_type": "code",
   "execution_count": 16,
   "id": "f6113ef1",
   "metadata": {
    "tags": []
   },
   "outputs": [
    {
     "name": "stdout",
     "output_type": "stream",
     "text": [
      "order_id\n",
      "1515936    1\n",
      "2365274    1\n",
      "336622     1\n",
      "684027     1\n",
      "1115132    1\n",
      "          ..\n",
      "2578130    1\n",
      "1034057    1\n",
      "597364     1\n",
      "2142471    1\n",
      "2071924    1\n",
      "Name: count, Length: 478952, dtype: int64\n"
     ]
    }
   ],
   "source": [
    "# Double check for duplicate order IDs only\n",
    "\n",
    "print(orders['order_id'].value_counts())\n",
    "\n",
    "## Entries duplicated most frequently appear at the top of the list, and in our case there are no duplicated IDs that appear."
   ]
  },
  {
   "cell_type": "markdown",
   "id": "45e6bc46",
   "metadata": {},
   "source": [
    "##### `products` data frame"
   ]
  },
  {
   "cell_type": "code",
   "execution_count": 17,
   "id": "5f526b5b-8175-46fa-a0fd-441767d50e64",
   "metadata": {
    "tags": []
   },
   "outputs": [
    {
     "name": "stdout",
     "output_type": "stream",
     "text": [
      "0\n"
     ]
    }
   ],
   "source": [
    "# Check for fully duplicate rows\n",
    "\n",
    "print(products.duplicated().sum())\n",
    "\n",
    "## No duplcitaed rows in products.\n"
   ]
  },
  {
   "cell_type": "code",
   "execution_count": 18,
   "id": "88daa4f4",
   "metadata": {
    "tags": []
   },
   "outputs": [
    {
     "name": "stdout",
     "output_type": "stream",
     "text": [
      "product_id\n",
      "1        1\n",
      "33146    1\n",
      "33124    1\n",
      "33125    1\n",
      "33126    1\n",
      "        ..\n",
      "16568    1\n",
      "16569    1\n",
      "16570    1\n",
      "16571    1\n",
      "49694    1\n",
      "Name: count, Length: 49694, dtype: int64\n"
     ]
    }
   ],
   "source": [
    "# Check for just duplicate product IDs\n",
    "\n",
    "print(products['product_id'].value_counts())\n",
    "\n",
    "# No duplicated product_id appear.\n"
   ]
  },
  {
   "cell_type": "code",
   "execution_count": 19,
   "id": "c773f0bf",
   "metadata": {
    "tags": []
   },
   "outputs": [
    {
     "name": "stdout",
     "output_type": "stream",
     "text": [
      "product_name\n",
      "green tea with ginseng and honey                                        3\n",
      "carrot and celery sticks                                                2\n",
      "apricot energy bar                                                      2\n",
      "top the tater chive & onion sour cream                                  2\n",
      "proactive health indoor weight & hairball care with chicken cat food    2\n",
      "                                                                       ..\n",
      "all natural chicken apple sausage                                       1\n",
      "quartered artichoke hearts                                              1\n",
      "big eye ipa                                                             1\n",
      "unstopables lush                                                        1\n",
      "fresh foaming cleanser                                                  1\n",
      "Name: count, Length: 48332, dtype: int64\n"
     ]
    }
   ],
   "source": [
    "# Check for just duplicate product names (convert names to lowercase to compare better)\n",
    "\n",
    "products['product_name']=products['product_name'].str.lower()\n",
    "\n",
    "print(products['product_name'].value_counts())\n",
    "\n",
    "## Some products are bought more than once. Green tea with genseng and honey seems to be more popular. "
   ]
  },
  {
   "cell_type": "code",
   "execution_count": 20,
   "id": "01efd02e",
   "metadata": {
    "tags": []
   },
   "outputs": [
    {
     "name": "stdout",
     "output_type": "stream",
     "text": [
      "       product_id                                     product_name  aisle_id  \\\n",
      "2058         2059                                  biotin 1000 mcg        47   \n",
      "5455         5456                 green tea with ginseng and honey        96   \n",
      "5558         5559                           cream of mushroom soup        69   \n",
      "7558         7559                        cinnamon rolls with icing       105   \n",
      "9037         9038                           american cheese slices        21   \n",
      "...           ...                                              ...       ...   \n",
      "49689       49690                    high performance energy drink        64   \n",
      "49690       49691                    original pancake & waffle mix       130   \n",
      "49691       49692  organic instant oatmeal light maple brown sugar       130   \n",
      "49692       49693                           spring water body wash       127   \n",
      "49693       49694                          burrito- steak & cheese        38   \n",
      "\n",
      "       department_id  \n",
      "2058              11  \n",
      "5455              20  \n",
      "5558              15  \n",
      "7558              13  \n",
      "9037              16  \n",
      "...              ...  \n",
      "49689              7  \n",
      "49690             14  \n",
      "49691             14  \n",
      "49692             11  \n",
      "49693              1  \n",
      "\n",
      "[104 rows x 4 columns]\n"
     ]
    }
   ],
   "source": [
    "# Check for duplicate product names that aren't missing\n",
    "\n",
    "duplicate_products = products[\n",
    "    (products['product_name'].duplicated()) & \n",
    "    (~products['product_name'].isna()) \n",
    "]\n",
    "\n",
    "print(duplicate_products)\n",
    "\n",
    "## See dataframe that meets the conditions. "
   ]
  },
  {
   "cell_type": "markdown",
   "id": "60f30db1",
   "metadata": {},
   "source": [
    "##### `departments` data frame"
   ]
  },
  {
   "cell_type": "code",
   "execution_count": 21,
   "id": "fb410ad4-0fbf-4b80-bb09-23fdea79afe3",
   "metadata": {
    "tags": []
   },
   "outputs": [
    {
     "name": "stdout",
     "output_type": "stream",
     "text": [
      "0\n"
     ]
    }
   ],
   "source": [
    "# Check for duplicated orders\n",
    "\n",
    "print(departments.duplicated().sum())\n",
    "\n",
    "## No duplicated rows in departments dataframe. "
   ]
  },
  {
   "cell_type": "markdown",
   "id": "889349c1",
   "metadata": {},
   "source": [
    "##### `aisles` data frame"
   ]
  },
  {
   "cell_type": "code",
   "execution_count": 22,
   "id": "9da89fb9-4679-40f5-ad0d-c34df753a3f8",
   "metadata": {
    "tags": []
   },
   "outputs": [
    {
     "name": "stdout",
     "output_type": "stream",
     "text": [
      "0\n"
     ]
    }
   ],
   "source": [
    "print(aisles.duplicated().sum())\n",
    "\n",
    "\n",
    "## No duplicated rows in aisles dataframe. "
   ]
  },
  {
   "cell_type": "markdown",
   "id": "274cd06a",
   "metadata": {},
   "source": [
    "##### `order_products` data frame"
   ]
  },
  {
   "cell_type": "code",
   "execution_count": 23,
   "id": "52326689-84a8-4b8f-a881-7c68780f62c9",
   "metadata": {
    "tags": []
   },
   "outputs": [
    {
     "name": "stdout",
     "output_type": "stream",
     "text": [
      "0\n"
     ]
    }
   ],
   "source": [
    "# Check for fullly duplicate rows\n",
    "print(order_products.duplicated().sum())\n",
    "\n",
    "\n",
    "\n",
    "## No duplicated rows in order_products dataframe. \n"
   ]
  },
  {
   "cell_type": "code",
   "execution_count": 24,
   "id": "7b861391",
   "metadata": {},
   "outputs": [
    {
     "name": "stdout",
     "output_type": "stream",
     "text": [
      "Empty DataFrame\n",
      "Columns: [order_id, product_id, add_to_cart_order, reordered]\n",
      "Index: []\n"
     ]
    }
   ],
   "source": [
    "# Double check for any other tricky duplicates\n",
    "\n",
    "duplicates=order_products[order_products.duplicated()]\n",
    "\n",
    "print(duplicates)\n",
    "\n",
    "## This shows the actual rows that are duplicated and there are none. "
   ]
  },
  {
   "cell_type": "code",
   "execution_count": 25,
   "id": "d3f6e5c8-e3ec-4cba-bc03-26985134f0e2",
   "metadata": {
    "tags": []
   },
   "outputs": [],
   "source": [
    "#print(order_products['order_id'].value_counts())"
   ]
  },
  {
   "cell_type": "markdown",
   "id": "1e46de76",
   "metadata": {},
   "source": [
    "### Find and remove missing values\n"
   ]
  },
  {
   "cell_type": "markdown",
   "id": "c0aebd78",
   "metadata": {},
   "source": [
    "##### `products` data frame"
   ]
  },
  {
   "cell_type": "code",
   "execution_count": 26,
   "id": "fe4a8b0f",
   "metadata": {},
   "outputs": [
    {
     "name": "stdout",
     "output_type": "stream",
     "text": [
      "<class 'pandas.core.frame.DataFrame'>\n",
      "RangeIndex: 49694 entries, 0 to 49693\n",
      "Data columns (total 4 columns):\n",
      " #   Column         Non-Null Count  Dtype \n",
      "---  ------         --------------  ----- \n",
      " 0   product_id     49694 non-null  int64 \n",
      " 1   product_name   48436 non-null  object\n",
      " 2   aisle_id       49694 non-null  int64 \n",
      " 3   department_id  49694 non-null  int64 \n",
      "dtypes: int64(3), object(1)\n",
      "memory usage: 1.5+ MB\n"
     ]
    }
   ],
   "source": [
    "products.info()"
   ]
  },
  {
   "cell_type": "code",
   "execution_count": 27,
   "id": "e96167bc",
   "metadata": {},
   "outputs": [
    {
     "name": "stdout",
     "output_type": "stream",
     "text": [
      "       product_id product_name  aisle_id  department_id\n",
      "37             38          NaN       100             21\n",
      "71             72          NaN       100             21\n",
      "109           110          NaN       100             21\n",
      "296           297          NaN       100             21\n",
      "416           417          NaN       100             21\n",
      "...           ...          ...       ...            ...\n",
      "49552       49553          NaN       100             21\n",
      "49574       49575          NaN       100             21\n",
      "49640       49641          NaN       100             21\n",
      "49663       49664          NaN       100             21\n",
      "49668       49669          NaN       100             21\n",
      "\n",
      "[1258 rows x 4 columns]\n"
     ]
    }
   ],
   "source": [
    "# Are all of the missing product names associated with aisle ID 100?\n",
    "\n",
    "\n",
    "filtered = products[(products['aisle_id'] == 100) & (products['product_name'].isna())]\n",
    "\n",
    "print(filtered)\n",
    "\n",
    "\n",
    "## product names associated with ailse_id 100 are missing."
   ]
  },
  {
   "cell_type": "code",
   "execution_count": 28,
   "id": "8fd0a541",
   "metadata": {},
   "outputs": [
    {
     "name": "stdout",
     "output_type": "stream",
     "text": [
      "       product_id product_name  aisle_id  department_id\n",
      "37             38          NaN       100             21\n",
      "71             72          NaN       100             21\n",
      "109           110          NaN       100             21\n",
      "296           297          NaN       100             21\n",
      "416           417          NaN       100             21\n",
      "...           ...          ...       ...            ...\n",
      "49552       49553          NaN       100             21\n",
      "49574       49575          NaN       100             21\n",
      "49640       49641          NaN       100             21\n",
      "49663       49664          NaN       100             21\n",
      "49668       49669          NaN       100             21\n",
      "\n",
      "[1258 rows x 4 columns]\n"
     ]
    }
   ],
   "source": [
    "# Are all of the missing product names associated with department ID 21?\n",
    "\n",
    "filtered = products[(products['department_id'] == 21) & (products['product_name'].isna())]\n",
    "\n",
    "print(filtered)\n",
    "\n",
    "## Missing product names are also associated with department id 21. \n"
   ]
  },
  {
   "cell_type": "code",
   "execution_count": 29,
   "id": "325c3464",
   "metadata": {},
   "outputs": [],
   "source": [
    "# What is this ailse and department?\n",
    "\n",
    "\n",
    "## Missing product names are associated with aisle id=100 and department id=21. "
   ]
  },
  {
   "cell_type": "code",
   "execution_count": 30,
   "id": "6b295120",
   "metadata": {},
   "outputs": [],
   "source": [
    "# Fill missing product names with 'Unknown'\n",
    "\n",
    "products['product_name'] = products['product_name'].fillna(value='Unknown')"
   ]
  },
  {
   "cell_type": "code",
   "execution_count": 31,
   "id": "83a5f8a8-6d57-49f5-902f-f376bd306e28",
   "metadata": {
    "tags": []
   },
   "outputs": [
    {
     "name": "stdout",
     "output_type": "stream",
     "text": [
      "<class 'pandas.core.frame.DataFrame'>\n",
      "RangeIndex: 49694 entries, 0 to 49693\n",
      "Data columns (total 4 columns):\n",
      " #   Column         Non-Null Count  Dtype \n",
      "---  ------         --------------  ----- \n",
      " 0   product_id     49694 non-null  int64 \n",
      " 1   product_name   49694 non-null  object\n",
      " 2   aisle_id       49694 non-null  int64 \n",
      " 3   department_id  49694 non-null  int64 \n",
      "dtypes: int64(3), object(1)\n",
      "memory usage: 1.5+ MB\n"
     ]
    }
   ],
   "source": [
    "\n",
    "## Double check if any missing values\n",
    "\n",
    "products.info()"
   ]
  },
  {
   "cell_type": "markdown",
   "id": "7eb45c86",
   "metadata": {},
   "source": [
    "##### `orders` data frame"
   ]
  },
  {
   "cell_type": "code",
   "execution_count": 32,
   "id": "93e41d96",
   "metadata": {},
   "outputs": [
    {
     "name": "stdout",
     "output_type": "stream",
     "text": [
      "<class 'pandas.core.frame.DataFrame'>\n",
      "Index: 478952 entries, 0 to 478966\n",
      "Data columns (total 6 columns):\n",
      " #   Column                  Non-Null Count   Dtype  \n",
      "---  ------                  --------------   -----  \n",
      " 0   order_id                478952 non-null  int64  \n",
      " 1   user_id                 478952 non-null  int64  \n",
      " 2   order_number            478952 non-null  int64  \n",
      " 3   order_dow               478952 non-null  int64  \n",
      " 4   order_hour_of_day       478952 non-null  int64  \n",
      " 5   days_since_prior_order  450135 non-null  float64\n",
      "dtypes: float64(1), int64(5)\n",
      "memory usage: 25.6 MB\n"
     ]
    }
   ],
   "source": [
    "orders.info()\n",
    "\n",
    "## missing data in days_since_prior_order column"
   ]
  },
  {
   "cell_type": "code",
   "execution_count": 33,
   "id": "79f28799-44b7-4719-aafa-0b6b27c9e90e",
   "metadata": {
    "tags": []
   },
   "outputs": [
    {
     "data": {
      "text/plain": [
       "28817"
      ]
     },
     "execution_count": 33,
     "metadata": {},
     "output_type": "execute_result"
    }
   ],
   "source": [
    "orders['days_since_prior_order'].isna().sum()\n",
    "\n",
    "## double check sum of missing values "
   ]
  },
  {
   "cell_type": "code",
   "execution_count": 34,
   "id": "166e5a86",
   "metadata": {},
   "outputs": [
    {
     "name": "stdout",
     "output_type": "stream",
     "text": [
      "Empty DataFrame\n",
      "Columns: [order_id, user_id, order_number, order_dow, order_hour_of_day, days_since_prior_order]\n",
      "Index: []\n"
     ]
    }
   ],
   "source": [
    "# Are there any missing values where it's not a customer's first order?\n",
    "\n",
    "## Checking Not first order and has missing values in any rows in entire dataframe\n",
    "filtered = orders[(orders['order_number'] > 1) & (orders.isna().any(axis=1))] ## checks all rows for missing values \n",
    "print(filtered.head())\n",
    "\n",
    "## The dataframe is empty, so this suggets that there are no missing values where it's a customer's first order."
   ]
  },
  {
   "cell_type": "code",
   "execution_count": 35,
   "id": "b3cb0600-9bd5-4ede-af2b-35cd77ad7bc4",
   "metadata": {
    "tags": []
   },
   "outputs": [
    {
     "data": {
      "text/plain": [
       "count    450135.000000\n",
       "mean         11.101814\n",
       "std           9.190004\n",
       "min           0.000000\n",
       "25%           4.000000\n",
       "50%           7.000000\n",
       "75%          15.000000\n",
       "max          30.000000\n",
       "Name: days_since_prior_order, dtype: float64"
      ]
     },
     "execution_count": 35,
     "metadata": {},
     "output_type": "execute_result"
    }
   ],
   "source": [
    "## Identify and fill in missing values\n",
    "\n",
    "## Step 1: check for outliers\n",
    "orders.describe()['days_since_prior_order']\n",
    "\n",
    "## Looking at describe method there are no outliers. There are no values greater than max or lower than min."
   ]
  },
  {
   "cell_type": "code",
   "execution_count": 36,
   "id": "9f92f57d-f978-4193-a886-2ece3a25ecf9",
   "metadata": {
    "tags": []
   },
   "outputs": [
    {
     "data": {
      "image/png": "[encoded data removed]",
      "text/plain": [
       "<Figure size 640x480 with 1 Axes>"
      ]
     },
     "metadata": {},
     "output_type": "display_data"
    }
   ],
   "source": [
    "## Step 2: Look at histogram\n",
    "\n",
    "\n",
    "\n",
    "orders.hist(column='days_since_prior_order')\n",
    "\n",
    "plt.show()\n",
    "\n",
    "## There's a notable spike in the 25-30 day range, but this does not indicate any outliers. \n"
   ]
  },
  {
   "cell_type": "code",
   "execution_count": 37,
   "id": "a32c9cd8-3176-48a0-96a7-c88a205a227c",
   "metadata": {
    "tags": []
   },
   "outputs": [
    {
     "name": "stdout",
     "output_type": "stream",
     "text": [
      "Mean: 11.101813900274362\n"
     ]
    },
    {
     "name": "stderr",
     "output_type": "stream",
     "text": [
      "C:\\Users\\candi\\AppData\\Local\\Temp\\ipykernel_54292\\1043710560.py:6: SettingWithCopyWarning: \n",
      "A value is trying to be set on a copy of a slice from a DataFrame.\n",
      "Try using .loc[row_indexer,col_indexer] = value instead\n",
      "\n",
      "See the caveats in the documentation: https://pandas.pydata.org/pandas-docs/stable/user_guide/indexing.html#returning-a-view-versus-a-copy\n",
      "  orders['days_since_prior_order'] = orders['days_since_prior_order'].fillna(avg_days_since_prior_order)\n"
     ]
    }
   ],
   "source": [
    "## Step 3:  No clear outliers, so I will use mean to fill missing values in the days_since_prior_order column\n",
    "\n",
    "avg_days_since_prior_order= orders['days_since_prior_order'].mean()\n",
    "print(\"Mean:\", avg_days_since_prior_order)\n",
    "\n",
    "orders['days_since_prior_order'] = orders['days_since_prior_order'].fillna(avg_days_since_prior_order)"
   ]
  },
  {
   "cell_type": "code",
   "execution_count": 38,
   "id": "af2fccaa-7145-4aa3-8b8f-f63384a9020f",
   "metadata": {
    "tags": []
   },
   "outputs": [
    {
     "name": "stdout",
     "output_type": "stream",
     "text": [
      "<class 'pandas.core.frame.DataFrame'>\n",
      "Index: 478952 entries, 0 to 478966\n",
      "Data columns (total 6 columns):\n",
      " #   Column                  Non-Null Count   Dtype  \n",
      "---  ------                  --------------   -----  \n",
      " 0   order_id                478952 non-null  int64  \n",
      " 1   user_id                 478952 non-null  int64  \n",
      " 2   order_number            478952 non-null  int64  \n",
      " 3   order_dow               478952 non-null  int64  \n",
      " 4   order_hour_of_day       478952 non-null  int64  \n",
      " 5   days_since_prior_order  478952 non-null  float64\n",
      "dtypes: float64(1), int64(5)\n",
      "memory usage: 25.6 MB\n"
     ]
    }
   ],
   "source": [
    "orders.info()\n",
    "\n",
    "## missing values in 'days_since_prior_order' column have been filled with the mean"
   ]
  },
  {
   "cell_type": "code",
   "execution_count": 39,
   "id": "ff732181-205c-483d-b61a-7f40d7288ac7",
   "metadata": {
    "scrolled": true,
    "tags": []
   },
   "outputs": [
    {
     "name": "stdout",
     "output_type": "stream",
     "text": [
      "<class 'pandas.core.frame.DataFrame'>\n",
      "Index: 478952 entries, 0 to 478966\n",
      "Data columns (total 6 columns):\n",
      " #   Column                  Non-Null Count   Dtype\n",
      "---  ------                  --------------   -----\n",
      " 0   order_id                478952 non-null  int64\n",
      " 1   user_id                 478952 non-null  int64\n",
      " 2   order_number            478952 non-null  int64\n",
      " 3   order_dow               478952 non-null  int64\n",
      " 4   order_hour_of_day       478952 non-null  int64\n",
      " 5   days_since_prior_order  478952 non-null  int32\n",
      "dtypes: int32(1), int64(5)\n",
      "memory usage: 23.8 MB\n"
     ]
    },
    {
     "name": "stderr",
     "output_type": "stream",
     "text": [
      "C:\\Users\\candi\\AppData\\Local\\Temp\\ipykernel_54292\\1703914637.py:4: SettingWithCopyWarning: \n",
      "A value is trying to be set on a copy of a slice from a DataFrame.\n",
      "Try using .loc[row_indexer,col_indexer] = value instead\n",
      "\n",
      "See the caveats in the documentation: https://pandas.pydata.org/pandas-docs/stable/user_guide/indexing.html#returning-a-view-versus-a-copy\n",
      "  orders['days_since_prior_order'] = orders['days_since_prior_order'].astype(int)\n"
     ]
    }
   ],
   "source": [
    "## I have filled missing values so now I will convert 'days_since_prior_order' column into an integer\n",
    "\n",
    "## Convert float to int\n",
    "orders['days_since_prior_order'] = orders['days_since_prior_order'].astype(int)\n",
    "\n",
    "orders.info()"
   ]
  },
  {
   "cell_type": "markdown",
   "id": "69dc9ca4",
   "metadata": {},
   "source": [
    "##### `order_products` data frame"
   ]
  },
  {
   "cell_type": "code",
   "execution_count": 40,
   "id": "b8240253",
   "metadata": {},
   "outputs": [
    {
     "name": "stdout",
     "output_type": "stream",
     "text": [
      "<class 'pandas.core.frame.DataFrame'>\n",
      "RangeIndex: 4545007 entries, 0 to 4545006\n",
      "Data columns (total 4 columns):\n",
      " #   Column             Non-Null Count    Dtype  \n",
      "---  ------             --------------    -----  \n",
      " 0   order_id           4545007 non-null  int64  \n",
      " 1   product_id         4545007 non-null  int64  \n",
      " 2   add_to_cart_order  4544171 non-null  float64\n",
      " 3   reordered          4545007 non-null  int64  \n",
      "dtypes: float64(1), int64(3)\n",
      "memory usage: 138.7 MB\n"
     ]
    }
   ],
   "source": [
    "order_products.info(show_counts=True)\n"
   ]
  },
  {
   "cell_type": "code",
   "execution_count": 41,
   "id": "4e1c88c1-b959-489a-9ff1-4b195f039993",
   "metadata": {
    "tags": []
   },
   "outputs": [],
   "source": [
    "## add_to_cart_order has missing values "
   ]
  },
  {
   "cell_type": "code",
   "execution_count": 42,
   "id": "9a78e5ee",
   "metadata": {},
   "outputs": [
    {
     "data": {
      "text/html": [
       "<div>\n",
       "<style scoped>\n",
       "    .dataframe tbody tr th:only-of-type {\n",
       "        vertical-align: middle;\n",
       "    }\n",
       "\n",
       "    .dataframe tbody tr th {\n",
       "        vertical-align: top;\n",
       "    }\n",
       "\n",
       "    .dataframe thead th {\n",
       "        text-align: right;\n",
       "    }\n",
       "</style>\n",
       "<table border=\"1\" class=\"dataframe\">\n",
       "  <thead>\n",
       "    <tr style=\"text-align: right;\">\n",
       "      <th></th>\n",
       "      <th>order_id</th>\n",
       "      <th>product_id</th>\n",
       "      <th>add_to_cart_order</th>\n",
       "      <th>reordered</th>\n",
       "    </tr>\n",
       "  </thead>\n",
       "  <tbody>\n",
       "    <tr>\n",
       "      <th>count</th>\n",
       "      <td>4.545007e+06</td>\n",
       "      <td>4.545007e+06</td>\n",
       "      <td>4.544171e+06</td>\n",
       "      <td>4.545007e+06</td>\n",
       "    </tr>\n",
       "    <tr>\n",
       "      <th>mean</th>\n",
       "      <td>1.711166e+06</td>\n",
       "      <td>2.558084e+04</td>\n",
       "      <td>8.351669e+00</td>\n",
       "      <td>5.905025e-01</td>\n",
       "    </tr>\n",
       "    <tr>\n",
       "      <th>std</th>\n",
       "      <td>9.850955e+05</td>\n",
       "      <td>1.409552e+04</td>\n",
       "      <td>7.080368e+00</td>\n",
       "      <td>4.917411e-01</td>\n",
       "    </tr>\n",
       "    <tr>\n",
       "      <th>min</th>\n",
       "      <td>4.000000e+00</td>\n",
       "      <td>1.000000e+00</td>\n",
       "      <td>1.000000e+00</td>\n",
       "      <td>0.000000e+00</td>\n",
       "    </tr>\n",
       "    <tr>\n",
       "      <th>25%</th>\n",
       "      <td>8.608170e+05</td>\n",
       "      <td>1.353500e+04</td>\n",
       "      <td>3.000000e+00</td>\n",
       "      <td>0.000000e+00</td>\n",
       "    </tr>\n",
       "    <tr>\n",
       "      <th>50%</th>\n",
       "      <td>1.711530e+06</td>\n",
       "      <td>2.527200e+04</td>\n",
       "      <td>6.000000e+00</td>\n",
       "      <td>1.000000e+00</td>\n",
       "    </tr>\n",
       "    <tr>\n",
       "      <th>75%</th>\n",
       "      <td>2.561311e+06</td>\n",
       "      <td>3.793500e+04</td>\n",
       "      <td>1.100000e+01</td>\n",
       "      <td>1.000000e+00</td>\n",
       "    </tr>\n",
       "    <tr>\n",
       "      <th>max</th>\n",
       "      <td>3.421079e+06</td>\n",
       "      <td>4.969400e+04</td>\n",
       "      <td>6.400000e+01</td>\n",
       "      <td>1.000000e+00</td>\n",
       "    </tr>\n",
       "  </tbody>\n",
       "</table>\n",
       "</div>"
      ],
      "text/plain": [
       "           order_id    product_id  add_to_cart_order     reordered\n",
       "count  4.545007e+06  4.545007e+06       4.544171e+06  4.545007e+06\n",
       "mean   1.711166e+06  2.558084e+04       8.351669e+00  5.905025e-01\n",
       "std    9.850955e+05  1.409552e+04       7.080368e+00  4.917411e-01\n",
       "min    4.000000e+00  1.000000e+00       1.000000e+00  0.000000e+00\n",
       "25%    8.608170e+05  1.353500e+04       3.000000e+00  0.000000e+00\n",
       "50%    1.711530e+06  2.527200e+04       6.000000e+00  1.000000e+00\n",
       "75%    2.561311e+06  3.793500e+04       1.100000e+01  1.000000e+00\n",
       "max    3.421079e+06  4.969400e+04       6.400000e+01  1.000000e+00"
      ]
     },
     "execution_count": 42,
     "metadata": {},
     "output_type": "execute_result"
    }
   ],
   "source": [
    "# What are the min and max values in this column?\n",
    "\n",
    "order_products.describe()\n",
    "\n",
    "## For add_to_cart_order column the min=1 and max=6.4."
   ]
  },
  {
   "cell_type": "code",
   "execution_count": 43,
   "id": "8c197e09",
   "metadata": {},
   "outputs": [
    {
     "name": "stdout",
     "output_type": "stream",
     "text": [
      "737        2449164\n",
      "9926       1968313\n",
      "14394      2926893\n",
      "16418      1717990\n",
      "30114      1959075\n",
      "            ...   \n",
      "4505662    1800005\n",
      "4511400    1633337\n",
      "4517562     404157\n",
      "4534112    1673227\n",
      "4535739    1832957\n",
      "Name: order_id, Length: 836, dtype: int64\n"
     ]
    }
   ],
   "source": [
    "\n",
    "# Save all order IDs with at least one missing value in 'add_to_cart_order'\n",
    "\n",
    "missing_order_rows = order_products[order_products['add_to_cart_order'].isna()]\n",
    "\n",
    "\n",
    "missing_order_ids=missing_order_rows['order_id']\n",
    "\n",
    "print(missing_order_ids)\n",
    "\n"
   ]
  },
  {
   "cell_type": "code",
   "execution_count": 44,
   "id": "a5cd580c",
   "metadata": {},
   "outputs": [
    {
     "name": "stdout",
     "output_type": "stream",
     "text": [
      "order_id\n",
      "9310        1\n",
      "61355      63\n",
      "102236     31\n",
      "129627      5\n",
      "165801      6\n",
      "           ..\n",
      "2999801     6\n",
      "3125735    22\n",
      "3308010    51\n",
      "3347453     7\n",
      "3383594     5\n",
      "Name: product_id, Length: 70, dtype: int64\n"
     ]
    },
    {
     "data": {
      "text/plain": [
       "63"
      ]
     },
     "execution_count": 44,
     "metadata": {},
     "output_type": "execute_result"
    }
   ],
   "source": [
    "\n",
    "# Do all orders with missing values have more than 64 products?\n",
    "# Save all order IDs with at least one missing value in 'add_to_cart_order'\n",
    "\n",
    "filtered = missing_order_rows.groupby('order_id')['product_id'].count()\n",
    "print(filtered)  \n",
    "max(filtered)\n",
    "\n",
    "# None have more than 64 products. The max is 63 products."
   ]
  },
  {
   "cell_type": "code",
   "execution_count": 45,
   "id": "7a987d08",
   "metadata": {},
   "outputs": [
    {
     "name": "stdout",
     "output_type": "stream",
     "text": [
      "<class 'pandas.core.frame.DataFrame'>\n",
      "RangeIndex: 4545007 entries, 0 to 4545006\n",
      "Data columns (total 4 columns):\n",
      " #   Column             Non-Null Count    Dtype\n",
      "---  ------             --------------    -----\n",
      " 0   order_id           4545007 non-null  int64\n",
      " 1   product_id         4545007 non-null  int64\n",
      " 2   add_to_cart_order  4545007 non-null  int32\n",
      " 3   reordered          4545007 non-null  int64\n",
      "dtypes: int32(1), int64(3)\n",
      "memory usage: 121.4 MB\n"
     ]
    }
   ],
   "source": [
    "# Replace missing values with 999 and convert column to integer type\n",
    "\n",
    "order_products['add_to_cart_order'] = order_products['add_to_cart_order'].fillna(999)\n",
    "\n",
    "\n",
    "## Convert float to int\n",
    "order_products['add_to_cart_order'] = order_products['add_to_cart_order'].astype(int)\n",
    "\n",
    "order_products.info(show_counts=True)\n"
   ]
  },
  {
   "cell_type": "code",
   "execution_count": 46,
   "id": "f96b66bd-8e68-48c1-b1f5-0b820781cd83",
   "metadata": {
    "tags": []
   },
   "outputs": [
    {
     "name": "stdout",
     "output_type": "stream",
     "text": [
      "Empty DataFrame\n",
      "Columns: [order_id, user_id, order_number, order_dow, order_hour_of_day, days_since_prior_order]\n",
      "Index: []\n"
     ]
    }
   ],
   "source": [
    "filtered = orders[(orders['order_number'] > 1) & (orders.isna().any(axis=1))] ## checks all rows for missing values \n",
    "print(filtered.head())\n"
   ]
  },
  {
   "cell_type": "code",
   "execution_count": 47,
   "id": "b7de7849-d893-4064-857b-b22c9a63f08b",
   "metadata": {
    "tags": []
   },
   "outputs": [
    {
     "data": {
      "text/plain": [
       "pandas.core.series.Series"
      ]
     },
     "execution_count": 47,
     "metadata": {},
     "output_type": "execute_result"
    }
   ],
   "source": [
    "type(orders['order_number'] > 1)"
   ]
  },
  {
   "cell_type": "markdown",
   "id": "turkish-kidney",
   "metadata": {},
   "source": [
    "### Step 3"
   ]
  },
  {
   "cell_type": "markdown",
   "id": "short-capability",
   "metadata": {},
   "source": [
    "##### [A1] Verify that the `'order_hour_of_day'` and `'order_dow'` values in the `orders` tables are sensible."
   ]
  },
  {
   "cell_type": "code",
   "execution_count": 48,
   "id": "growing-fruit",
   "metadata": {},
   "outputs": [
    {
     "data": {
      "text/html": [
       "<div>\n",
       "<style scoped>\n",
       "    .dataframe tbody tr th:only-of-type {\n",
       "        vertical-align: middle;\n",
       "    }\n",
       "\n",
       "    .dataframe tbody tr th {\n",
       "        vertical-align: top;\n",
       "    }\n",
       "\n",
       "    .dataframe thead th {\n",
       "        text-align: right;\n",
       "    }\n",
       "</style>\n",
       "<table border=\"1\" class=\"dataframe\">\n",
       "  <thead>\n",
       "    <tr style=\"text-align: right;\">\n",
       "      <th></th>\n",
       "      <th>order_id</th>\n",
       "      <th>user_id</th>\n",
       "      <th>order_number</th>\n",
       "      <th>order_dow</th>\n",
       "      <th>order_hour_of_day</th>\n",
       "      <th>days_since_prior_order</th>\n",
       "    </tr>\n",
       "  </thead>\n",
       "  <tbody>\n",
       "    <tr>\n",
       "      <th>count</th>\n",
       "      <td>4.789520e+05</td>\n",
       "      <td>478952.000000</td>\n",
       "      <td>478952.000000</td>\n",
       "      <td>478952.000000</td>\n",
       "      <td>478952.000000</td>\n",
       "      <td>478952.000000</td>\n",
       "    </tr>\n",
       "    <tr>\n",
       "      <th>mean</th>\n",
       "      <td>1.709953e+06</td>\n",
       "      <td>102966.654911</td>\n",
       "      <td>17.157563</td>\n",
       "      <td>2.775051</td>\n",
       "      <td>13.447034</td>\n",
       "      <td>11.095688</td>\n",
       "    </tr>\n",
       "    <tr>\n",
       "      <th>std</th>\n",
       "      <td>9.869537e+05</td>\n",
       "      <td>59525.292863</td>\n",
       "      <td>17.704457</td>\n",
       "      <td>2.045901</td>\n",
       "      <td>4.224567</td>\n",
       "      <td>8.909281</td>\n",
       "    </tr>\n",
       "    <tr>\n",
       "      <th>min</th>\n",
       "      <td>4.000000e+00</td>\n",
       "      <td>2.000000</td>\n",
       "      <td>1.000000</td>\n",
       "      <td>0.000000</td>\n",
       "      <td>0.000000</td>\n",
       "      <td>0.000000</td>\n",
       "    </tr>\n",
       "    <tr>\n",
       "      <th>25%</th>\n",
       "      <td>8.564698e+05</td>\n",
       "      <td>51413.750000</td>\n",
       "      <td>5.000000</td>\n",
       "      <td>1.000000</td>\n",
       "      <td>10.000000</td>\n",
       "      <td>5.000000</td>\n",
       "    </tr>\n",
       "    <tr>\n",
       "      <th>50%</th>\n",
       "      <td>1.709521e+06</td>\n",
       "      <td>102633.000000</td>\n",
       "      <td>11.000000</td>\n",
       "      <td>3.000000</td>\n",
       "      <td>13.000000</td>\n",
       "      <td>8.000000</td>\n",
       "    </tr>\n",
       "    <tr>\n",
       "      <th>75%</th>\n",
       "      <td>2.563002e+06</td>\n",
       "      <td>154419.000000</td>\n",
       "      <td>23.000000</td>\n",
       "      <td>5.000000</td>\n",
       "      <td>16.000000</td>\n",
       "      <td>15.000000</td>\n",
       "    </tr>\n",
       "    <tr>\n",
       "      <th>max</th>\n",
       "      <td>3.421079e+06</td>\n",
       "      <td>206209.000000</td>\n",
       "      <td>100.000000</td>\n",
       "      <td>6.000000</td>\n",
       "      <td>23.000000</td>\n",
       "      <td>30.000000</td>\n",
       "    </tr>\n",
       "  </tbody>\n",
       "</table>\n",
       "</div>"
      ],
      "text/plain": [
       "           order_id        user_id   order_number      order_dow  \\\n",
       "count  4.789520e+05  478952.000000  478952.000000  478952.000000   \n",
       "mean   1.709953e+06  102966.654911      17.157563       2.775051   \n",
       "std    9.869537e+05   59525.292863      17.704457       2.045901   \n",
       "min    4.000000e+00       2.000000       1.000000       0.000000   \n",
       "25%    8.564698e+05   51413.750000       5.000000       1.000000   \n",
       "50%    1.709521e+06  102633.000000      11.000000       3.000000   \n",
       "75%    2.563002e+06  154419.000000      23.000000       5.000000   \n",
       "max    3.421079e+06  206209.000000     100.000000       6.000000   \n",
       "\n",
       "       order_hour_of_day  days_since_prior_order  \n",
       "count      478952.000000           478952.000000  \n",
       "mean           13.447034               11.095688  \n",
       "std             4.224567                8.909281  \n",
       "min             0.000000                0.000000  \n",
       "25%            10.000000                5.000000  \n",
       "50%            13.000000                8.000000  \n",
       "75%            16.000000               15.000000  \n",
       "max            23.000000               30.000000  "
      ]
     },
     "execution_count": 48,
     "metadata": {},
     "output_type": "execute_result"
    }
   ],
   "source": [
    "orders.describe()\n",
    "\n",
    "## values are within the appropriate range"
   ]
  },
  {
   "cell_type": "code",
   "execution_count": 49,
   "id": "81dadeea-4737-43ab-b3b8-f8cc5ab20fe0",
   "metadata": {
    "tags": []
   },
   "outputs": [
    {
     "data": {
      "text/html": [
       "<div>\n",
       "<style scoped>\n",
       "    .dataframe tbody tr th:only-of-type {\n",
       "        vertical-align: middle;\n",
       "    }\n",
       "\n",
       "    .dataframe tbody tr th {\n",
       "        vertical-align: top;\n",
       "    }\n",
       "\n",
       "    .dataframe thead th {\n",
       "        text-align: right;\n",
       "    }\n",
       "</style>\n",
       "<table border=\"1\" class=\"dataframe\">\n",
       "  <thead>\n",
       "    <tr style=\"text-align: right;\">\n",
       "      <th></th>\n",
       "      <th>order_id</th>\n",
       "      <th>user_id</th>\n",
       "      <th>order_number</th>\n",
       "      <th>order_dow</th>\n",
       "      <th>order_hour_of_day</th>\n",
       "      <th>days_since_prior_order</th>\n",
       "    </tr>\n",
       "  </thead>\n",
       "  <tbody>\n",
       "    <tr>\n",
       "      <th>0</th>\n",
       "      <td>1515936</td>\n",
       "      <td>183418</td>\n",
       "      <td>11</td>\n",
       "      <td>6</td>\n",
       "      <td>13</td>\n",
       "      <td>30</td>\n",
       "    </tr>\n",
       "    <tr>\n",
       "      <th>1</th>\n",
       "      <td>1690866</td>\n",
       "      <td>163593</td>\n",
       "      <td>5</td>\n",
       "      <td>5</td>\n",
       "      <td>12</td>\n",
       "      <td>9</td>\n",
       "    </tr>\n",
       "    <tr>\n",
       "      <th>2</th>\n",
       "      <td>1454967</td>\n",
       "      <td>39980</td>\n",
       "      <td>4</td>\n",
       "      <td>5</td>\n",
       "      <td>19</td>\n",
       "      <td>2</td>\n",
       "    </tr>\n",
       "    <tr>\n",
       "      <th>3</th>\n",
       "      <td>1768857</td>\n",
       "      <td>82516</td>\n",
       "      <td>56</td>\n",
       "      <td>0</td>\n",
       "      <td>20</td>\n",
       "      <td>10</td>\n",
       "    </tr>\n",
       "    <tr>\n",
       "      <th>4</th>\n",
       "      <td>3007858</td>\n",
       "      <td>196724</td>\n",
       "      <td>2</td>\n",
       "      <td>4</td>\n",
       "      <td>12</td>\n",
       "      <td>17</td>\n",
       "    </tr>\n",
       "    <tr>\n",
       "      <th>...</th>\n",
       "      <td>...</td>\n",
       "      <td>...</td>\n",
       "      <td>...</td>\n",
       "      <td>...</td>\n",
       "      <td>...</td>\n",
       "      <td>...</td>\n",
       "    </tr>\n",
       "    <tr>\n",
       "      <th>478962</th>\n",
       "      <td>3210681</td>\n",
       "      <td>5617</td>\n",
       "      <td>5</td>\n",
       "      <td>1</td>\n",
       "      <td>14</td>\n",
       "      <td>7</td>\n",
       "    </tr>\n",
       "    <tr>\n",
       "      <th>478963</th>\n",
       "      <td>3270802</td>\n",
       "      <td>112087</td>\n",
       "      <td>2</td>\n",
       "      <td>3</td>\n",
       "      <td>13</td>\n",
       "      <td>6</td>\n",
       "    </tr>\n",
       "    <tr>\n",
       "      <th>478964</th>\n",
       "      <td>885349</td>\n",
       "      <td>82944</td>\n",
       "      <td>16</td>\n",
       "      <td>2</td>\n",
       "      <td>11</td>\n",
       "      <td>6</td>\n",
       "    </tr>\n",
       "    <tr>\n",
       "      <th>478965</th>\n",
       "      <td>216274</td>\n",
       "      <td>4391</td>\n",
       "      <td>3</td>\n",
       "      <td>3</td>\n",
       "      <td>8</td>\n",
       "      <td>8</td>\n",
       "    </tr>\n",
       "    <tr>\n",
       "      <th>478966</th>\n",
       "      <td>2071924</td>\n",
       "      <td>1730</td>\n",
       "      <td>18</td>\n",
       "      <td>1</td>\n",
       "      <td>14</td>\n",
       "      <td>15</td>\n",
       "    </tr>\n",
       "  </tbody>\n",
       "</table>\n",
       "<p>478952 rows × 6 columns</p>\n",
       "</div>"
      ],
      "text/plain": [
       "        order_id  user_id  order_number  order_dow  order_hour_of_day  \\\n",
       "0        1515936   183418            11          6                 13   \n",
       "1        1690866   163593             5          5                 12   \n",
       "2        1454967    39980             4          5                 19   \n",
       "3        1768857    82516            56          0                 20   \n",
       "4        3007858   196724             2          4                 12   \n",
       "...          ...      ...           ...        ...                ...   \n",
       "478962   3210681     5617             5          1                 14   \n",
       "478963   3270802   112087             2          3                 13   \n",
       "478964    885349    82944            16          2                 11   \n",
       "478965    216274     4391             3          3                  8   \n",
       "478966   2071924     1730            18          1                 14   \n",
       "\n",
       "        days_since_prior_order  \n",
       "0                           30  \n",
       "1                            9  \n",
       "2                            2  \n",
       "3                           10  \n",
       "4                           17  \n",
       "...                        ...  \n",
       "478962                       7  \n",
       "478963                       6  \n",
       "478964                       6  \n",
       "478965                       8  \n",
       "478966                      15  \n",
       "\n",
       "[478952 rows x 6 columns]"
      ]
     },
     "execution_count": 49,
     "metadata": {},
     "output_type": "execute_result"
    }
   ],
   "source": [
    "orders"
   ]
  },
  {
   "cell_type": "code",
   "execution_count": 50,
   "id": "f64d8d8a",
   "metadata": {},
   "outputs": [
    {
     "name": "stdout",
     "output_type": "stream",
     "text": [
      "[13 12 19 20 11  8 18 15 16  9 22 10  0 14 17  1  7  6  2 21  3 23  5  4]\n",
      "[6 5 0 4 3 1 2]\n"
     ]
    }
   ],
   "source": [
    "# unique() method \n",
    "print(orders['order_hour_of_day'].unique())\n",
    "print(orders['order_dow'].unique())"
   ]
  },
  {
   "cell_type": "markdown",
   "id": "a6743a70",
   "metadata": {},
   "source": [
    "##### [A2] What time of day do people shop for groceries?"
   ]
  },
  {
   "cell_type": "code",
   "execution_count": 51,
   "id": "d3634874-d51c-4648-809f-26bcca72c81f",
   "metadata": {
    "tags": []
   },
   "outputs": [
    {
     "name": "stdout",
     "output_type": "stream",
     "text": [
      "order_hour_of_day\n",
      "0      3180\n",
      "1      1763\n",
      "2       989\n",
      "3       770\n",
      "4       765\n",
      "5      1371\n",
      "6      4215\n",
      "7     13043\n",
      "8     25024\n",
      "9     35896\n",
      "10    40578\n",
      "11    40032\n",
      "12    38034\n",
      "13    39007\n",
      "14    39631\n",
      "15    39789\n",
      "16    38112\n",
      "17    31930\n",
      "18    25510\n",
      "19    19547\n",
      "20    14624\n",
      "21    11019\n",
      "22     8512\n",
      "23     5611\n",
      "Name: order_id, dtype: int64\n"
     ]
    }
   ],
   "source": [
    "order_hour = orders.groupby('order_hour_of_day')['order_id'].count()\n",
    "\n",
    "print(order_hour)"
   ]
  },
  {
   "cell_type": "code",
   "execution_count": 52,
   "id": "cf83efa0-87bd-4669-b455-f538fbd4c1af",
   "metadata": {
    "tags": []
   },
   "outputs": [
    {
     "data": {
      "image/png": "[encoded data removed]",
      "text/plain": [
       "<Figure size 640x480 with 1 Axes>"
      ]
     },
     "metadata": {},
     "output_type": "display_data"
    }
   ],
   "source": [
    "order_hour.plot(kind='bar')\n",
    "plt.title('Time of Day Customers Shop')\n",
    "plt.xlabel('Hour of Day')\n",
    "plt.ylabel('Number of Orders')\n",
    "plt.show()"
   ]
  },
  {
   "cell_type": "code",
   "execution_count": 53,
   "id": "41a27e17-89c4-4041-94ce-7dcd5bacd602",
   "metadata": {},
   "outputs": [],
   "source": [
    "## The busiest time of day that people shop is around 10 am to 5pm. With a spike around 10 am to 11am. After 5pm, shopping tapers off. "
   ]
  },
  {
   "cell_type": "markdown",
   "id": "documented-command",
   "metadata": {},
   "source": [
    "##### [A3] What day of the week do people shop for groceries?"
   ]
  },
  {
   "cell_type": "code",
   "execution_count": 54,
   "id": "chief-digit",
   "metadata": {},
   "outputs": [
    {
     "name": "stdout",
     "output_type": "stream",
     "text": [
      "order_dow\n",
      "0    84090\n",
      "1    82185\n",
      "2    65833\n",
      "3    60897\n",
      "4    59810\n",
      "5    63488\n",
      "6    62649\n",
      "Name: order_id, dtype: int64\n"
     ]
    }
   ],
   "source": [
    "order_day = orders.groupby('order_dow')['order_id'].count()\n",
    "\n",
    "print(order_day)\n",
    "\n",
    "## Data directory does not specify how days of the week map onto 0 to 6. So, I will assume 1=Monday and 0=Sunday.\n",
    "## The average day that most people shop appears to be on Wednesday."
   ]
  },
  {
   "cell_type": "code",
   "execution_count": 55,
   "id": "0449e403-7f0a-48a2-be48-cfe4ba3b5e09",
   "metadata": {},
   "outputs": [
    {
     "data": {
      "image/png": "[encoded data removed]",
      "text/plain": [
       "<Figure size 640x480 with 1 Axes>"
      ]
     },
     "metadata": {},
     "output_type": "display_data"
    }
   ],
   "source": [
    "order_day.plot(kind='bar')\n",
    "plt.title('Day of the Week Customers Shop')\n",
    "plt.xlabel('Day of Week')\n",
    "plt.ylabel('Number of Orders')\n",
    "plt.show()\n"
   ]
  },
  {
   "cell_type": "code",
   "execution_count": 56,
   "id": "22e7fd72-6ef4-46d6-9b4d-deb91aea8550",
   "metadata": {},
   "outputs": [],
   "source": [
    "## Using a bar graph to depict the categories in days of the week.  Sunday (0) is the busiest day of the week for shopping."
   ]
  },
  {
   "cell_type": "markdown",
   "id": "cutting-concert",
   "metadata": {},
   "source": [
    "##### [A4] How long do people wait until placing another order?"
   ]
  },
  {
   "cell_type": "code",
   "execution_count": 57,
   "id": "c231f523",
   "metadata": {},
   "outputs": [
    {
     "name": "stdout",
     "output_type": "stream",
     "text": [
      "11.095688085653677\n"
     ]
    }
   ],
   "source": [
    "print(orders['days_since_prior_order'].mean())\n"
   ]
  },
  {
   "cell_type": "code",
   "execution_count": 58,
   "id": "6892916f-24f4-4997-88e2-c0ae63dac2d1",
   "metadata": {
    "tags": []
   },
   "outputs": [
    {
     "name": "stdout",
     "output_type": "stream",
     "text": [
      "days_since_prior_order\n",
      "0      9589\n",
      "1     20179\n",
      "2     27138\n",
      "3     30224\n",
      "4     31006\n",
      "5     30096\n",
      "6     33930\n",
      "7     44577\n",
      "8     25361\n",
      "9     16753\n",
      "10    13309\n",
      "11    40284\n",
      "12    10658\n",
      "13    11737\n",
      "14    13992\n",
      "15     9416\n",
      "16     6587\n",
      "17     5498\n",
      "18     4971\n",
      "19     4939\n",
      "20     5302\n",
      "21     6448\n",
      "22     4514\n",
      "23     3337\n",
      "24     3015\n",
      "25     2711\n",
      "26     2640\n",
      "27     2986\n",
      "28     3745\n",
      "29     2673\n",
      "30    51337\n",
      "Name: order_id, dtype: int64\n"
     ]
    }
   ],
   "source": [
    "order_wait = orders.groupby('days_since_prior_order')['order_id'].count()\n",
    "\n",
    "print(order_wait)"
   ]
  },
  {
   "cell_type": "code",
   "execution_count": 59,
   "id": "exciting-fantasy",
   "metadata": {},
   "outputs": [
    {
     "data": {
      "image/png": "[encoded data removed]",
      "text/plain": [
       "<Figure size 640x480 with 1 Axes>"
      ]
     },
     "metadata": {},
     "output_type": "display_data"
    }
   ],
   "source": [
    "order_wait.plot(kind='bar')\n",
    "plt.title('Length of time between orders')\n",
    "plt.xlabel('Number of days since prior order')\n",
    "plt.ylabel('Number of Orders')\n",
    "plt.show()\n",
    "\n"
   ]
  },
  {
   "cell_type": "code",
   "execution_count": 60,
   "id": "d33c7e3d-ded9-4bce-8b76-40eec81e304e",
   "metadata": {},
   "outputs": [],
   "source": [
    "## The average number of days that people wait to place another order is 30 days."
   ]
  },
  {
   "cell_type": "markdown",
   "id": "tight-staff",
   "metadata": {},
   "source": [
    "#### Step 4"
   ]
  },
  {
   "cell_type": "markdown",
   "id": "packed-classic",
   "metadata": {},
   "source": [
    "##### [B1] Is there a difference in `'order_hour_of_day'` distributions on Wednesdays and Saturdays? Plot the histograms for both days and describe the differences that you see."
   ]
  },
  {
   "cell_type": "code",
   "execution_count": 61,
   "id": "d89b8403",
   "metadata": {},
   "outputs": [
    {
     "data": {
      "image/png": "[encoded data removed]",
      "text/plain": [
       "<Figure size 640x480 with 1 Axes>"
      ]
     },
     "metadata": {},
     "output_type": "display_data"
    }
   ],
   "source": [
    "from matplotlib import pyplot as plt\n",
    "\n",
    "# Plot hist for Wednesday (3)\n",
    "orders[orders['order_dow'] == 3]['order_hour_of_day'].plot(kind='hist', bins=24, alpha=0.5, label='Wednesday')\n",
    "\n",
    "# Plot hist for Saturday (6)\n",
    "orders[orders['order_dow'] == 6]['order_hour_of_day'].plot(kind='hist', bins=24, alpha=0.5, label='Saturday')\n",
    "\n",
    "# Title and labels\n",
    "plt.title('Hourly distribution of orders made on Wednesday & Saturday')\n",
    "plt.xlabel('Time of day in hours')\n",
    "plt.ylabel('Frequency of orders')\n",
    "\n",
    "\n",
    "plt.legend()\n",
    "plt.show()"
   ]
  },
  {
   "cell_type": "markdown",
   "id": "7d9f2718-ee71-4778-8a44-f9109ae42539",
   "metadata": {},
   "source": [
    "##### Remarks on Histogram \n",
    "\n",
    "Saturday generally has higher number of orders throughout the day, but there are more pronounced peaks and valleys in the Saturday graph suggesting increases and decreases in orders. Wednesday has a more even distribution.\n",
    "\n",
    "Morning: Both days show an increase starting around 5-6 AM.\n",
    "\n",
    "Midday peak: There's a spike in orders on Saturday around 3 PM (hour 15), which is much higher than any point on Wednesday.\n",
    "\n",
    "Afternoon:  Saturday maintains higher order volumes through the afternoon compared to Wednesday.\n",
    "\n",
    "Evening: Both days show declining orders in the evening.\n"
   ]
  },
  {
   "cell_type": "markdown",
   "id": "e3891143",
   "metadata": {},
   "source": [
    "##### [B2] What's the distribution for the number of orders per customer?"
   ]
  },
  {
   "cell_type": "code",
   "execution_count": 62,
   "id": "d8c26c23",
   "metadata": {},
   "outputs": [
    {
     "name": "stdout",
     "output_type": "stream",
     "text": [
      "user_id\n",
      "2         2\n",
      "4         2\n",
      "5         1\n",
      "6         2\n",
      "7         2\n",
      "         ..\n",
      "206203    1\n",
      "206206    7\n",
      "206207    5\n",
      "206208    9\n",
      "206209    2\n",
      "Name: order_id, Length: 157437, dtype: int64\n"
     ]
    }
   ],
   "source": [
    "## Number of orders per customer \n",
    "\n",
    "##'order_id': ID number that uniquely identifies each order\n",
    "##'user_id': ID number that uniquely identifies each customer account\n",
    "\n",
    "orders_per_customer = orders.groupby('user_id')['order_id'].count()\n",
    "\n",
    "print(orders_per_customer)\n"
   ]
  },
  {
   "cell_type": "code",
   "execution_count": 63,
   "id": "e05e6602-aa0d-4507-9ada-113d2a7a8681",
   "metadata": {},
   "outputs": [
    {
     "data": {
      "image/png": "[encoded data removed]",
      "text/plain": [
       "<Figure size 640x480 with 1 Axes>"
      ]
     },
     "metadata": {},
     "output_type": "display_data"
    }
   ],
   "source": [
    "orders_per_customer.plot(kind='hist')\n",
    "plt.title('Number of Orders per Customer')\n",
    "plt.xlabel('Number of Orders')\n",
    "plt.ylabel('Number of Customers')\n",
    "plt.show()\n"
   ]
  },
  {
   "cell_type": "code",
   "execution_count": 64,
   "id": "3b1a02ed-35e1-4865-b157-5dff4df999be",
   "metadata": {},
   "outputs": [],
   "source": [
    "## Most people place two orders. "
   ]
  },
  {
   "cell_type": "markdown",
   "id": "54a0319c",
   "metadata": {},
   "source": [
    "##### [B3] What are the top 20 popular products?"
   ]
  },
  {
   "cell_type": "code",
   "execution_count": 65,
   "id": "exterior-arizona",
   "metadata": {
    "scrolled": true
   },
   "outputs": [
    {
     "name": "stdout",
     "output_type": "stream",
     "text": [
      "product_name              product_id\n",
      "banana                    24852         66050\n",
      "bag of organic bananas    13176         53297\n",
      "organic strawberries      21137         37039\n",
      "organic baby spinach      21903         33971\n",
      "organic hass avocado      47209         29773\n",
      "organic avocado           47766         24689\n",
      "large lemon               47626         21495\n",
      "strawberries              16797         20018\n",
      "limes                     26209         19690\n",
      "organic whole milk        27845         19600\n",
      "organic raspberries       27966         19197\n",
      "organic yellow onion      22935         15898\n",
      "organic garlic            24964         15292\n",
      "organic zucchini          45007         14584\n",
      "organic blueberries       39275         13879\n",
      "cucumber kirby            49683         13675\n",
      "organic fuji apple        28204         12544\n",
      "organic lemon             5876          12232\n",
      "apple honeycrisp organic  8277          11993\n",
      "organic grape tomatoes    40706         11781\n",
      "Name: count, dtype: int64\n"
     ]
    }
   ],
   "source": [
    "\n",
    "##  Merge order_products with products data frame to get product names:\n",
    "\n",
    "merged_data = pd.merge(order_products, products, on='product_id', how='left')\n",
    "\n",
    "top_products = merged_data.groupby('product_name')['product_id'].value_counts().sort_values(ascending=False)\n",
    "\n",
    "print(top_products.head(20))\n"
   ]
  },
  {
   "cell_type": "code",
   "execution_count": 66,
   "id": "a834a70e-c585-448f-8ed9-c2b3c344f510",
   "metadata": {
    "tags": []
   },
   "outputs": [],
   "source": [
    "## Banana is most popular product."
   ]
  },
  {
   "cell_type": "markdown",
   "id": "gross-theme",
   "metadata": {},
   "source": [
    "#### Step 5"
   ]
  },
  {
   "cell_type": "markdown",
   "id": "romantic-deposit",
   "metadata": {},
   "source": [
    "##### [C1] How many items do people typically buy in one order? What does the distribution look like?"
   ]
  },
  {
   "cell_type": "code",
   "execution_count": 67,
   "id": "sensitive-breathing",
   "metadata": {},
   "outputs": [],
   "source": [
    "## Merge order_products with products dataframe\n",
    "\n",
    "merged = pd.merge(order_products, products, on='product_id')\n",
    "\n",
    "#merged"
   ]
  },
  {
   "cell_type": "code",
   "execution_count": 68,
   "id": "completed-frank",
   "metadata": {},
   "outputs": [
    {
     "name": "stdout",
     "output_type": "stream",
     "text": [
      "order_id\n",
      "4          13\n",
      "9          15\n",
      "11          5\n",
      "19          3\n",
      "20          8\n",
      "           ..\n",
      "3421034    17\n",
      "3421053     9\n",
      "3421071     5\n",
      "3421077     4\n",
      "3421079     1\n",
      "Name: product_id, Length: 450046, dtype: int64\n"
     ]
    }
   ],
   "source": [
    "## Calculate number of items per order (count of unique product_id per the order_id)\n",
    "\n",
    "items_per_order = merged.groupby('order_id')['product_id'].count()\n",
    "\n",
    "print(items_per_order)"
   ]
  },
  {
   "cell_type": "code",
   "execution_count": 69,
   "id": "9e8cea7d-44af-4dd4-8f74-cf331738ac05",
   "metadata": {
    "tags": []
   },
   "outputs": [
    {
     "data": {
      "image/png": "[encoded data removed]",
      "text/plain": [
       "<Figure size 640x480 with 1 Axes>"
      ]
     },
     "metadata": {},
     "output_type": "display_data"
    }
   ],
   "source": [
    "# Plot of items per order\n",
    "items_per_order.plot(kind='hist', bins=30, title='Number of Products Bought per Order')\n",
    "\n",
    "plt.xlabel('Number of Orders Made') #order_id\n",
    "plt.ylabel('Frequency of Products Ordered') ## product_id\n",
    "\n",
    "\n",
    "plt.show()"
   ]
  },
  {
   "cell_type": "code",
   "execution_count": 70,
   "id": "8cca6abc-9dee-471e-a598-8c4f9c562cef",
   "metadata": {},
   "outputs": [],
   "source": [
    "## People mostly order between 1 to 5 items per order."
   ]
  },
  {
   "cell_type": "markdown",
   "id": "5e6b5537",
   "metadata": {},
   "source": [
    "##### [C2] What are the top 20 items that are reordered most frequently (display their names and product IDs)?"
   ]
  },
  {
   "cell_type": "code",
   "execution_count": 71,
   "id": "9374e55a",
   "metadata": {},
   "outputs": [],
   "source": [
    "\n",
    "## Using order_products and products DF's."
   ]
  },
  {
   "cell_type": "code",
   "execution_count": 72,
   "id": "professional-surfing",
   "metadata": {
    "scrolled": true
   },
   "outputs": [],
   "source": [
    "\n",
    "## Filter orders for reordered items\n",
    "\n",
    "reordered_items = order_products[order_products['reordered'] == 1]\n",
    "#print(reordered_items)"
   ]
  },
  {
   "cell_type": "code",
   "execution_count": 73,
   "id": "f71f1d6f-2b50-4702-b2ae-5311f482328f",
   "metadata": {
    "tags": []
   },
   "outputs": [
    {
     "name": "stdout",
     "output_type": "stream",
     "text": [
      "       product_id  count\n",
      "0           24852  55763\n",
      "1           13176  44450\n",
      "2           21137  28639\n",
      "3           21903  26233\n",
      "4           47209  23629\n",
      "...           ...    ...\n",
      "36223       40133      1\n",
      "36224       12061      1\n",
      "36225       45095      1\n",
      "36226       46185      1\n",
      "36227       47673      1\n",
      "\n",
      "[36228 rows x 2 columns]\n"
     ]
    }
   ],
   "source": [
    "## Count the reorders for each product\n",
    "\n",
    "reordered_counts = reordered_items['product_id'].value_counts().reset_index()\n",
    "\n",
    "print(reordered_counts)\n",
    "\n",
    "reordered_counts.columns = ['product_id', 'reorder_count'] ## index becomes product_id and product_id becomes product_id"
   ]
  },
  {
   "cell_type": "code",
   "execution_count": 74,
   "id": "c04a30b4-b84f-4748-8a6c-fe7e42b9a351",
   "metadata": {
    "tags": []
   },
   "outputs": [],
   "source": [
    "## Merge the reorder counts with product details to get the product names\n",
    "top_reordered_products = pd.merge(reordered_counts, products, on='product_id')\n"
   ]
  },
  {
   "cell_type": "code",
   "execution_count": 75,
   "id": "7f59510e-0aac-4d8f-94a9-01454970d3f9",
   "metadata": {
    "tags": []
   },
   "outputs": [],
   "source": [
    "## Sort by reorder count and get the top 20 products\n",
    "top_20_reordered_products = top_reordered_products.sort_values(by='reorder_count', ascending=False).head(20)\n"
   ]
  },
  {
   "cell_type": "code",
   "execution_count": 76,
   "id": "3d35f8cc-2709-4dfc-a6c4-436fe09b3e20",
   "metadata": {
    "tags": []
   },
   "outputs": [
    {
     "data": {
      "text/html": [
       "<div>\n",
       "<style scoped>\n",
       "    .dataframe tbody tr th:only-of-type {\n",
       "        vertical-align: middle;\n",
       "    }\n",
       "\n",
       "    .dataframe tbody tr th {\n",
       "        vertical-align: top;\n",
       "    }\n",
       "\n",
       "    .dataframe thead th {\n",
       "        text-align: right;\n",
       "    }\n",
       "</style>\n",
       "<table border=\"1\" class=\"dataframe\">\n",
       "  <thead>\n",
       "    <tr style=\"text-align: right;\">\n",
       "      <th></th>\n",
       "      <th>product_id</th>\n",
       "      <th>product_name</th>\n",
       "      <th>reorder_count</th>\n",
       "    </tr>\n",
       "  </thead>\n",
       "  <tbody>\n",
       "    <tr>\n",
       "      <th>0</th>\n",
       "      <td>24852</td>\n",
       "      <td>banana</td>\n",
       "      <td>55763</td>\n",
       "    </tr>\n",
       "    <tr>\n",
       "      <th>1</th>\n",
       "      <td>13176</td>\n",
       "      <td>bag of organic bananas</td>\n",
       "      <td>44450</td>\n",
       "    </tr>\n",
       "    <tr>\n",
       "      <th>2</th>\n",
       "      <td>21137</td>\n",
       "      <td>organic strawberries</td>\n",
       "      <td>28639</td>\n",
       "    </tr>\n",
       "    <tr>\n",
       "      <th>3</th>\n",
       "      <td>21903</td>\n",
       "      <td>organic baby spinach</td>\n",
       "      <td>26233</td>\n",
       "    </tr>\n",
       "    <tr>\n",
       "      <th>4</th>\n",
       "      <td>47209</td>\n",
       "      <td>organic hass avocado</td>\n",
       "      <td>23629</td>\n",
       "    </tr>\n",
       "    <tr>\n",
       "      <th>5</th>\n",
       "      <td>47766</td>\n",
       "      <td>organic avocado</td>\n",
       "      <td>18743</td>\n",
       "    </tr>\n",
       "    <tr>\n",
       "      <th>6</th>\n",
       "      <td>27845</td>\n",
       "      <td>organic whole milk</td>\n",
       "      <td>16251</td>\n",
       "    </tr>\n",
       "    <tr>\n",
       "      <th>7</th>\n",
       "      <td>47626</td>\n",
       "      <td>large lemon</td>\n",
       "      <td>15044</td>\n",
       "    </tr>\n",
       "    <tr>\n",
       "      <th>8</th>\n",
       "      <td>27966</td>\n",
       "      <td>organic raspberries</td>\n",
       "      <td>14748</td>\n",
       "    </tr>\n",
       "    <tr>\n",
       "      <th>9</th>\n",
       "      <td>16797</td>\n",
       "      <td>strawberries</td>\n",
       "      <td>13945</td>\n",
       "    </tr>\n",
       "    <tr>\n",
       "      <th>10</th>\n",
       "      <td>26209</td>\n",
       "      <td>limes</td>\n",
       "      <td>13327</td>\n",
       "    </tr>\n",
       "    <tr>\n",
       "      <th>11</th>\n",
       "      <td>22935</td>\n",
       "      <td>organic yellow onion</td>\n",
       "      <td>11145</td>\n",
       "    </tr>\n",
       "    <tr>\n",
       "      <th>12</th>\n",
       "      <td>24964</td>\n",
       "      <td>organic garlic</td>\n",
       "      <td>10411</td>\n",
       "    </tr>\n",
       "    <tr>\n",
       "      <th>13</th>\n",
       "      <td>45007</td>\n",
       "      <td>organic zucchini</td>\n",
       "      <td>10076</td>\n",
       "    </tr>\n",
       "    <tr>\n",
       "      <th>14</th>\n",
       "      <td>49683</td>\n",
       "      <td>cucumber kirby</td>\n",
       "      <td>9538</td>\n",
       "    </tr>\n",
       "    <tr>\n",
       "      <th>15</th>\n",
       "      <td>28204</td>\n",
       "      <td>organic fuji apple</td>\n",
       "      <td>8989</td>\n",
       "    </tr>\n",
       "    <tr>\n",
       "      <th>16</th>\n",
       "      <td>8277</td>\n",
       "      <td>apple honeycrisp organic</td>\n",
       "      <td>8836</td>\n",
       "    </tr>\n",
       "    <tr>\n",
       "      <th>17</th>\n",
       "      <td>39275</td>\n",
       "      <td>organic blueberries</td>\n",
       "      <td>8799</td>\n",
       "    </tr>\n",
       "    <tr>\n",
       "      <th>18</th>\n",
       "      <td>5876</td>\n",
       "      <td>organic lemon</td>\n",
       "      <td>8412</td>\n",
       "    </tr>\n",
       "    <tr>\n",
       "      <th>19</th>\n",
       "      <td>49235</td>\n",
       "      <td>organic half &amp; half</td>\n",
       "      <td>8389</td>\n",
       "    </tr>\n",
       "  </tbody>\n",
       "</table>\n",
       "</div>"
      ],
      "text/plain": [
       "    product_id              product_name  reorder_count\n",
       "0        24852                    banana          55763\n",
       "1        13176    bag of organic bananas          44450\n",
       "2        21137      organic strawberries          28639\n",
       "3        21903      organic baby spinach          26233\n",
       "4        47209      organic hass avocado          23629\n",
       "5        47766           organic avocado          18743\n",
       "6        27845        organic whole milk          16251\n",
       "7        47626               large lemon          15044\n",
       "8        27966       organic raspberries          14748\n",
       "9        16797              strawberries          13945\n",
       "10       26209                     limes          13327\n",
       "11       22935      organic yellow onion          11145\n",
       "12       24964            organic garlic          10411\n",
       "13       45007          organic zucchini          10076\n",
       "14       49683            cucumber kirby           9538\n",
       "15       28204        organic fuji apple           8989\n",
       "16        8277  apple honeycrisp organic           8836\n",
       "17       39275       organic blueberries           8799\n",
       "18        5876             organic lemon           8412\n",
       "19       49235       organic half & half           8389"
      ]
     },
     "metadata": {},
     "output_type": "display_data"
    }
   ],
   "source": [
    "## Top 20 reordered products (id and name)\n",
    "\n",
    "\n",
    "from IPython.display import display\n",
    "display(top_20_reordered_products[['product_id', 'product_name', 'reorder_count']])"
   ]
  },
  {
   "cell_type": "code",
   "execution_count": 77,
   "id": "6a4603e6-e0e5-4a71-8190-bff3251a6aef",
   "metadata": {},
   "outputs": [],
   "source": [
    "##Banana's are the most frequent reorders."
   ]
  },
  {
   "cell_type": "markdown",
   "id": "9d312b14",
   "metadata": {},
   "source": [
    "##### [C3] For each product, what proportion of its orders are reorders?"
   ]
  },
  {
   "cell_type": "code",
   "execution_count": 78,
   "id": "d9279b7a-0b92-4b52-894e-b64014fcdce9",
   "metadata": {},
   "outputs": [],
   "source": [
    "# Need Orders and products dataframes"
   ]
  },
  {
   "cell_type": "code",
   "execution_count": 79,
   "id": "103e7fe1",
   "metadata": {},
   "outputs": [],
   "source": [
    "# Calculate the number of reorders for each product\n",
    "reorders = order_products.groupby('product_id')['reordered'].sum()\n",
    "\n",
    "# Calculate the total number of orders for each product\n",
    "total_orders = order_products.groupby('product_id').size()\n",
    "\n",
    "# Calculate the reorder proportion for each product\n",
    "reorder_proportion = reorders / total_orders\n",
    "\n",
    "# Convert this to a DataFrame for better readability and presentation\n",
    "data_to_display = pd.DataFrame({\n",
    "    'Total orders': total_orders,\n",
    "    'Reorders': reorders,\n",
    "    'Reorder proportion': reorder_proportion\n",
    "}).reset_index()"
   ]
  },
  {
   "cell_type": "code",
   "execution_count": 80,
   "id": "social-individual",
   "metadata": {},
   "outputs": [
    {
     "data": {
      "text/html": [
       "<div>\n",
       "<style scoped>\n",
       "    .dataframe tbody tr th:only-of-type {\n",
       "        vertical-align: middle;\n",
       "    }\n",
       "\n",
       "    .dataframe tbody tr th {\n",
       "        vertical-align: top;\n",
       "    }\n",
       "\n",
       "    .dataframe thead th {\n",
       "        text-align: right;\n",
       "    }\n",
       "</style>\n",
       "<table border=\"1\" class=\"dataframe\">\n",
       "  <thead>\n",
       "    <tr style=\"text-align: right;\">\n",
       "      <th></th>\n",
       "      <th>product_id</th>\n",
       "      <th>product_name</th>\n",
       "      <th>Total orders</th>\n",
       "      <th>Reorders</th>\n",
       "      <th>Reorder proportion</th>\n",
       "    </tr>\n",
       "  </thead>\n",
       "  <tbody>\n",
       "    <tr>\n",
       "      <th>0</th>\n",
       "      <td>1</td>\n",
       "      <td>chocolate sandwich cookies</td>\n",
       "      <td>280</td>\n",
       "      <td>158</td>\n",
       "      <td>0.564286</td>\n",
       "    </tr>\n",
       "    <tr>\n",
       "      <th>1</th>\n",
       "      <td>2</td>\n",
       "      <td>all-seasons salt</td>\n",
       "      <td>11</td>\n",
       "      <td>0</td>\n",
       "      <td>0.000000</td>\n",
       "    </tr>\n",
       "    <tr>\n",
       "      <th>2</th>\n",
       "      <td>3</td>\n",
       "      <td>robust golden unsweetened oolong tea</td>\n",
       "      <td>42</td>\n",
       "      <td>31</td>\n",
       "      <td>0.738095</td>\n",
       "    </tr>\n",
       "    <tr>\n",
       "      <th>3</th>\n",
       "      <td>4</td>\n",
       "      <td>smart ones classic favorites mini rigatoni wit...</td>\n",
       "      <td>49</td>\n",
       "      <td>25</td>\n",
       "      <td>0.510204</td>\n",
       "    </tr>\n",
       "    <tr>\n",
       "      <th>4</th>\n",
       "      <td>7</td>\n",
       "      <td>pure coconut water with orange</td>\n",
       "      <td>2</td>\n",
       "      <td>1</td>\n",
       "      <td>0.500000</td>\n",
       "    </tr>\n",
       "  </tbody>\n",
       "</table>\n",
       "</div>"
      ],
      "text/plain": [
       "   product_id                                       product_name  \\\n",
       "0           1                         chocolate sandwich cookies   \n",
       "1           2                                   all-seasons salt   \n",
       "2           3               robust golden unsweetened oolong tea   \n",
       "3           4  smart ones classic favorites mini rigatoni wit...   \n",
       "4           7                     pure coconut water with orange   \n",
       "\n",
       "   Total orders  Reorders  Reorder proportion  \n",
       "0           280       158            0.564286  \n",
       "1            11         0            0.000000  \n",
       "2            42        31            0.738095  \n",
       "3            49        25            0.510204  \n",
       "4             2         1            0.500000  "
      ]
     },
     "metadata": {},
     "output_type": "display_data"
    }
   ],
   "source": [
    "# Merge with the products dataframe to get product names using an 'inner' join\n",
    "data_to_display = data_to_display.merge(products, on='product_id', how='inner')[['product_id', 'product_name', 'Total orders', 'Reorders', 'Reorder proportion']]\n",
    "\n",
    "\n",
    "display(data_to_display.head())"
   ]
  },
  {
   "cell_type": "code",
   "execution_count": 81,
   "id": "d7104610-2b67-4cc6-b3d2-8b4ec8131398",
   "metadata": {},
   "outputs": [],
   "source": [
    "## The reorder count of 158 and the reorder proportion of 56.43% suggest good customer retention for chocolate sandwhich cookies. "
   ]
  },
  {
   "cell_type": "code",
   "execution_count": 82,
   "id": "a01c629f-5487-4fc6-94ba-9253f213f27b",
   "metadata": {
    "tags": []
   },
   "outputs": [
    {
     "data": {
      "text/html": [
       "<div>\n",
       "<style scoped>\n",
       "    .dataframe tbody tr th:only-of-type {\n",
       "        vertical-align: middle;\n",
       "    }\n",
       "\n",
       "    .dataframe tbody tr th {\n",
       "        vertical-align: top;\n",
       "    }\n",
       "\n",
       "    .dataframe thead th {\n",
       "        text-align: right;\n",
       "    }\n",
       "</style>\n",
       "<table border=\"1\" class=\"dataframe\">\n",
       "  <thead>\n",
       "    <tr style=\"text-align: right;\">\n",
       "      <th></th>\n",
       "      <th>product_id</th>\n",
       "      <th>product_name</th>\n",
       "      <th>Total orders</th>\n",
       "      <th>Reorders</th>\n",
       "      <th>Reorder proportion</th>\n",
       "    </tr>\n",
       "  </thead>\n",
       "  <tbody>\n",
       "    <tr>\n",
       "      <th>13453</th>\n",
       "      <td>14721</td>\n",
       "      <td>bone strength take care</td>\n",
       "      <td>1</td>\n",
       "      <td>1</td>\n",
       "      <td>1.0</td>\n",
       "    </tr>\n",
       "    <tr>\n",
       "      <th>19195</th>\n",
       "      <td>20949</td>\n",
       "      <td>vanilla sandwich cookies</td>\n",
       "      <td>3</td>\n",
       "      <td>3</td>\n",
       "      <td>1.0</td>\n",
       "    </tr>\n",
       "    <tr>\n",
       "      <th>6136</th>\n",
       "      <td>6723</td>\n",
       "      <td>palmiers- petite</td>\n",
       "      <td>10</td>\n",
       "      <td>10</td>\n",
       "      <td>1.0</td>\n",
       "    </tr>\n",
       "    <tr>\n",
       "      <th>6144</th>\n",
       "      <td>6732</td>\n",
       "      <td>naturally sparkling mineral water</td>\n",
       "      <td>3</td>\n",
       "      <td>3</td>\n",
       "      <td>1.0</td>\n",
       "    </tr>\n",
       "    <tr>\n",
       "      <th>41319</th>\n",
       "      <td>45088</td>\n",
       "      <td>california dill pollen &amp; garlic goat cheese &amp; ...</td>\n",
       "      <td>1</td>\n",
       "      <td>1</td>\n",
       "      <td>1.0</td>\n",
       "    </tr>\n",
       "    <tr>\n",
       "      <th>41310</th>\n",
       "      <td>45078</td>\n",
       "      <td>pomegranatea</td>\n",
       "      <td>1</td>\n",
       "      <td>1</td>\n",
       "      <td>1.0</td>\n",
       "    </tr>\n",
       "    <tr>\n",
       "      <th>19258</th>\n",
       "      <td>21016</td>\n",
       "      <td>parchment lined 8 in x 3.75 in x 2.5 in pans</td>\n",
       "      <td>1</td>\n",
       "      <td>1</td>\n",
       "      <td>1.0</td>\n",
       "    </tr>\n",
       "    <tr>\n",
       "      <th>19248</th>\n",
       "      <td>21005</td>\n",
       "      <td>peanut butter pie ice cream</td>\n",
       "      <td>2</td>\n",
       "      <td>2</td>\n",
       "      <td>1.0</td>\n",
       "    </tr>\n",
       "    <tr>\n",
       "      <th>32273</th>\n",
       "      <td>35192</td>\n",
       "      <td>chocolate soy milk singles</td>\n",
       "      <td>2</td>\n",
       "      <td>2</td>\n",
       "      <td>1.0</td>\n",
       "    </tr>\n",
       "    <tr>\n",
       "      <th>32277</th>\n",
       "      <td>35197</td>\n",
       "      <td>mocha chocolate chip  organic non-dairy frozen...</td>\n",
       "      <td>1</td>\n",
       "      <td>1</td>\n",
       "      <td>1.0</td>\n",
       "    </tr>\n",
       "  </tbody>\n",
       "</table>\n",
       "</div>"
      ],
      "text/plain": [
       "       product_id                                       product_name  \\\n",
       "13453       14721                            bone strength take care   \n",
       "19195       20949                           vanilla sandwich cookies   \n",
       "6136         6723                                   palmiers- petite   \n",
       "6144         6732                  naturally sparkling mineral water   \n",
       "41319       45088  california dill pollen & garlic goat cheese & ...   \n",
       "41310       45078                                       pomegranatea   \n",
       "19258       21016       parchment lined 8 in x 3.75 in x 2.5 in pans   \n",
       "19248       21005                        peanut butter pie ice cream   \n",
       "32273       35192                         chocolate soy milk singles   \n",
       "32277       35197  mocha chocolate chip  organic non-dairy frozen...   \n",
       "\n",
       "       Total orders  Reorders  Reorder proportion  \n",
       "13453             1         1                 1.0  \n",
       "19195             3         3                 1.0  \n",
       "6136             10        10                 1.0  \n",
       "6144              3         3                 1.0  \n",
       "41319             1         1                 1.0  \n",
       "41310             1         1                 1.0  \n",
       "19258             1         1                 1.0  \n",
       "19248             2         2                 1.0  \n",
       "32273             2         2                 1.0  \n",
       "32277             1         1                 1.0  "
      ]
     },
     "metadata": {},
     "output_type": "display_data"
    }
   ],
   "source": [
    "top10= data_to_display.sort_values(by='Reorder proportion', ascending=False).head(10)\n",
    "\n",
    "display(top10)"
   ]
  },
  {
   "cell_type": "code",
   "execution_count": 83,
   "id": "0146fccf-017e-4394-90ce-8df253632af9",
   "metadata": {},
   "outputs": [],
   "source": [
    "## Some products have excellent customer satisfaction since they have a reorder proportion of 100%. "
   ]
  },
  {
   "cell_type": "markdown",
   "id": "subject-boxing",
   "metadata": {},
   "source": [
    "##### [C4] For each customer, what proportion of their products ordered are reorders?"
   ]
  },
  {
   "cell_type": "code",
   "execution_count": 84,
   "id": "50a808b0-1488-46a1-a6c1-c7aaf34e610e",
   "metadata": {
    "tags": []
   },
   "outputs": [
    {
     "name": "stdout",
     "output_type": "stream",
     "text": [
      "<class 'pandas.core.frame.DataFrame'>\n",
      "RangeIndex: 4545007 entries, 0 to 4545006\n",
      "Data columns (total 9 columns):\n",
      " #   Column                  Dtype\n",
      "---  ------                  -----\n",
      " 0   order_id                int64\n",
      " 1   user_id                 int64\n",
      " 2   order_number            int64\n",
      " 3   order_dow               int64\n",
      " 4   order_hour_of_day       int64\n",
      " 5   days_since_prior_order  int32\n",
      " 6   product_id              int64\n",
      " 7   add_to_cart_order       int32\n",
      " 8   reordered               int64\n",
      "dtypes: int32(2), int64(7)\n",
      "memory usage: 277.4 MB\n",
      "None\n"
     ]
    }
   ],
   "source": [
    "## merge orders and order_products \n",
    "merged = pd.merge(orders, order_products, on='order_id')\n",
    "\n",
    "\n",
    "print(merged.info())"
   ]
  },
  {
   "cell_type": "code",
   "execution_count": 85,
   "id": "89a62a35",
   "metadata": {},
   "outputs": [
    {
     "data": {
      "text/html": [
       "<div>\n",
       "<style scoped>\n",
       "    .dataframe tbody tr th:only-of-type {\n",
       "        vertical-align: middle;\n",
       "    }\n",
       "\n",
       "    .dataframe tbody tr th {\n",
       "        vertical-align: top;\n",
       "    }\n",
       "\n",
       "    .dataframe thead th {\n",
       "        text-align: right;\n",
       "    }\n",
       "</style>\n",
       "<table border=\"1\" class=\"dataframe\">\n",
       "  <thead>\n",
       "    <tr style=\"text-align: right;\">\n",
       "      <th></th>\n",
       "      <th>order_id</th>\n",
       "      <th>user_id</th>\n",
       "      <th>order_number</th>\n",
       "      <th>order_dow</th>\n",
       "      <th>order_hour_of_day</th>\n",
       "      <th>days_since_prior_order</th>\n",
       "      <th>product_id</th>\n",
       "      <th>add_to_cart_order</th>\n",
       "      <th>reordered</th>\n",
       "    </tr>\n",
       "  </thead>\n",
       "  <tbody>\n",
       "    <tr>\n",
       "      <th>0</th>\n",
       "      <td>1515936</td>\n",
       "      <td>183418</td>\n",
       "      <td>11</td>\n",
       "      <td>6</td>\n",
       "      <td>13</td>\n",
       "      <td>30</td>\n",
       "      <td>19048</td>\n",
       "      <td>1</td>\n",
       "      <td>1</td>\n",
       "    </tr>\n",
       "    <tr>\n",
       "      <th>1</th>\n",
       "      <td>1515936</td>\n",
       "      <td>183418</td>\n",
       "      <td>11</td>\n",
       "      <td>6</td>\n",
       "      <td>13</td>\n",
       "      <td>30</td>\n",
       "      <td>47766</td>\n",
       "      <td>3</td>\n",
       "      <td>1</td>\n",
       "    </tr>\n",
       "    <tr>\n",
       "      <th>2</th>\n",
       "      <td>1515936</td>\n",
       "      <td>183418</td>\n",
       "      <td>11</td>\n",
       "      <td>6</td>\n",
       "      <td>13</td>\n",
       "      <td>30</td>\n",
       "      <td>45066</td>\n",
       "      <td>9</td>\n",
       "      <td>0</td>\n",
       "    </tr>\n",
       "    <tr>\n",
       "      <th>3</th>\n",
       "      <td>1515936</td>\n",
       "      <td>183418</td>\n",
       "      <td>11</td>\n",
       "      <td>6</td>\n",
       "      <td>13</td>\n",
       "      <td>30</td>\n",
       "      <td>24082</td>\n",
       "      <td>11</td>\n",
       "      <td>0</td>\n",
       "    </tr>\n",
       "    <tr>\n",
       "      <th>4</th>\n",
       "      <td>1515936</td>\n",
       "      <td>183418</td>\n",
       "      <td>11</td>\n",
       "      <td>6</td>\n",
       "      <td>13</td>\n",
       "      <td>30</td>\n",
       "      <td>24363</td>\n",
       "      <td>4</td>\n",
       "      <td>0</td>\n",
       "    </tr>\n",
       "    <tr>\n",
       "      <th>...</th>\n",
       "      <td>...</td>\n",
       "      <td>...</td>\n",
       "      <td>...</td>\n",
       "      <td>...</td>\n",
       "      <td>...</td>\n",
       "      <td>...</td>\n",
       "      <td>...</td>\n",
       "      <td>...</td>\n",
       "      <td>...</td>\n",
       "    </tr>\n",
       "    <tr>\n",
       "      <th>4545002</th>\n",
       "      <td>2071924</td>\n",
       "      <td>1730</td>\n",
       "      <td>18</td>\n",
       "      <td>1</td>\n",
       "      <td>14</td>\n",
       "      <td>15</td>\n",
       "      <td>1503</td>\n",
       "      <td>17</td>\n",
       "      <td>0</td>\n",
       "    </tr>\n",
       "    <tr>\n",
       "      <th>4545003</th>\n",
       "      <td>2071924</td>\n",
       "      <td>1730</td>\n",
       "      <td>18</td>\n",
       "      <td>1</td>\n",
       "      <td>14</td>\n",
       "      <td>15</td>\n",
       "      <td>4778</td>\n",
       "      <td>12</td>\n",
       "      <td>1</td>\n",
       "    </tr>\n",
       "    <tr>\n",
       "      <th>4545004</th>\n",
       "      <td>2071924</td>\n",
       "      <td>1730</td>\n",
       "      <td>18</td>\n",
       "      <td>1</td>\n",
       "      <td>14</td>\n",
       "      <td>15</td>\n",
       "      <td>11512</td>\n",
       "      <td>1</td>\n",
       "      <td>1</td>\n",
       "    </tr>\n",
       "    <tr>\n",
       "      <th>4545005</th>\n",
       "      <td>2071924</td>\n",
       "      <td>1730</td>\n",
       "      <td>18</td>\n",
       "      <td>1</td>\n",
       "      <td>14</td>\n",
       "      <td>15</td>\n",
       "      <td>4920</td>\n",
       "      <td>6</td>\n",
       "      <td>1</td>\n",
       "    </tr>\n",
       "    <tr>\n",
       "      <th>4545006</th>\n",
       "      <td>2071924</td>\n",
       "      <td>1730</td>\n",
       "      <td>18</td>\n",
       "      <td>1</td>\n",
       "      <td>14</td>\n",
       "      <td>15</td>\n",
       "      <td>17678</td>\n",
       "      <td>4</td>\n",
       "      <td>1</td>\n",
       "    </tr>\n",
       "  </tbody>\n",
       "</table>\n",
       "<p>4545007 rows × 9 columns</p>\n",
       "</div>"
      ],
      "text/plain": [
       "         order_id  user_id  order_number  order_dow  order_hour_of_day  \\\n",
       "0         1515936   183418            11          6                 13   \n",
       "1         1515936   183418            11          6                 13   \n",
       "2         1515936   183418            11          6                 13   \n",
       "3         1515936   183418            11          6                 13   \n",
       "4         1515936   183418            11          6                 13   \n",
       "...           ...      ...           ...        ...                ...   \n",
       "4545002   2071924     1730            18          1                 14   \n",
       "4545003   2071924     1730            18          1                 14   \n",
       "4545004   2071924     1730            18          1                 14   \n",
       "4545005   2071924     1730            18          1                 14   \n",
       "4545006   2071924     1730            18          1                 14   \n",
       "\n",
       "         days_since_prior_order  product_id  add_to_cart_order  reordered  \n",
       "0                            30       19048                  1          1  \n",
       "1                            30       47766                  3          1  \n",
       "2                            30       45066                  9          0  \n",
       "3                            30       24082                 11          0  \n",
       "4                            30       24363                  4          0  \n",
       "...                         ...         ...                ...        ...  \n",
       "4545002                      15        1503                 17          0  \n",
       "4545003                      15        4778                 12          1  \n",
       "4545004                      15       11512                  1          1  \n",
       "4545005                      15        4920                  6          1  \n",
       "4545006                      15       17678                  4          1  \n",
       "\n",
       "[4545007 rows x 9 columns]"
      ]
     },
     "execution_count": 85,
     "metadata": {},
     "output_type": "execute_result"
    }
   ],
   "source": [
    "merged"
   ]
  },
  {
   "cell_type": "code",
   "execution_count": 86,
   "id": "f5b58972-c1a2-4fc7-85f2-fd14ba566bf5",
   "metadata": {
    "tags": []
   },
   "outputs": [],
   "source": [
    "# Calculate the total number of products ordered by each customer\n",
    "total_products = merged.groupby('user_id')['product_id'].count()\n",
    "\n"
   ]
  },
  {
   "cell_type": "code",
   "execution_count": 87,
   "id": "399d98c7",
   "metadata": {},
   "outputs": [],
   "source": [
    "# Calculate the number of reorders for each customer\n",
    "reorders = merged[merged['reordered'] == 1].groupby('user_id')['product_id'].count()\n",
    "\n"
   ]
  },
  {
   "cell_type": "code",
   "execution_count": 88,
   "id": "670eb9bd",
   "metadata": {},
   "outputs": [
    {
     "name": "stdout",
     "output_type": "stream",
     "text": [
      "user_id\n",
      "2         0.038462\n",
      "4              NaN\n",
      "5         0.666667\n",
      "6              NaN\n",
      "7         0.928571\n",
      "            ...   \n",
      "206203    0.222222\n",
      "206206    0.714286\n",
      "206207    0.891304\n",
      "206208    0.696000\n",
      "206209    0.320000\n",
      "Name: product_id, Length: 149626, dtype: float64\n"
     ]
    }
   ],
   "source": [
    "# Calculate the reorder proportion for each customer\n",
    "reorder_proportion = reorders / total_products\n",
    "\n",
    "print(reorder_proportion)"
   ]
  },
  {
   "cell_type": "code",
   "execution_count": 89,
   "id": "a903dd0b-cee2-4c50-b6b3-a2672de4dce9",
   "metadata": {
    "tags": []
   },
   "outputs": [],
   "source": [
    "# Convert this to a DataFrame \n",
    "data_to_display = pd.DataFrame({\n",
    "    'Total products': total_products,\n",
    "    'Reorders': reorders,\n",
    "    'Reorder proportion': reorder_proportion,\n",
    "\n",
    "}).reset_index()\n",
    "\n"
   ]
  },
  {
   "cell_type": "code",
   "execution_count": 90,
   "id": "705738d3-2d2a-42ce-bdbe-51140609b129",
   "metadata": {
    "tags": []
   },
   "outputs": [
    {
     "data": {
      "text/html": [
       "<div>\n",
       "<style scoped>\n",
       "    .dataframe tbody tr th:only-of-type {\n",
       "        vertical-align: middle;\n",
       "    }\n",
       "\n",
       "    .dataframe tbody tr th {\n",
       "        vertical-align: top;\n",
       "    }\n",
       "\n",
       "    .dataframe thead th {\n",
       "        text-align: right;\n",
       "    }\n",
       "</style>\n",
       "<table border=\"1\" class=\"dataframe\">\n",
       "  <thead>\n",
       "    <tr style=\"text-align: right;\">\n",
       "      <th></th>\n",
       "      <th>user_id</th>\n",
       "      <th>Total products</th>\n",
       "      <th>Reorders</th>\n",
       "      <th>Reorder proportion</th>\n",
       "    </tr>\n",
       "  </thead>\n",
       "  <tbody>\n",
       "    <tr>\n",
       "      <th>0</th>\n",
       "      <td>2</td>\n",
       "      <td>26</td>\n",
       "      <td>1.0</td>\n",
       "      <td>0.038462</td>\n",
       "    </tr>\n",
       "    <tr>\n",
       "      <th>1</th>\n",
       "      <td>4</td>\n",
       "      <td>2</td>\n",
       "      <td>NaN</td>\n",
       "      <td>NaN</td>\n",
       "    </tr>\n",
       "    <tr>\n",
       "      <th>2</th>\n",
       "      <td>5</td>\n",
       "      <td>12</td>\n",
       "      <td>8.0</td>\n",
       "      <td>0.666667</td>\n",
       "    </tr>\n",
       "    <tr>\n",
       "      <th>3</th>\n",
       "      <td>6</td>\n",
       "      <td>4</td>\n",
       "      <td>NaN</td>\n",
       "      <td>NaN</td>\n",
       "    </tr>\n",
       "    <tr>\n",
       "      <th>4</th>\n",
       "      <td>7</td>\n",
       "      <td>14</td>\n",
       "      <td>13.0</td>\n",
       "      <td>0.928571</td>\n",
       "    </tr>\n",
       "    <tr>\n",
       "      <th>...</th>\n",
       "      <td>...</td>\n",
       "      <td>...</td>\n",
       "      <td>...</td>\n",
       "      <td>...</td>\n",
       "    </tr>\n",
       "    <tr>\n",
       "      <th>149621</th>\n",
       "      <td>206203</td>\n",
       "      <td>27</td>\n",
       "      <td>6.0</td>\n",
       "      <td>0.222222</td>\n",
       "    </tr>\n",
       "    <tr>\n",
       "      <th>149622</th>\n",
       "      <td>206206</td>\n",
       "      <td>21</td>\n",
       "      <td>15.0</td>\n",
       "      <td>0.714286</td>\n",
       "    </tr>\n",
       "    <tr>\n",
       "      <th>149623</th>\n",
       "      <td>206207</td>\n",
       "      <td>46</td>\n",
       "      <td>41.0</td>\n",
       "      <td>0.891304</td>\n",
       "    </tr>\n",
       "    <tr>\n",
       "      <th>149624</th>\n",
       "      <td>206208</td>\n",
       "      <td>125</td>\n",
       "      <td>87.0</td>\n",
       "      <td>0.696000</td>\n",
       "    </tr>\n",
       "    <tr>\n",
       "      <th>149625</th>\n",
       "      <td>206209</td>\n",
       "      <td>25</td>\n",
       "      <td>8.0</td>\n",
       "      <td>0.320000</td>\n",
       "    </tr>\n",
       "  </tbody>\n",
       "</table>\n",
       "<p>149626 rows × 4 columns</p>\n",
       "</div>"
      ],
      "text/plain": [
       "        user_id  Total products  Reorders  Reorder proportion\n",
       "0             2              26       1.0            0.038462\n",
       "1             4               2       NaN                 NaN\n",
       "2             5              12       8.0            0.666667\n",
       "3             6               4       NaN                 NaN\n",
       "4             7              14      13.0            0.928571\n",
       "...         ...             ...       ...                 ...\n",
       "149621   206203              27       6.0            0.222222\n",
       "149622   206206              21      15.0            0.714286\n",
       "149623   206207              46      41.0            0.891304\n",
       "149624   206208             125      87.0            0.696000\n",
       "149625   206209              25       8.0            0.320000\n",
       "\n",
       "[149626 rows x 4 columns]"
      ]
     },
     "metadata": {},
     "output_type": "display_data"
    }
   ],
   "source": [
    "display(data_to_display)"
   ]
  },
  {
   "cell_type": "markdown",
   "id": "92d35137",
   "metadata": {},
   "source": [
    "##### [C5] What are the top 20 items that people put in their carts first? "
   ]
  },
  {
   "cell_type": "code",
   "execution_count": 91,
   "id": "0ae57274",
   "metadata": {
    "scrolled": true
   },
   "outputs": [],
   "source": [
    "## Filter to get first items added to cart\n",
    "first_items = order_products[order_products['add_to_cart_order'] == 1]"
   ]
  },
  {
   "cell_type": "code",
   "execution_count": 92,
   "id": "forty-netherlands",
   "metadata": {
    "scrolled": true
   },
   "outputs": [],
   "source": [
    "\n",
    "##  Merge with the products dataframe to get the product names\n",
    "first_items_merged = first_items.merge(products, on='product_id')\n",
    "\n",
    "\n",
    "## Group by product_id and product_name, count the instances, and sort\n",
    "first_20 = first_items_merged.groupby(['product_id', 'product_name']).size().sort_values(ascending=False).head(20)"
   ]
  },
  {
   "cell_type": "code",
   "execution_count": 93,
   "id": "08e41ec2",
   "metadata": {},
   "outputs": [
    {
     "name": "stdout",
     "output_type": "stream",
     "text": [
      "product_id  product_name               \n",
      "24852       banana                         15562\n",
      "13176       bag of organic bananas         11026\n",
      "27845       organic whole milk              4363\n",
      "21137       organic strawberries            3946\n",
      "47209       organic hass avocado            3390\n",
      "21903       organic baby spinach            3336\n",
      "47766       organic avocado                 3044\n",
      "19660       spring water                    2336\n",
      "16797       strawberries                    2308\n",
      "27966       organic raspberries             2024\n",
      "44632       sparkling water grapefruit      1914\n",
      "49235       organic half & half             1797\n",
      "47626       large lemon                     1737\n",
      "196         soda                            1733\n",
      "38689       organic reduced fat milk        1397\n",
      "26209       limes                           1370\n",
      "12341       hass avocados                   1340\n",
      "5785        organic reduced fat 2% milk     1310\n",
      "27086       half & half                     1309\n",
      "43352       raspberries                     1246\n",
      "dtype: int64\n"
     ]
    }
   ],
   "source": [
    "print(first_20)"
   ]
  }
 ],
 "metadata": {
  "ExecuteTimeLog": [
   {
    "duration": 1555,
    "start_time": "2024-07-15T05:12:55.845Z"
   },
   {
    "duration": 0,
    "start_time": "2024-07-15T05:12:57.411Z"
   },
   {
    "duration": 0,
    "start_time": "2024-07-15T05:12:57.413Z"
   },
   {
    "duration": 0,
    "start_time": "2024-07-15T05:12:57.415Z"
   },
   {
    "duration": 0,
    "start_time": "2024-07-15T05:12:57.430Z"
   },
   {
    "duration": 0,
    "start_time": "2024-07-15T05:12:57.433Z"
   },
   {
    "duration": 0,
    "start_time": "2024-07-15T05:12:57.435Z"
   },
   {
    "duration": 0,
    "start_time": "2024-07-15T05:12:57.437Z"
   },
   {
    "duration": 0,
    "start_time": "2024-07-15T05:12:57.439Z"
   },
   {
    "duration": 0,
    "start_time": "2024-07-15T05:12:57.445Z"
   },
   {
    "duration": 0,
    "start_time": "2024-07-15T05:12:57.447Z"
   },
   {
    "duration": 0,
    "start_time": "2024-07-15T05:12:57.451Z"
   },
   {
    "duration": 0,
    "start_time": "2024-07-15T05:12:57.454Z"
   },
   {
    "duration": 0,
    "start_time": "2024-07-15T05:12:57.456Z"
   },
   {
    "duration": 1,
    "start_time": "2024-07-15T05:12:57.458Z"
   },
   {
    "duration": 0,
    "start_time": "2024-07-15T05:12:57.460Z"
   },
   {
    "duration": 0,
    "start_time": "2024-07-15T05:12:57.463Z"
   },
   {
    "duration": 0,
    "start_time": "2024-07-15T05:12:57.465Z"
   },
   {
    "duration": 0,
    "start_time": "2024-07-15T05:12:57.467Z"
   },
   {
    "duration": 0,
    "start_time": "2024-07-15T05:12:57.470Z"
   },
   {
    "duration": 0,
    "start_time": "2024-07-15T05:12:57.472Z"
   },
   {
    "duration": 0,
    "start_time": "2024-07-15T05:12:57.474Z"
   },
   {
    "duration": 0,
    "start_time": "2024-07-15T05:12:57.531Z"
   },
   {
    "duration": 0,
    "start_time": "2024-07-15T05:12:57.533Z"
   },
   {
    "duration": 0,
    "start_time": "2024-07-15T05:12:57.536Z"
   },
   {
    "duration": 0,
    "start_time": "2024-07-15T05:12:57.539Z"
   },
   {
    "duration": 0,
    "start_time": "2024-07-15T05:12:57.540Z"
   },
   {
    "duration": 0,
    "start_time": "2024-07-15T05:12:57.543Z"
   },
   {
    "duration": 0,
    "start_time": "2024-07-15T05:12:57.545Z"
   },
   {
    "duration": 0,
    "start_time": "2024-07-15T05:12:57.547Z"
   },
   {
    "duration": 0,
    "start_time": "2024-07-15T05:12:57.549Z"
   },
   {
    "duration": 0,
    "start_time": "2024-07-15T05:12:57.550Z"
   },
   {
    "duration": 0,
    "start_time": "2024-07-15T05:12:57.552Z"
   },
   {
    "duration": 0,
    "start_time": "2024-07-15T05:12:57.554Z"
   },
   {
    "duration": 0,
    "start_time": "2024-07-15T05:12:57.555Z"
   },
   {
    "duration": 0,
    "start_time": "2024-07-15T05:12:57.557Z"
   },
   {
    "duration": 0,
    "start_time": "2024-07-15T05:12:57.559Z"
   },
   {
    "duration": 0,
    "start_time": "2024-07-15T05:12:57.560Z"
   },
   {
    "duration": 0,
    "start_time": "2024-07-15T05:12:57.562Z"
   },
   {
    "duration": 0,
    "start_time": "2024-07-15T05:12:57.564Z"
   },
   {
    "duration": 0,
    "start_time": "2024-07-15T05:12:57.567Z"
   },
   {
    "duration": 0,
    "start_time": "2024-07-15T05:12:57.631Z"
   },
   {
    "duration": 0,
    "start_time": "2024-07-15T05:12:57.633Z"
   },
   {
    "duration": 0,
    "start_time": "2024-07-15T05:12:57.635Z"
   },
   {
    "duration": 0,
    "start_time": "2024-07-15T05:12:57.638Z"
   },
   {
    "duration": 0,
    "start_time": "2024-07-15T05:12:57.641Z"
   },
   {
    "duration": 0,
    "start_time": "2024-07-15T05:12:57.643Z"
   },
   {
    "duration": 0,
    "start_time": "2024-07-15T05:12:57.645Z"
   },
   {
    "duration": 0,
    "start_time": "2024-07-15T05:12:57.647Z"
   },
   {
    "duration": 0,
    "start_time": "2024-07-15T05:12:57.649Z"
   },
   {
    "duration": 0,
    "start_time": "2024-07-15T05:12:57.651Z"
   },
   {
    "duration": 0,
    "start_time": "2024-07-15T05:12:57.653Z"
   },
   {
    "duration": 0,
    "start_time": "2024-07-15T05:12:57.655Z"
   },
   {
    "duration": 0,
    "start_time": "2024-07-15T05:12:57.656Z"
   },
   {
    "duration": 0,
    "start_time": "2024-07-15T05:12:57.658Z"
   },
   {
    "duration": 0,
    "start_time": "2024-07-15T05:12:57.660Z"
   },
   {
    "duration": 0,
    "start_time": "2024-07-15T05:12:57.662Z"
   },
   {
    "duration": 0,
    "start_time": "2024-07-15T05:12:57.663Z"
   },
   {
    "duration": 0,
    "start_time": "2024-07-15T05:12:57.665Z"
   },
   {
    "duration": 0,
    "start_time": "2024-07-15T05:12:57.667Z"
   },
   {
    "duration": 0,
    "start_time": "2024-07-15T05:12:57.669Z"
   },
   {
    "duration": 0,
    "start_time": "2024-07-15T05:12:57.731Z"
   },
   {
    "duration": 0,
    "start_time": "2024-07-15T05:12:57.734Z"
   },
   {
    "duration": 0,
    "start_time": "2024-07-15T05:12:57.736Z"
   },
   {
    "duration": 0,
    "start_time": "2024-07-15T05:12:57.739Z"
   },
   {
    "duration": 0,
    "start_time": "2024-07-15T05:12:57.741Z"
   },
   {
    "duration": 0,
    "start_time": "2024-07-15T05:12:57.743Z"
   },
   {
    "duration": 0,
    "start_time": "2024-07-15T05:12:57.745Z"
   },
   {
    "duration": 0,
    "start_time": "2024-07-15T05:12:57.747Z"
   },
   {
    "duration": 0,
    "start_time": "2024-07-15T05:12:57.749Z"
   },
   {
    "duration": 0,
    "start_time": "2024-07-15T05:12:57.750Z"
   },
   {
    "duration": 0,
    "start_time": "2024-07-15T05:12:57.751Z"
   },
   {
    "duration": 0,
    "start_time": "2024-07-15T05:12:57.753Z"
   },
   {
    "duration": 0,
    "start_time": "2024-07-15T05:12:57.754Z"
   },
   {
    "duration": 0,
    "start_time": "2024-07-15T05:12:57.755Z"
   },
   {
    "duration": 0,
    "start_time": "2024-07-15T05:12:57.757Z"
   },
   {
    "duration": 0,
    "start_time": "2024-07-15T05:12:57.760Z"
   },
   {
    "duration": 0,
    "start_time": "2024-07-15T05:12:57.761Z"
   },
   {
    "duration": 0,
    "start_time": "2024-07-15T05:12:57.762Z"
   },
   {
    "duration": 0,
    "start_time": "2024-07-15T05:12:57.764Z"
   },
   {
    "duration": 0,
    "start_time": "2024-07-15T05:12:57.766Z"
   },
   {
    "duration": 0,
    "start_time": "2024-07-15T05:12:57.767Z"
   },
   {
    "duration": 0,
    "start_time": "2024-07-15T05:12:57.770Z"
   },
   {
    "duration": 0,
    "start_time": "2024-07-15T05:12:57.831Z"
   },
   {
    "duration": 0,
    "start_time": "2024-07-15T05:12:57.833Z"
   },
   {
    "duration": 1,
    "start_time": "2024-07-15T05:12:57.834Z"
   },
   {
    "duration": 0,
    "start_time": "2024-07-15T05:12:57.837Z"
   },
   {
    "duration": 0,
    "start_time": "2024-07-15T05:12:57.840Z"
   },
   {
    "duration": 0,
    "start_time": "2024-07-15T05:12:57.843Z"
   },
   {
    "duration": 0,
    "start_time": "2024-07-15T05:12:57.845Z"
   },
   {
    "duration": 0,
    "start_time": "2024-07-15T05:12:57.847Z"
   },
   {
    "duration": 0,
    "start_time": "2024-07-15T05:12:57.851Z"
   },
   {
    "duration": 0,
    "start_time": "2024-07-15T05:12:57.854Z"
   },
   {
    "duration": 0,
    "start_time": "2024-07-15T05:12:57.856Z"
   },
   {
    "duration": 281,
    "start_time": "2024-07-15T14:47:32.398Z"
   },
   {
    "duration": 99,
    "start_time": "2024-07-15T14:47:48.330Z"
   },
   {
    "duration": 19,
    "start_time": "2024-07-15T14:47:56.214Z"
   },
   {
    "duration": 17,
    "start_time": "2024-07-15T14:48:01.697Z"
   },
   {
    "duration": 1409,
    "start_time": "2024-07-15T14:48:07.099Z"
   },
   {
    "duration": 740,
    "start_time": "2024-07-15T14:48:28.832Z"
   },
   {
    "duration": 36,
    "start_time": "2024-07-15T14:48:29.577Z"
   },
   {
    "duration": 68,
    "start_time": "2024-07-15T14:48:29.617Z"
   },
   {
    "duration": 19,
    "start_time": "2024-07-15T14:48:29.703Z"
   },
   {
    "duration": 20,
    "start_time": "2024-07-15T14:48:29.725Z"
   },
   {
    "duration": 14,
    "start_time": "2024-07-15T14:48:29.749Z"
   },
   {
    "duration": 14,
    "start_time": "2024-07-15T14:48:29.804Z"
   },
   {
    "duration": 16,
    "start_time": "2024-07-15T14:48:29.821Z"
   },
   {
    "duration": 1333,
    "start_time": "2024-07-15T14:48:29.840Z"
   },
   {
    "duration": 57,
    "start_time": "2024-07-15T14:48:31.179Z"
   },
   {
    "duration": 209,
    "start_time": "2024-07-15T14:48:31.240Z"
   },
   {
    "duration": 14,
    "start_time": "2024-07-15T14:48:31.452Z"
   },
   {
    "duration": 222,
    "start_time": "2024-07-15T14:48:31.469Z"
   },
   {
    "duration": 196,
    "start_time": "2024-07-15T14:48:31.695Z"
   },
   {
    "duration": 87,
    "start_time": "2024-07-15T14:48:31.896Z"
   },
   {
    "duration": 41,
    "start_time": "2024-07-15T14:48:31.986Z"
   },
   {
    "duration": 10,
    "start_time": "2024-07-15T14:48:32.031Z"
   },
   {
    "duration": 102,
    "start_time": "2024-07-15T14:48:32.045Z"
   },
   {
    "duration": 22,
    "start_time": "2024-07-15T14:48:32.150Z"
   },
   {
    "duration": 6,
    "start_time": "2024-07-15T14:48:32.203Z"
   },
   {
    "duration": 6,
    "start_time": "2024-07-15T14:48:32.212Z"
   },
   {
    "duration": 1751,
    "start_time": "2024-07-15T14:48:32.221Z"
   },
   {
    "duration": 1528,
    "start_time": "2024-07-15T14:48:33.975Z"
   },
   {
    "duration": 4,
    "start_time": "2024-07-15T14:48:35.506Z"
   },
   {
    "duration": 17,
    "start_time": "2024-07-15T14:48:35.514Z"
   },
   {
    "duration": 15,
    "start_time": "2024-07-15T14:48:35.533Z"
   },
   {
    "duration": 64,
    "start_time": "2024-07-15T14:48:35.552Z"
   },
   {
    "duration": 4,
    "start_time": "2024-07-15T14:48:35.627Z"
   },
   {
    "duration": 11,
    "start_time": "2024-07-15T14:48:35.634Z"
   },
   {
    "duration": 55,
    "start_time": "2024-07-15T14:48:35.648Z"
   },
   {
    "duration": 19,
    "start_time": "2024-07-15T14:48:35.706Z"
   },
   {
    "duration": 11,
    "start_time": "2024-07-15T14:48:35.728Z"
   },
   {
    "duration": 12,
    "start_time": "2024-07-15T14:48:35.742Z"
   },
   {
    "duration": 45,
    "start_time": "2024-07-15T14:48:35.757Z"
   },
   {
    "duration": 176,
    "start_time": "2024-07-15T14:48:35.807Z"
   },
   {
    "duration": 4451,
    "start_time": "2024-07-15T14:48:35.986Z"
   },
   {
    "duration": 15,
    "start_time": "2024-07-15T14:48:40.442Z"
   },
   {
    "duration": 48,
    "start_time": "2024-07-15T14:48:40.461Z"
   },
   {
    "duration": 19,
    "start_time": "2024-07-15T14:48:40.512Z"
   },
   {
    "duration": 76,
    "start_time": "2024-07-15T14:48:40.534Z"
   },
   {
    "duration": 5,
    "start_time": "2024-07-15T14:48:40.617Z"
   },
   {
    "duration": 809,
    "start_time": "2024-07-15T14:48:40.625Z"
   },
   {
    "duration": 12,
    "start_time": "2024-07-15T14:48:41.437Z"
   },
   {
    "duration": 16,
    "start_time": "2024-07-15T14:48:41.453Z"
   },
   {
    "duration": 115,
    "start_time": "2024-07-15T14:48:41.502Z"
   },
   {
    "duration": 22,
    "start_time": "2024-07-15T14:48:41.619Z"
   },
   {
    "duration": 8,
    "start_time": "2024-07-15T14:48:41.644Z"
   },
   {
    "duration": 163,
    "start_time": "2024-07-15T14:48:41.655Z"
   },
   {
    "duration": 13,
    "start_time": "2024-07-15T14:48:41.821Z"
   },
   {
    "duration": 16,
    "start_time": "2024-07-15T14:48:41.837Z"
   },
   {
    "duration": 361,
    "start_time": "2024-07-15T14:48:41.856Z"
   },
   {
    "duration": 4,
    "start_time": "2024-07-15T14:48:42.221Z"
   },
   {
    "duration": 19,
    "start_time": "2024-07-15T14:48:42.228Z"
   },
   {
    "duration": 261,
    "start_time": "2024-07-15T14:48:42.251Z"
   },
   {
    "duration": 4,
    "start_time": "2024-07-15T14:48:42.515Z"
   },
   {
    "duration": 6,
    "start_time": "2024-07-15T14:48:42.522Z"
   },
   {
    "duration": 15,
    "start_time": "2024-07-15T14:48:42.532Z"
   },
   {
    "duration": 462,
    "start_time": "2024-07-15T14:48:42.551Z"
   },
   {
    "duration": 3,
    "start_time": "2024-07-15T14:48:43.017Z"
   },
   {
    "duration": 446,
    "start_time": "2024-07-15T14:48:43.024Z"
   },
   {
    "duration": 93,
    "start_time": "2024-07-15T14:48:43.473Z"
   },
   {
    "duration": 247,
    "start_time": "2024-07-15T14:48:43.569Z"
   },
   {
    "duration": 4,
    "start_time": "2024-07-15T14:48:43.819Z"
   },
   {
    "duration": 6,
    "start_time": "2024-07-15T14:48:43.828Z"
   },
   {
    "duration": 3789,
    "start_time": "2024-07-15T14:48:43.839Z"
   },
   {
    "duration": 4,
    "start_time": "2024-07-15T14:48:47.632Z"
   },
   {
    "duration": 4,
    "start_time": "2024-07-15T14:48:47.639Z"
   },
   {
    "duration": 1221,
    "start_time": "2024-07-15T14:48:47.647Z"
   },
   {
    "duration": 603,
    "start_time": "2024-07-15T14:48:48.870Z"
   },
   {
    "duration": 335,
    "start_time": "2024-07-15T14:48:49.476Z"
   },
   {
    "duration": 4,
    "start_time": "2024-07-15T14:48:49.814Z"
   },
   {
    "duration": 3,
    "start_time": "2024-07-15T14:48:49.822Z"
   },
   {
    "duration": 214,
    "start_time": "2024-07-15T14:48:49.829Z"
   },
   {
    "duration": 98,
    "start_time": "2024-07-15T14:48:50.046Z"
   },
   {
    "duration": 24,
    "start_time": "2024-07-15T14:48:50.148Z"
   },
   {
    "duration": 34,
    "start_time": "2024-07-15T14:48:50.175Z"
   },
   {
    "duration": 13,
    "start_time": "2024-07-15T14:48:50.212Z"
   },
   {
    "duration": 4,
    "start_time": "2024-07-15T14:48:50.229Z"
   },
   {
    "duration": 4,
    "start_time": "2024-07-15T14:48:50.236Z"
   },
   {
    "duration": 403,
    "start_time": "2024-07-15T14:48:50.243Z"
   },
   {
    "duration": 53,
    "start_time": "2024-07-15T14:48:50.650Z"
   },
   {
    "duration": 3,
    "start_time": "2024-07-15T14:48:50.716Z"
   },
   {
    "duration": 23,
    "start_time": "2024-07-15T14:48:50.723Z"
   },
   {
    "duration": 4,
    "start_time": "2024-07-15T14:48:50.749Z"
   },
   {
    "duration": 1690,
    "start_time": "2024-07-15T14:48:50.757Z"
   },
   {
    "duration": 203,
    "start_time": "2024-07-15T14:48:52.449Z"
   },
   {
    "duration": 79,
    "start_time": "2024-07-15T14:48:52.655Z"
   },
   {
    "duration": 15,
    "start_time": "2024-07-15T14:48:52.737Z"
   },
   {
    "duration": 4,
    "start_time": "2024-07-15T14:48:52.756Z"
   },
   {
    "duration": 41,
    "start_time": "2024-07-15T14:48:52.763Z"
   },
   {
    "duration": 17,
    "start_time": "2024-07-15T14:48:52.807Z"
   },
   {
    "duration": 73,
    "start_time": "2024-07-15T14:48:52.828Z"
   },
   {
    "duration": 236,
    "start_time": "2024-07-15T14:48:52.904Z"
   },
   {
    "duration": 6,
    "start_time": "2024-07-15T14:48:53.144Z"
   },
   {
    "duration": 806,
    "start_time": "2024-07-15T14:57:48.926Z"
   },
   {
    "duration": 23,
    "start_time": "2024-07-15T14:57:49.737Z"
   },
   {
    "duration": 97,
    "start_time": "2024-07-15T14:57:49.763Z"
   },
   {
    "duration": 34,
    "start_time": "2024-07-15T14:57:49.867Z"
   },
   {
    "duration": 21,
    "start_time": "2024-07-15T14:57:49.905Z"
   },
   {
    "duration": 18,
    "start_time": "2024-07-15T14:57:49.930Z"
   },
   {
    "duration": 50,
    "start_time": "2024-07-15T14:57:49.952Z"
   },
   {
    "duration": 18,
    "start_time": "2024-07-15T14:57:50.004Z"
   },
   {
    "duration": 1355,
    "start_time": "2024-07-15T14:57:50.028Z"
   },
   {
    "duration": 44,
    "start_time": "2024-07-15T14:57:51.402Z"
   },
   {
    "duration": 228,
    "start_time": "2024-07-15T14:57:51.453Z"
   },
   {
    "duration": 29,
    "start_time": "2024-07-15T14:57:51.685Z"
   },
   {
    "duration": 287,
    "start_time": "2024-07-15T14:57:51.718Z"
   },
   {
    "duration": 233,
    "start_time": "2024-07-15T14:57:52.008Z"
   },
   {
    "duration": 111,
    "start_time": "2024-07-15T14:57:52.244Z"
   },
   {
    "duration": 45,
    "start_time": "2024-07-15T14:57:52.358Z"
   },
   {
    "duration": 14,
    "start_time": "2024-07-15T14:57:52.407Z"
   },
   {
    "duration": 104,
    "start_time": "2024-07-15T14:57:52.425Z"
   },
   {
    "duration": 26,
    "start_time": "2024-07-15T14:57:52.534Z"
   },
   {
    "duration": 6,
    "start_time": "2024-07-15T14:57:52.563Z"
   },
   {
    "duration": 32,
    "start_time": "2024-07-15T14:57:52.573Z"
   },
   {
    "duration": 1750,
    "start_time": "2024-07-15T14:57:52.608Z"
   },
   {
    "duration": 1566,
    "start_time": "2024-07-15T14:57:54.364Z"
   },
   {
    "duration": 4,
    "start_time": "2024-07-15T14:57:55.934Z"
   },
   {
    "duration": 21,
    "start_time": "2024-07-15T14:57:55.941Z"
   },
   {
    "duration": 46,
    "start_time": "2024-07-15T14:57:55.965Z"
   },
   {
    "duration": 15,
    "start_time": "2024-07-15T14:57:56.017Z"
   },
   {
    "duration": 3,
    "start_time": "2024-07-15T14:57:56.042Z"
   },
   {
    "duration": 9,
    "start_time": "2024-07-15T14:57:56.048Z"
   },
   {
    "duration": 62,
    "start_time": "2024-07-15T14:57:56.060Z"
   },
   {
    "duration": 18,
    "start_time": "2024-07-15T14:57:56.126Z"
   },
   {
    "duration": 10,
    "start_time": "2024-07-15T14:57:56.146Z"
   },
   {
    "duration": 48,
    "start_time": "2024-07-15T14:57:56.159Z"
   },
   {
    "duration": 5,
    "start_time": "2024-07-15T14:57:56.212Z"
   },
   {
    "duration": 192,
    "start_time": "2024-07-15T14:57:56.221Z"
   },
   {
    "duration": 584,
    "start_time": "2024-07-15T14:57:56.418Z"
   },
   {
    "duration": 15,
    "start_time": "2024-07-15T14:57:57.008Z"
   },
   {
    "duration": 18,
    "start_time": "2024-07-15T14:57:57.026Z"
   },
   {
    "duration": 62,
    "start_time": "2024-07-15T14:57:57.047Z"
   },
   {
    "duration": 42,
    "start_time": "2024-07-15T14:57:57.112Z"
   },
   {
    "duration": 4,
    "start_time": "2024-07-15T14:57:57.157Z"
   },
   {
    "duration": 852,
    "start_time": "2024-07-15T14:57:57.165Z"
   },
   {
    "duration": 11,
    "start_time": "2024-07-15T14:57:58.020Z"
   },
   {
    "duration": 14,
    "start_time": "2024-07-15T14:57:58.034Z"
   },
   {
    "duration": 133,
    "start_time": "2024-07-15T14:57:58.051Z"
   },
   {
    "duration": 35,
    "start_time": "2024-07-15T14:57:58.187Z"
   },
   {
    "duration": 7,
    "start_time": "2024-07-15T14:57:58.226Z"
   },
   {
    "duration": 167,
    "start_time": "2024-07-15T14:57:58.236Z"
   },
   {
    "duration": 15,
    "start_time": "2024-07-15T14:57:58.406Z"
   },
   {
    "duration": 15,
    "start_time": "2024-07-15T14:57:58.423Z"
   },
   {
    "duration": 379,
    "start_time": "2024-07-15T14:57:58.441Z"
   },
   {
    "duration": 5,
    "start_time": "2024-07-15T14:57:58.824Z"
   },
   {
    "duration": 17,
    "start_time": "2024-07-15T14:57:58.833Z"
   },
   {
    "duration": 266,
    "start_time": "2024-07-15T14:57:58.853Z"
   },
   {
    "duration": 4,
    "start_time": "2024-07-15T14:57:59.122Z"
   },
   {
    "duration": 5,
    "start_time": "2024-07-15T14:57:59.130Z"
   },
   {
    "duration": 16,
    "start_time": "2024-07-15T14:57:59.138Z"
   },
   {
    "duration": 422,
    "start_time": "2024-07-15T14:57:59.157Z"
   },
   {
    "duration": 5,
    "start_time": "2024-07-15T14:57:59.582Z"
   },
   {
    "duration": 399,
    "start_time": "2024-07-15T14:57:59.603Z"
   },
   {
    "duration": 74,
    "start_time": "2024-07-15T14:58:00.009Z"
   },
   {
    "duration": 246,
    "start_time": "2024-07-15T14:58:00.086Z"
   },
   {
    "duration": 4,
    "start_time": "2024-07-15T14:58:00.335Z"
   },
   {
    "duration": 4,
    "start_time": "2024-07-15T14:58:00.342Z"
   },
   {
    "duration": 3781,
    "start_time": "2024-07-15T14:58:00.350Z"
   },
   {
    "duration": 4,
    "start_time": "2024-07-15T14:58:04.134Z"
   },
   {
    "duration": 3,
    "start_time": "2024-07-15T14:58:04.141Z"
   },
   {
    "duration": 1199,
    "start_time": "2024-07-15T14:58:04.148Z"
   },
   {
    "duration": 585,
    "start_time": "2024-07-15T14:58:05.350Z"
   },
   {
    "duration": 323,
    "start_time": "2024-07-15T14:58:05.938Z"
   },
   {
    "duration": 3,
    "start_time": "2024-07-15T14:58:06.265Z"
   },
   {
    "duration": 29,
    "start_time": "2024-07-15T14:58:06.272Z"
   },
   {
    "duration": 190,
    "start_time": "2024-07-15T14:58:06.304Z"
   },
   {
    "duration": 83,
    "start_time": "2024-07-15T14:58:06.497Z"
   },
   {
    "duration": 25,
    "start_time": "2024-07-15T14:58:06.602Z"
   },
   {
    "duration": 11,
    "start_time": "2024-07-15T14:58:06.630Z"
   },
   {
    "duration": 13,
    "start_time": "2024-07-15T14:58:06.644Z"
   },
   {
    "duration": 48,
    "start_time": "2024-07-15T14:58:06.660Z"
   },
   {
    "duration": 6,
    "start_time": "2024-07-15T14:58:06.716Z"
   },
   {
    "duration": 408,
    "start_time": "2024-07-15T14:58:06.725Z"
   },
   {
    "duration": 33,
    "start_time": "2024-07-15T14:58:07.136Z"
   },
   {
    "duration": 4,
    "start_time": "2024-07-15T14:58:07.201Z"
   },
   {
    "duration": 25,
    "start_time": "2024-07-15T14:58:07.210Z"
   },
   {
    "duration": 5,
    "start_time": "2024-07-15T14:58:07.238Z"
   },
   {
    "duration": 1604,
    "start_time": "2024-07-15T14:58:07.247Z"
   },
   {
    "duration": 248,
    "start_time": "2024-07-15T14:58:08.855Z"
   },
   {
    "duration": 68,
    "start_time": "2024-07-15T14:58:09.106Z"
   },
   {
    "duration": 34,
    "start_time": "2024-07-15T14:58:09.177Z"
   },
   {
    "duration": 4,
    "start_time": "2024-07-15T14:58:09.215Z"
   },
   {
    "duration": 20,
    "start_time": "2024-07-15T14:58:09.222Z"
   },
   {
    "duration": 58,
    "start_time": "2024-07-15T14:58:09.247Z"
   },
   {
    "duration": 48,
    "start_time": "2024-07-15T14:58:09.308Z"
   },
   {
    "duration": 243,
    "start_time": "2024-07-15T14:58:09.360Z"
   },
   {
    "duration": 6,
    "start_time": "2024-07-15T14:58:09.606Z"
   },
   {
    "duration": 18,
    "start_time": "2024-07-15T15:01:37.516Z"
   },
   {
    "duration": 21,
    "start_time": "2024-07-15T15:01:44.355Z"
   },
   {
    "duration": 26,
    "start_time": "2024-07-15T15:02:32.498Z"
   },
   {
    "duration": 199,
    "start_time": "2024-07-15T15:03:03.067Z"
   },
   {
    "duration": 255,
    "start_time": "2024-07-15T15:03:28.060Z"
   },
   {
    "duration": 29,
    "start_time": "2024-07-15T15:03:28.323Z"
   },
   {
    "duration": 73,
    "start_time": "2024-07-15T15:03:28.356Z"
   },
   {
    "duration": 20,
    "start_time": "2024-07-15T15:03:28.433Z"
   },
   {
    "duration": 17,
    "start_time": "2024-07-15T15:03:28.457Z"
   },
   {
    "duration": 15,
    "start_time": "2024-07-15T15:03:28.505Z"
   },
   {
    "duration": 18,
    "start_time": "2024-07-15T15:03:28.523Z"
   },
   {
    "duration": 16,
    "start_time": "2024-07-15T15:03:28.544Z"
   },
   {
    "duration": 1410,
    "start_time": "2024-07-15T15:03:28.563Z"
   },
   {
    "duration": 54,
    "start_time": "2024-07-15T15:03:29.980Z"
   },
   {
    "duration": 158,
    "start_time": "2024-07-15T15:03:30.039Z"
   },
   {
    "duration": 15,
    "start_time": "2024-07-15T15:03:30.203Z"
   },
   {
    "duration": 212,
    "start_time": "2024-07-15T15:03:30.221Z"
   },
   {
    "duration": 223,
    "start_time": "2024-07-15T15:03:30.436Z"
   },
   {
    "duration": 102,
    "start_time": "2024-07-15T15:03:30.662Z"
   },
   {
    "duration": 36,
    "start_time": "2024-07-15T15:03:30.767Z"
   },
   {
    "duration": 11,
    "start_time": "2024-07-15T15:03:30.807Z"
   },
   {
    "duration": 98,
    "start_time": "2024-07-15T15:03:30.822Z"
   },
   {
    "duration": 24,
    "start_time": "2024-07-15T15:03:34.030Z"
   },
   {
    "duration": 6,
    "start_time": "2024-07-15T15:03:55.264Z"
   },
   {
    "duration": 6,
    "start_time": "2024-07-15T15:03:57.319Z"
   },
   {
    "duration": 1462,
    "start_time": "2024-07-15T15:04:01.390Z"
   },
   {
    "duration": 1559,
    "start_time": "2024-07-15T15:04:06.188Z"
   },
   {
    "duration": 22,
    "start_time": "2024-07-15T15:04:19.923Z"
   },
   {
    "duration": 14,
    "start_time": "2024-07-15T15:04:21.973Z"
   },
   {
    "duration": 15,
    "start_time": "2024-07-15T15:04:30.296Z"
   },
   {
    "duration": 9,
    "start_time": "2024-07-15T15:04:38.452Z"
   },
   {
    "duration": 22,
    "start_time": "2024-07-15T15:04:40.024Z"
   },
   {
    "duration": 20,
    "start_time": "2024-07-15T15:04:43.999Z"
   },
   {
    "duration": 8,
    "start_time": "2024-07-15T15:04:46.797Z"
   },
   {
    "duration": 11,
    "start_time": "2024-07-15T15:04:51.173Z"
   },
   {
    "duration": 169,
    "start_time": "2024-07-15T15:05:06.987Z"
   },
   {
    "duration": 259,
    "start_time": "2024-07-15T15:05:17.395Z"
   },
   {
    "duration": 12,
    "start_time": "2024-07-15T15:05:22.271Z"
   },
   {
    "duration": 17,
    "start_time": "2024-07-15T15:05:39.156Z"
   },
   {
    "duration": 749,
    "start_time": "2024-07-15T15:05:48.311Z"
   },
   {
    "duration": 21,
    "start_time": "2024-07-15T15:05:49.063Z"
   },
   {
    "duration": 88,
    "start_time": "2024-07-15T15:05:49.087Z"
   },
   {
    "duration": 29,
    "start_time": "2024-07-15T15:05:49.179Z"
   },
   {
    "duration": 36,
    "start_time": "2024-07-15T15:05:49.212Z"
   },
   {
    "duration": 15,
    "start_time": "2024-07-15T15:05:49.252Z"
   },
   {
    "duration": 44,
    "start_time": "2024-07-15T15:05:49.271Z"
   },
   {
    "duration": 17,
    "start_time": "2024-07-15T15:05:49.318Z"
   },
   {
    "duration": 1417,
    "start_time": "2024-07-15T15:05:49.339Z"
   },
   {
    "duration": 53,
    "start_time": "2024-07-15T15:05:50.763Z"
   },
   {
    "duration": 196,
    "start_time": "2024-07-15T15:05:50.820Z"
   },
   {
    "duration": 15,
    "start_time": "2024-07-15T15:05:51.019Z"
   },
   {
    "duration": 229,
    "start_time": "2024-07-15T15:05:51.038Z"
   },
   {
    "duration": 210,
    "start_time": "2024-07-15T15:05:51.270Z"
   },
   {
    "duration": 91,
    "start_time": "2024-07-15T15:05:51.483Z"
   },
   {
    "duration": 43,
    "start_time": "2024-07-15T15:05:51.577Z"
   },
   {
    "duration": 12,
    "start_time": "2024-07-15T15:05:51.626Z"
   },
   {
    "duration": 86,
    "start_time": "2024-07-15T15:05:51.641Z"
   },
   {
    "duration": 21,
    "start_time": "2024-07-15T15:05:51.730Z"
   },
   {
    "duration": 6,
    "start_time": "2024-07-15T15:05:51.754Z"
   },
   {
    "duration": 39,
    "start_time": "2024-07-15T15:05:51.763Z"
   },
   {
    "duration": 1571,
    "start_time": "2024-07-15T15:05:51.805Z"
   },
   {
    "duration": 1625,
    "start_time": "2024-07-15T15:05:53.379Z"
   },
   {
    "duration": 7,
    "start_time": "2024-07-15T15:05:55.007Z"
   },
   {
    "duration": 25,
    "start_time": "2024-07-15T15:05:55.018Z"
   },
   {
    "duration": 17,
    "start_time": "2024-07-15T15:05:55.046Z"
   },
   {
    "duration": 44,
    "start_time": "2024-07-15T15:05:55.067Z"
   },
   {
    "duration": 3,
    "start_time": "2024-07-15T15:05:55.123Z"
   },
   {
    "duration": 11,
    "start_time": "2024-07-15T15:05:55.131Z"
   },
   {
    "duration": 17,
    "start_time": "2024-07-15T15:05:55.145Z"
   },
   {
    "duration": 20,
    "start_time": "2024-07-15T15:05:55.202Z"
   },
   {
    "duration": 7,
    "start_time": "2024-07-15T15:05:55.226Z"
   },
   {
    "duration": 12,
    "start_time": "2024-07-15T15:05:55.237Z"
   },
   {
    "duration": 4,
    "start_time": "2024-07-15T15:05:55.253Z"
   },
   {
    "duration": 210,
    "start_time": "2024-07-15T15:05:55.260Z"
   },
   {
    "duration": 617,
    "start_time": "2024-07-15T15:05:55.473Z"
   },
   {
    "duration": 29,
    "start_time": "2024-07-15T15:05:56.093Z"
   },
   {
    "duration": 19,
    "start_time": "2024-07-15T15:05:56.127Z"
   },
   {
    "duration": 21,
    "start_time": "2024-07-15T15:05:56.150Z"
   },
   {
    "duration": 44,
    "start_time": "2024-07-15T15:05:56.217Z"
   },
   {
    "duration": 4,
    "start_time": "2024-07-15T15:05:56.264Z"
   },
   {
    "duration": 916,
    "start_time": "2024-07-15T15:05:56.272Z"
   },
   {
    "duration": 36,
    "start_time": "2024-07-15T15:05:57.191Z"
   },
   {
    "duration": 29,
    "start_time": "2024-07-15T15:05:57.234Z"
   },
   {
    "duration": 108,
    "start_time": "2024-07-15T15:05:57.267Z"
   },
   {
    "duration": 41,
    "start_time": "2024-07-15T15:05:57.379Z"
   },
   {
    "duration": 7,
    "start_time": "2024-07-15T15:05:57.423Z"
   },
   {
    "duration": 164,
    "start_time": "2024-07-15T15:05:57.433Z"
   },
   {
    "duration": 17,
    "start_time": "2024-07-15T15:05:57.607Z"
   },
   {
    "duration": 20,
    "start_time": "2024-07-15T15:05:57.631Z"
   },
   {
    "duration": 406,
    "start_time": "2024-07-15T15:05:57.656Z"
   },
   {
    "duration": 5,
    "start_time": "2024-07-15T15:05:58.065Z"
   },
   {
    "duration": 36,
    "start_time": "2024-07-15T15:05:58.075Z"
   },
   {
    "duration": 274,
    "start_time": "2024-07-15T15:05:58.114Z"
   },
   {
    "duration": 11,
    "start_time": "2024-07-15T15:05:58.391Z"
   },
   {
    "duration": 7,
    "start_time": "2024-07-15T15:05:58.405Z"
   },
   {
    "duration": 17,
    "start_time": "2024-07-15T15:05:58.416Z"
   },
   {
    "duration": 418,
    "start_time": "2024-07-15T15:05:58.437Z"
   },
   {
    "duration": 4,
    "start_time": "2024-07-15T15:05:58.858Z"
   },
   {
    "duration": 408,
    "start_time": "2024-07-15T15:05:58.864Z"
   },
   {
    "duration": 105,
    "start_time": "2024-07-15T15:05:59.276Z"
   },
   {
    "duration": 249,
    "start_time": "2024-07-15T15:05:59.386Z"
   },
   {
    "duration": 4,
    "start_time": "2024-07-15T15:05:59.638Z"
   },
   {
    "duration": 3,
    "start_time": "2024-07-15T15:05:59.646Z"
   },
   {
    "duration": 4055,
    "start_time": "2024-07-15T15:05:59.653Z"
   },
   {
    "duration": 4,
    "start_time": "2024-07-15T15:06:03.710Z"
   },
   {
    "duration": 9,
    "start_time": "2024-07-15T15:06:03.717Z"
   },
   {
    "duration": 1201,
    "start_time": "2024-07-15T15:06:03.730Z"
   },
   {
    "duration": 624,
    "start_time": "2024-07-15T15:06:04.934Z"
   },
   {
    "duration": 333,
    "start_time": "2024-07-15T15:06:05.562Z"
   },
   {
    "duration": 11,
    "start_time": "2024-07-15T15:06:05.905Z"
   },
   {
    "duration": 7,
    "start_time": "2024-07-15T15:06:05.920Z"
   },
   {
    "duration": 200,
    "start_time": "2024-07-15T15:06:05.930Z"
   },
   {
    "duration": 103,
    "start_time": "2024-07-15T15:06:06.132Z"
   },
   {
    "duration": 23,
    "start_time": "2024-07-15T15:06:06.239Z"
   },
   {
    "duration": 11,
    "start_time": "2024-07-15T15:06:06.264Z"
   },
   {
    "duration": 22,
    "start_time": "2024-07-15T15:06:06.310Z"
   },
   {
    "duration": 8,
    "start_time": "2024-07-15T15:06:06.339Z"
   },
   {
    "duration": 4,
    "start_time": "2024-07-15T15:06:06.350Z"
   },
   {
    "duration": 428,
    "start_time": "2024-07-15T15:06:06.358Z"
   },
   {
    "duration": 52,
    "start_time": "2024-07-15T15:06:06.790Z"
   },
   {
    "duration": 3,
    "start_time": "2024-07-15T15:06:06.857Z"
   },
   {
    "duration": 44,
    "start_time": "2024-07-15T15:06:06.864Z"
   },
   {
    "duration": 8,
    "start_time": "2024-07-15T15:06:06.912Z"
   },
   {
    "duration": 1735,
    "start_time": "2024-07-15T15:06:06.923Z"
   },
   {
    "duration": 270,
    "start_time": "2024-07-15T15:06:08.662Z"
   },
   {
    "duration": 85,
    "start_time": "2024-07-15T15:06:08.935Z"
   },
   {
    "duration": 16,
    "start_time": "2024-07-15T15:06:09.023Z"
   },
   {
    "duration": 5,
    "start_time": "2024-07-15T15:06:09.042Z"
   },
   {
    "duration": 22,
    "start_time": "2024-07-15T15:06:09.049Z"
   },
   {
    "duration": 43,
    "start_time": "2024-07-15T15:06:09.074Z"
   },
   {
    "duration": 51,
    "start_time": "2024-07-15T15:06:09.120Z"
   },
   {
    "duration": 295,
    "start_time": "2024-07-15T15:06:09.174Z"
   },
   {
    "duration": 6,
    "start_time": "2024-07-15T15:06:09.474Z"
   },
   {
    "duration": 836,
    "start_time": "2024-07-15T16:11:39.812Z"
   },
   {
    "duration": 20,
    "start_time": "2024-07-15T16:11:40.652Z"
   },
   {
    "duration": 103,
    "start_time": "2024-07-15T16:11:40.676Z"
   },
   {
    "duration": 21,
    "start_time": "2024-07-15T16:11:40.782Z"
   },
   {
    "duration": 18,
    "start_time": "2024-07-15T16:11:40.808Z"
   },
   {
    "duration": 14,
    "start_time": "2024-07-15T16:11:40.830Z"
   },
   {
    "duration": 17,
    "start_time": "2024-07-15T16:11:40.848Z"
   },
   {
    "duration": 48,
    "start_time": "2024-07-15T16:11:40.868Z"
   },
   {
    "duration": 1379,
    "start_time": "2024-07-15T16:11:40.919Z"
   },
   {
    "duration": 41,
    "start_time": "2024-07-15T16:11:42.303Z"
   },
   {
    "duration": 205,
    "start_time": "2024-07-15T16:11:42.348Z"
   },
   {
    "duration": 14,
    "start_time": "2024-07-15T16:11:42.556Z"
   },
   {
    "duration": 238,
    "start_time": "2024-07-15T16:11:42.573Z"
   },
   {
    "duration": 204,
    "start_time": "2024-07-15T16:11:42.817Z"
   },
   {
    "duration": 98,
    "start_time": "2024-07-15T16:11:43.024Z"
   },
   {
    "duration": 24,
    "start_time": "2024-07-15T16:11:43.125Z"
   },
   {
    "duration": 10,
    "start_time": "2024-07-15T16:11:43.152Z"
   },
   {
    "duration": 97,
    "start_time": "2024-07-15T16:11:43.166Z"
   },
   {
    "duration": 37,
    "start_time": "2024-07-15T16:11:43.266Z"
   },
   {
    "duration": 6,
    "start_time": "2024-07-15T16:11:43.307Z"
   },
   {
    "duration": 6,
    "start_time": "2024-07-15T16:11:43.319Z"
   },
   {
    "duration": 1507,
    "start_time": "2024-07-15T16:11:43.329Z"
   },
   {
    "duration": 1544,
    "start_time": "2024-07-15T16:11:44.839Z"
   },
   {
    "duration": 3,
    "start_time": "2024-07-15T16:11:46.386Z"
   },
   {
    "duration": 18,
    "start_time": "2024-07-15T16:11:46.401Z"
   },
   {
    "duration": 14,
    "start_time": "2024-07-15T16:11:46.422Z"
   },
   {
    "duration": 14,
    "start_time": "2024-07-15T16:11:46.439Z"
   },
   {
    "duration": 48,
    "start_time": "2024-07-15T16:11:46.456Z"
   },
   {
    "duration": 12,
    "start_time": "2024-07-15T16:11:46.508Z"
   },
   {
    "duration": 17,
    "start_time": "2024-07-15T16:11:46.523Z"
   },
   {
    "duration": 16,
    "start_time": "2024-07-15T16:11:46.544Z"
   },
   {
    "duration": 8,
    "start_time": "2024-07-15T16:11:46.602Z"
   },
   {
    "duration": 12,
    "start_time": "2024-07-15T16:11:46.613Z"
   },
   {
    "duration": 3,
    "start_time": "2024-07-15T16:11:46.630Z"
   },
   {
    "duration": 184,
    "start_time": "2024-07-15T16:11:46.636Z"
   },
   {
    "duration": 4317,
    "start_time": "2024-07-15T16:11:46.823Z"
   },
   {
    "duration": 13,
    "start_time": "2024-07-15T16:11:51.144Z"
   },
   {
    "duration": 47,
    "start_time": "2024-07-15T16:11:51.160Z"
   },
   {
    "duration": 19,
    "start_time": "2024-07-15T16:11:51.211Z"
   },
   {
    "duration": 74,
    "start_time": "2024-07-15T16:11:51.234Z"
   },
   {
    "duration": 3,
    "start_time": "2024-07-15T16:11:51.320Z"
   },
   {
    "duration": 839,
    "start_time": "2024-07-15T16:11:51.326Z"
   },
   {
    "duration": 12,
    "start_time": "2024-07-15T16:11:52.168Z"
   },
   {
    "duration": 14,
    "start_time": "2024-07-15T16:11:52.202Z"
   },
   {
    "duration": 112,
    "start_time": "2024-07-15T16:11:52.220Z"
   },
   {
    "duration": 21,
    "start_time": "2024-07-15T16:11:52.336Z"
   },
   {
    "duration": 7,
    "start_time": "2024-07-15T16:11:52.361Z"
   },
   {
    "duration": 168,
    "start_time": "2024-07-15T16:11:52.370Z"
   },
   {
    "duration": 17,
    "start_time": "2024-07-15T16:11:52.542Z"
   },
   {
    "duration": 41,
    "start_time": "2024-07-15T16:11:52.563Z"
   },
   {
    "duration": 365,
    "start_time": "2024-07-15T16:11:52.608Z"
   },
   {
    "duration": 4,
    "start_time": "2024-07-15T16:11:52.976Z"
   },
   {
    "duration": 29,
    "start_time": "2024-07-15T16:11:52.983Z"
   },
   {
    "duration": 235,
    "start_time": "2024-07-15T16:11:53.016Z"
   },
   {
    "duration": 3,
    "start_time": "2024-07-15T16:11:53.255Z"
   },
   {
    "duration": 6,
    "start_time": "2024-07-15T16:11:53.262Z"
   },
   {
    "duration": 43,
    "start_time": "2024-07-15T16:11:53.271Z"
   },
   {
    "duration": 468,
    "start_time": "2024-07-15T16:11:53.317Z"
   },
   {
    "duration": 15,
    "start_time": "2024-07-15T16:11:53.788Z"
   },
   {
    "duration": 394,
    "start_time": "2024-07-15T16:11:53.807Z"
   },
   {
    "duration": 70,
    "start_time": "2024-07-15T16:11:54.204Z"
   },
   {
    "duration": 242,
    "start_time": "2024-07-15T16:11:54.277Z"
   },
   {
    "duration": 3,
    "start_time": "2024-07-15T16:11:54.523Z"
   },
   {
    "duration": 3,
    "start_time": "2024-07-15T16:11:54.530Z"
   },
   {
    "duration": 3955,
    "start_time": "2024-07-15T16:11:54.537Z"
   },
   {
    "duration": 3,
    "start_time": "2024-07-15T16:11:58.501Z"
   },
   {
    "duration": 4,
    "start_time": "2024-07-15T16:11:58.508Z"
   },
   {
    "duration": 1186,
    "start_time": "2024-07-15T16:11:58.515Z"
   },
   {
    "duration": 585,
    "start_time": "2024-07-15T16:11:59.704Z"
   },
   {
    "duration": 345,
    "start_time": "2024-07-15T16:12:00.301Z"
   },
   {
    "duration": 4,
    "start_time": "2024-07-15T16:12:00.650Z"
   },
   {
    "duration": 6,
    "start_time": "2024-07-15T16:12:00.657Z"
   },
   {
    "duration": 218,
    "start_time": "2024-07-15T16:12:00.666Z"
   },
   {
    "duration": 90,
    "start_time": "2024-07-15T16:12:00.888Z"
   },
   {
    "duration": 34,
    "start_time": "2024-07-15T16:12:00.982Z"
   },
   {
    "duration": 11,
    "start_time": "2024-07-15T16:12:01.020Z"
   },
   {
    "duration": 13,
    "start_time": "2024-07-15T16:12:01.034Z"
   },
   {
    "duration": 4,
    "start_time": "2024-07-15T16:12:01.051Z"
   },
   {
    "duration": 44,
    "start_time": "2024-07-15T16:12:01.058Z"
   },
   {
    "duration": 362,
    "start_time": "2024-07-15T16:12:01.105Z"
   },
   {
    "duration": 40,
    "start_time": "2024-07-15T16:12:01.471Z"
   },
   {
    "duration": 4,
    "start_time": "2024-07-15T16:12:01.514Z"
   },
   {
    "duration": 23,
    "start_time": "2024-07-15T16:12:01.521Z"
   },
   {
    "duration": 3,
    "start_time": "2024-07-15T16:12:01.548Z"
   },
   {
    "duration": 1577,
    "start_time": "2024-07-15T16:12:01.555Z"
   },
   {
    "duration": 232,
    "start_time": "2024-07-15T16:12:03.135Z"
   },
   {
    "duration": 84,
    "start_time": "2024-07-15T16:12:03.371Z"
   },
   {
    "duration": 16,
    "start_time": "2024-07-15T16:12:03.459Z"
   },
   {
    "duration": 4,
    "start_time": "2024-07-15T16:12:03.477Z"
   },
   {
    "duration": 17,
    "start_time": "2024-07-15T16:12:03.502Z"
   },
   {
    "duration": 18,
    "start_time": "2024-07-15T16:12:03.522Z"
   },
   {
    "duration": 85,
    "start_time": "2024-07-15T16:12:03.544Z"
   },
   {
    "duration": 228,
    "start_time": "2024-07-15T16:12:03.632Z"
   },
   {
    "duration": 6,
    "start_time": "2024-07-15T16:12:03.863Z"
   },
   {
    "duration": 780,
    "start_time": "2024-07-15T23:12:46.751Z"
   },
   {
    "duration": 21,
    "start_time": "2024-07-15T23:12:47.534Z"
   },
   {
    "duration": 93,
    "start_time": "2024-07-15T23:12:47.569Z"
   },
   {
    "duration": 17,
    "start_time": "2024-07-15T23:12:47.667Z"
   },
   {
    "duration": 19,
    "start_time": "2024-07-15T23:12:47.688Z"
   },
   {
    "duration": 14,
    "start_time": "2024-07-15T23:12:47.709Z"
   },
   {
    "duration": 50,
    "start_time": "2024-07-15T23:12:47.726Z"
   },
   {
    "duration": 13,
    "start_time": "2024-07-15T23:12:47.779Z"
   },
   {
    "duration": 1396,
    "start_time": "2024-07-15T23:12:47.795Z"
   },
   {
    "duration": 40,
    "start_time": "2024-07-15T23:12:49.197Z"
   },
   {
    "duration": 195,
    "start_time": "2024-07-15T23:12:49.241Z"
   },
   {
    "duration": 28,
    "start_time": "2024-07-15T23:12:49.440Z"
   },
   {
    "duration": 192,
    "start_time": "2024-07-15T23:12:49.470Z"
   },
   {
    "duration": 173,
    "start_time": "2024-07-15T23:12:49.667Z"
   },
   {
    "duration": 85,
    "start_time": "2024-07-15T23:12:49.843Z"
   },
   {
    "duration": 23,
    "start_time": "2024-07-15T23:12:49.931Z"
   },
   {
    "duration": 9,
    "start_time": "2024-07-15T23:12:49.969Z"
   },
   {
    "duration": 57,
    "start_time": "2024-07-15T23:12:49.981Z"
   },
   {
    "duration": 19,
    "start_time": "2024-07-15T23:12:50.069Z"
   },
   {
    "duration": 5,
    "start_time": "2024-07-15T23:12:50.091Z"
   },
   {
    "duration": 5,
    "start_time": "2024-07-15T23:12:50.100Z"
   },
   {
    "duration": 1376,
    "start_time": "2024-07-15T23:12:50.109Z"
   },
   {
    "duration": 1391,
    "start_time": "2024-07-15T23:12:51.488Z"
   },
   {
    "duration": 3,
    "start_time": "2024-07-15T23:12:52.883Z"
   },
   {
    "duration": 16,
    "start_time": "2024-07-15T23:12:52.889Z"
   },
   {
    "duration": 14,
    "start_time": "2024-07-15T23:12:52.909Z"
   },
   {
    "duration": 45,
    "start_time": "2024-07-15T23:12:52.925Z"
   },
   {
    "duration": 3,
    "start_time": "2024-07-15T23:12:52.982Z"
   },
   {
    "duration": 10,
    "start_time": "2024-07-15T23:12:52.988Z"
   },
   {
    "duration": 16,
    "start_time": "2024-07-15T23:12:53.001Z"
   },
   {
    "duration": 61,
    "start_time": "2024-07-15T23:12:53.020Z"
   },
   {
    "duration": 7,
    "start_time": "2024-07-15T23:12:53.084Z"
   },
   {
    "duration": 10,
    "start_time": "2024-07-15T23:12:53.094Z"
   },
   {
    "duration": 3,
    "start_time": "2024-07-15T23:12:53.108Z"
   },
   {
    "duration": 187,
    "start_time": "2024-07-15T23:12:53.114Z"
   },
   {
    "duration": 4220,
    "start_time": "2024-07-15T23:12:53.303Z"
   },
   {
    "duration": 12,
    "start_time": "2024-07-15T23:12:57.526Z"
   },
   {
    "duration": 42,
    "start_time": "2024-07-15T23:12:57.541Z"
   },
   {
    "duration": 20,
    "start_time": "2024-07-15T23:12:57.587Z"
   },
   {
    "duration": 71,
    "start_time": "2024-07-15T23:12:57.610Z"
   },
   {
    "duration": 3,
    "start_time": "2024-07-15T23:12:57.687Z"
   },
   {
    "duration": 829,
    "start_time": "2024-07-15T23:12:57.693Z"
   },
   {
    "duration": 10,
    "start_time": "2024-07-15T23:12:58.525Z"
   },
   {
    "duration": 35,
    "start_time": "2024-07-15T23:12:58.537Z"
   },
   {
    "duration": 103,
    "start_time": "2024-07-15T23:12:58.580Z"
   },
   {
    "duration": 22,
    "start_time": "2024-07-15T23:12:58.687Z"
   },
   {
    "duration": 6,
    "start_time": "2024-07-15T23:12:58.713Z"
   },
   {
    "duration": 167,
    "start_time": "2024-07-15T23:12:58.723Z"
   },
   {
    "duration": 15,
    "start_time": "2024-07-15T23:12:58.893Z"
   },
   {
    "duration": 14,
    "start_time": "2024-07-15T23:12:58.911Z"
   },
   {
    "duration": 382,
    "start_time": "2024-07-15T23:12:58.928Z"
   },
   {
    "duration": 3,
    "start_time": "2024-07-15T23:12:59.313Z"
   },
   {
    "duration": 14,
    "start_time": "2024-07-15T23:12:59.319Z"
   },
   {
    "duration": 256,
    "start_time": "2024-07-15T23:12:59.336Z"
   },
   {
    "duration": 3,
    "start_time": "2024-07-15T23:12:59.595Z"
   },
   {
    "duration": 5,
    "start_time": "2024-07-15T23:12:59.601Z"
   },
   {
    "duration": 15,
    "start_time": "2024-07-15T23:12:59.610Z"
   },
   {
    "duration": 402,
    "start_time": "2024-07-15T23:12:59.627Z"
   },
   {
    "duration": 3,
    "start_time": "2024-07-15T23:13:00.032Z"
   },
   {
    "duration": 431,
    "start_time": "2024-07-15T23:13:00.039Z"
   },
   {
    "duration": 70,
    "start_time": "2024-07-15T23:13:00.474Z"
   },
   {
    "duration": 237,
    "start_time": "2024-07-15T23:13:00.547Z"
   },
   {
    "duration": 3,
    "start_time": "2024-07-15T23:13:00.787Z"
   },
   {
    "duration": 4,
    "start_time": "2024-07-15T23:13:00.794Z"
   },
   {
    "duration": 3539,
    "start_time": "2024-07-15T23:13:00.801Z"
   },
   {
    "duration": 4,
    "start_time": "2024-07-15T23:13:04.343Z"
   },
   {
    "duration": 17,
    "start_time": "2024-07-15T23:13:04.351Z"
   },
   {
    "duration": 1118,
    "start_time": "2024-07-15T23:13:04.372Z"
   },
   {
    "duration": 546,
    "start_time": "2024-07-15T23:13:05.492Z"
   },
   {
    "duration": 318,
    "start_time": "2024-07-15T23:13:06.041Z"
   },
   {
    "duration": 4,
    "start_time": "2024-07-15T23:13:06.369Z"
   },
   {
    "duration": 3,
    "start_time": "2024-07-15T23:13:06.377Z"
   },
   {
    "duration": 199,
    "start_time": "2024-07-15T23:13:06.384Z"
   },
   {
    "duration": 89,
    "start_time": "2024-07-15T23:13:06.586Z"
   },
   {
    "duration": 21,
    "start_time": "2024-07-15T23:13:06.679Z"
   },
   {
    "duration": 10,
    "start_time": "2024-07-15T23:13:06.703Z"
   },
   {
    "duration": 13,
    "start_time": "2024-07-15T23:13:06.716Z"
   },
   {
    "duration": 4,
    "start_time": "2024-07-15T23:13:06.769Z"
   },
   {
    "duration": 4,
    "start_time": "2024-07-15T23:13:06.777Z"
   },
   {
    "duration": 391,
    "start_time": "2024-07-15T23:13:06.785Z"
   },
   {
    "duration": 31,
    "start_time": "2024-07-15T23:13:07.179Z"
   },
   {
    "duration": 3,
    "start_time": "2024-07-15T23:13:07.224Z"
   },
   {
    "duration": 52,
    "start_time": "2024-07-15T23:13:07.229Z"
   },
   {
    "duration": 4,
    "start_time": "2024-07-15T23:13:07.285Z"
   },
   {
    "duration": 1455,
    "start_time": "2024-07-15T23:13:07.293Z"
   },
   {
    "duration": 210,
    "start_time": "2024-07-15T23:13:08.751Z"
   },
   {
    "duration": 68,
    "start_time": "2024-07-15T23:13:08.968Z"
   },
   {
    "duration": 31,
    "start_time": "2024-07-15T23:13:09.039Z"
   },
   {
    "duration": 4,
    "start_time": "2024-07-15T23:13:09.072Z"
   },
   {
    "duration": 15,
    "start_time": "2024-07-15T23:13:09.080Z"
   },
   {
    "duration": 16,
    "start_time": "2024-07-15T23:13:09.097Z"
   },
   {
    "duration": 81,
    "start_time": "2024-07-15T23:13:09.117Z"
   },
   {
    "duration": 211,
    "start_time": "2024-07-15T23:13:09.201Z"
   },
   {
    "duration": 6,
    "start_time": "2024-07-15T23:13:09.415Z"
   },
   {
    "duration": 7,
    "start_time": "2024-07-15T23:15:10.107Z"
   },
   {
    "duration": 5,
    "start_time": "2024-07-15T23:15:11.922Z"
   },
   {
    "duration": 7,
    "start_time": "2024-07-15T23:39:10.134Z"
   },
   {
    "duration": 5,
    "start_time": "2024-07-15T23:40:02.505Z"
   },
   {
    "duration": 6,
    "start_time": "2024-07-15T23:40:08.021Z"
   },
   {
    "duration": 5,
    "start_time": "2024-07-15T23:40:16.336Z"
   },
   {
    "duration": 5,
    "start_time": "2024-07-15T23:40:19.304Z"
   },
   {
    "duration": 7,
    "start_time": "2024-07-15T23:40:30.762Z"
   },
   {
    "duration": 8,
    "start_time": "2024-07-15T23:46:36.362Z"
   },
   {
    "duration": 6,
    "start_time": "2024-07-15T23:47:14.897Z"
   },
   {
    "duration": 212,
    "start_time": "2024-07-15T23:47:30.341Z"
   },
   {
    "duration": 26,
    "start_time": "2024-07-15T23:47:30.557Z"
   },
   {
    "duration": 60,
    "start_time": "2024-07-15T23:47:30.586Z"
   },
   {
    "duration": 17,
    "start_time": "2024-07-15T23:47:30.669Z"
   },
   {
    "duration": 16,
    "start_time": "2024-07-15T23:47:30.691Z"
   },
   {
    "duration": 13,
    "start_time": "2024-07-15T23:47:30.710Z"
   },
   {
    "duration": 51,
    "start_time": "2024-07-15T23:47:30.726Z"
   },
   {
    "duration": 15,
    "start_time": "2024-07-15T23:47:30.779Z"
   },
   {
    "duration": 1262,
    "start_time": "2024-07-15T23:47:30.797Z"
   },
   {
    "duration": 40,
    "start_time": "2024-07-15T23:47:32.062Z"
   },
   {
    "duration": 174,
    "start_time": "2024-07-15T23:47:32.105Z"
   },
   {
    "duration": 17,
    "start_time": "2024-07-15T23:47:32.285Z"
   },
   {
    "duration": 168,
    "start_time": "2024-07-15T23:47:32.306Z"
   },
   {
    "duration": 167,
    "start_time": "2024-07-15T23:47:32.481Z"
   },
   {
    "duration": 84,
    "start_time": "2024-07-15T23:47:32.651Z"
   },
   {
    "duration": 34,
    "start_time": "2024-07-15T23:47:32.739Z"
   },
   {
    "duration": 9,
    "start_time": "2024-07-15T23:47:32.776Z"
   },
   {
    "duration": 80,
    "start_time": "2024-07-15T23:47:32.788Z"
   },
   {
    "duration": 18,
    "start_time": "2024-07-15T23:47:32.871Z"
   },
   {
    "duration": 6,
    "start_time": "2024-07-15T23:47:32.892Z"
   },
   {
    "duration": 7,
    "start_time": "2024-07-15T23:47:32.900Z"
   },
   {
    "duration": 1353,
    "start_time": "2024-07-15T23:47:32.911Z"
   },
   {
    "duration": 1341,
    "start_time": "2024-07-15T23:47:34.270Z"
   },
   {
    "duration": 4,
    "start_time": "2024-07-15T23:47:35.614Z"
   },
   {
    "duration": 16,
    "start_time": "2024-07-15T23:47:35.622Z"
   },
   {
    "duration": 39,
    "start_time": "2024-07-15T23:47:35.640Z"
   },
   {
    "duration": 15,
    "start_time": "2024-07-15T23:47:35.682Z"
   },
   {
    "duration": 3,
    "start_time": "2024-07-15T23:47:35.700Z"
   },
   {
    "duration": 9,
    "start_time": "2024-07-15T23:47:35.706Z"
   },
   {
    "duration": 59,
    "start_time": "2024-07-15T23:47:35.718Z"
   },
   {
    "duration": 17,
    "start_time": "2024-07-15T23:47:35.780Z"
   },
   {
    "duration": 6,
    "start_time": "2024-07-15T23:47:35.800Z"
   },
   {
    "duration": 10,
    "start_time": "2024-07-15T23:47:35.810Z"
   },
   {
    "duration": 46,
    "start_time": "2024-07-15T23:47:35.823Z"
   },
   {
    "duration": 154,
    "start_time": "2024-07-15T23:47:35.874Z"
   },
   {
    "duration": 240,
    "start_time": "2024-07-15T23:47:36.031Z"
   },
   {
    "duration": 12,
    "start_time": "2024-07-15T23:47:36.275Z"
   },
   {
    "duration": 16,
    "start_time": "2024-07-15T23:47:36.290Z"
   },
   {
    "duration": 60,
    "start_time": "2024-07-15T23:47:36.308Z"
   },
   {
    "duration": 38,
    "start_time": "2024-07-15T23:47:45.391Z"
   },
   {
    "duration": 803,
    "start_time": "2024-07-15T23:47:47.204Z"
   },
   {
    "duration": 15,
    "start_time": "2024-07-15T23:47:58.476Z"
   },
   {
    "duration": 351,
    "start_time": "2024-07-15T23:53:44.031Z"
   },
   {
    "duration": 875,
    "start_time": "2024-07-15T23:53:56.798Z"
   },
   {
    "duration": 11,
    "start_time": "2024-07-15T23:54:10.501Z"
   },
   {
    "duration": 6,
    "start_time": "2024-07-16T00:05:04.427Z"
   },
   {
    "duration": 25,
    "start_time": "2024-07-16T00:19:22.705Z"
   },
   {
    "duration": 5,
    "start_time": "2024-07-16T00:19:55.339Z"
   },
   {
    "duration": 11,
    "start_time": "2024-07-16T00:20:41.826Z"
   },
   {
    "duration": 7,
    "start_time": "2024-07-16T00:21:13.311Z"
   },
   {
    "duration": 19,
    "start_time": "2024-07-16T00:21:17.410Z"
   },
   {
    "duration": 20,
    "start_time": "2024-07-16T00:21:18.733Z"
   },
   {
    "duration": 254,
    "start_time": "2024-07-16T00:21:25.641Z"
   },
   {
    "duration": 43,
    "start_time": "2024-07-16T00:21:35.324Z"
   },
   {
    "duration": 16,
    "start_time": "2024-07-16T00:22:35.036Z"
   },
   {
    "duration": 11,
    "start_time": "2024-07-16T00:23:18.862Z"
   },
   {
    "duration": 8,
    "start_time": "2024-07-16T00:23:22.102Z"
   },
   {
    "duration": 26,
    "start_time": "2024-07-16T00:23:34.343Z"
   },
   {
    "duration": 7,
    "start_time": "2024-07-16T00:23:44.651Z"
   },
   {
    "duration": 6,
    "start_time": "2024-07-16T00:24:31.997Z"
   },
   {
    "duration": 5,
    "start_time": "2024-07-16T00:25:16.123Z"
   },
   {
    "duration": 8,
    "start_time": "2024-07-16T00:27:58.151Z"
   },
   {
    "duration": 6,
    "start_time": "2024-07-16T00:41:38.964Z"
   },
   {
    "duration": 224,
    "start_time": "2024-07-16T00:53:26.211Z"
   },
   {
    "duration": 64,
    "start_time": "2024-07-16T00:55:38.027Z"
   },
   {
    "duration": 84,
    "start_time": "2024-07-16T00:55:44.816Z"
   },
   {
    "duration": 65,
    "start_time": "2024-07-16T00:55:57.760Z"
   },
   {
    "duration": 16,
    "start_time": "2024-07-16T00:56:16.165Z"
   },
   {
    "duration": 79,
    "start_time": "2024-07-16T00:56:45.560Z"
   },
   {
    "duration": 747,
    "start_time": "2024-07-16T00:57:20.684Z"
   },
   {
    "duration": 34,
    "start_time": "2024-07-16T00:57:21.434Z"
   },
   {
    "duration": 91,
    "start_time": "2024-07-16T00:57:21.470Z"
   },
   {
    "duration": 16,
    "start_time": "2024-07-16T00:57:21.564Z"
   },
   {
    "duration": 19,
    "start_time": "2024-07-16T00:57:21.585Z"
   },
   {
    "duration": 14,
    "start_time": "2024-07-16T00:57:21.606Z"
   },
   {
    "duration": 17,
    "start_time": "2024-07-16T00:57:21.623Z"
   },
   {
    "duration": 38,
    "start_time": "2024-07-16T00:57:21.642Z"
   },
   {
    "duration": 1385,
    "start_time": "2024-07-16T00:57:21.684Z"
   },
   {
    "duration": 42,
    "start_time": "2024-07-16T00:57:23.073Z"
   },
   {
    "duration": 188,
    "start_time": "2024-07-16T00:57:23.118Z"
   },
   {
    "duration": 15,
    "start_time": "2024-07-16T00:57:23.308Z"
   },
   {
    "duration": 198,
    "start_time": "2024-07-16T00:57:23.326Z"
   },
   {
    "duration": 180,
    "start_time": "2024-07-16T00:57:23.530Z"
   },
   {
    "duration": 83,
    "start_time": "2024-07-16T00:57:23.713Z"
   },
   {
    "duration": 22,
    "start_time": "2024-07-16T00:57:23.800Z"
   },
   {
    "duration": 9,
    "start_time": "2024-07-16T00:57:23.824Z"
   },
   {
    "duration": 86,
    "start_time": "2024-07-16T00:57:23.836Z"
   },
   {
    "duration": 18,
    "start_time": "2024-07-16T00:57:23.925Z"
   },
   {
    "duration": 6,
    "start_time": "2024-07-16T00:57:23.969Z"
   },
   {
    "duration": 6,
    "start_time": "2024-07-16T00:57:23.978Z"
   },
   {
    "duration": 1433,
    "start_time": "2024-07-16T00:57:23.988Z"
   },
   {
    "duration": 1497,
    "start_time": "2024-07-16T00:57:25.423Z"
   },
   {
    "duration": 3,
    "start_time": "2024-07-16T00:57:26.924Z"
   },
   {
    "duration": 16,
    "start_time": "2024-07-16T00:57:26.929Z"
   },
   {
    "duration": 24,
    "start_time": "2024-07-16T00:57:26.969Z"
   },
   {
    "duration": 15,
    "start_time": "2024-07-16T00:57:26.997Z"
   },
   {
    "duration": 3,
    "start_time": "2024-07-16T00:57:27.016Z"
   },
   {
    "duration": 8,
    "start_time": "2024-07-16T00:57:27.023Z"
   },
   {
    "duration": 18,
    "start_time": "2024-07-16T00:57:27.068Z"
   },
   {
    "duration": 17,
    "start_time": "2024-07-16T00:57:27.089Z"
   },
   {
    "duration": 7,
    "start_time": "2024-07-16T00:57:27.109Z"
   },
   {
    "duration": 50,
    "start_time": "2024-07-16T00:57:27.119Z"
   },
   {
    "duration": 4,
    "start_time": "2024-07-16T00:57:27.172Z"
   },
   {
    "duration": 164,
    "start_time": "2024-07-16T00:57:27.179Z"
   },
   {
    "duration": 539,
    "start_time": "2024-07-16T00:57:27.346Z"
   },
   {
    "duration": 12,
    "start_time": "2024-07-16T00:57:27.888Z"
   },
   {
    "duration": 19,
    "start_time": "2024-07-16T00:57:27.903Z"
   },
   {
    "duration": 59,
    "start_time": "2024-07-16T00:57:27.925Z"
   },
   {
    "duration": 40,
    "start_time": "2024-07-16T00:57:27.989Z"
   },
   {
    "duration": 5,
    "start_time": "2024-07-16T00:57:28.069Z"
   },
   {
    "duration": 807,
    "start_time": "2024-07-16T00:57:28.079Z"
   },
   {
    "duration": 13,
    "start_time": "2024-07-16T00:57:28.889Z"
   },
   {
    "duration": 12,
    "start_time": "2024-07-16T00:57:28.905Z"
   },
   {
    "duration": 129,
    "start_time": "2024-07-16T00:57:28.920Z"
   },
   {
    "duration": 34,
    "start_time": "2024-07-16T00:57:29.052Z"
   },
   {
    "duration": 7,
    "start_time": "2024-07-16T00:57:29.089Z"
   },
   {
    "duration": 155,
    "start_time": "2024-07-16T00:57:29.099Z"
   },
   {
    "duration": 22,
    "start_time": "2024-07-16T00:57:29.257Z"
   },
   {
    "duration": 21,
    "start_time": "2024-07-16T00:57:29.282Z"
   },
   {
    "duration": 351,
    "start_time": "2024-07-16T00:57:29.305Z"
   },
   {
    "duration": 9,
    "start_time": "2024-07-16T00:57:29.659Z"
   },
   {
    "duration": 14,
    "start_time": "2024-07-16T00:57:29.671Z"
   },
   {
    "duration": 243,
    "start_time": "2024-07-16T00:57:29.688Z"
   },
   {
    "duration": 3,
    "start_time": "2024-07-16T00:57:29.934Z"
   },
   {
    "duration": 26,
    "start_time": "2024-07-16T00:57:29.941Z"
   },
   {
    "duration": 18,
    "start_time": "2024-07-16T00:57:29.970Z"
   },
   {
    "duration": 386,
    "start_time": "2024-07-16T00:57:29.992Z"
   },
   {
    "duration": 4,
    "start_time": "2024-07-16T00:57:30.382Z"
   },
   {
    "duration": 372,
    "start_time": "2024-07-16T00:57:30.389Z"
   },
   {
    "duration": 66,
    "start_time": "2024-07-16T00:57:30.764Z"
   },
   {
    "duration": 237,
    "start_time": "2024-07-16T00:57:30.833Z"
   },
   {
    "duration": 4,
    "start_time": "2024-07-16T00:57:31.073Z"
   },
   {
    "duration": 4,
    "start_time": "2024-07-16T00:57:31.080Z"
   },
   {
    "duration": 3526,
    "start_time": "2024-07-16T00:57:31.088Z"
   },
   {
    "duration": 3,
    "start_time": "2024-07-16T00:57:34.617Z"
   },
   {
    "duration": 3,
    "start_time": "2024-07-16T00:57:34.624Z"
   },
   {
    "duration": 1128,
    "start_time": "2024-07-16T00:57:34.631Z"
   },
   {
    "duration": 566,
    "start_time": "2024-07-16T00:57:35.762Z"
   },
   {
    "duration": 324,
    "start_time": "2024-07-16T00:57:36.332Z"
   },
   {
    "duration": 10,
    "start_time": "2024-07-16T00:57:36.659Z"
   },
   {
    "duration": 4,
    "start_time": "2024-07-16T00:57:36.673Z"
   },
   {
    "duration": 201,
    "start_time": "2024-07-16T00:57:36.681Z"
   },
   {
    "duration": 91,
    "start_time": "2024-07-16T00:57:36.884Z"
   },
   {
    "duration": 22,
    "start_time": "2024-07-16T00:57:36.978Z"
   },
   {
    "duration": 10,
    "start_time": "2024-07-16T00:57:37.003Z"
   },
   {
    "duration": 14,
    "start_time": "2024-07-16T00:57:37.016Z"
   },
   {
    "duration": 37,
    "start_time": "2024-07-16T00:57:37.033Z"
   },
   {
    "duration": 4,
    "start_time": "2024-07-16T00:57:37.073Z"
   },
   {
    "duration": 387,
    "start_time": "2024-07-16T00:57:37.080Z"
   },
   {
    "duration": 34,
    "start_time": "2024-07-16T00:57:37.470Z"
   },
   {
    "duration": 4,
    "start_time": "2024-07-16T00:57:37.506Z"
   },
   {
    "duration": 22,
    "start_time": "2024-07-16T00:57:37.513Z"
   },
   {
    "duration": 33,
    "start_time": "2024-07-16T00:57:37.537Z"
   },
   {
    "duration": 1455,
    "start_time": "2024-07-16T00:58:16.215Z"
   },
   {
    "duration": 206,
    "start_time": "2024-07-16T00:58:19.901Z"
   },
   {
    "duration": 105,
    "start_time": "2024-07-16T00:58:26.268Z"
   },
   {
    "duration": 141,
    "start_time": "2024-07-16T00:58:47.695Z"
   },
   {
    "duration": 339,
    "start_time": "2024-07-16T00:58:57.666Z"
   },
   {
    "duration": 21,
    "start_time": "2024-07-16T00:59:04.376Z"
   },
   {
    "duration": 22,
    "start_time": "2024-07-16T00:59:08.333Z"
   },
   {
    "duration": 22,
    "start_time": "2024-07-16T00:59:16.606Z"
   },
   {
    "duration": 23,
    "start_time": "2024-07-16T00:59:18.897Z"
   },
   {
    "duration": 21,
    "start_time": "2024-07-16T00:59:19.629Z"
   },
   {
    "duration": 783,
    "start_time": "2024-07-16T00:59:26.255Z"
   },
   {
    "duration": 26,
    "start_time": "2024-07-16T00:59:27.042Z"
   },
   {
    "duration": 92,
    "start_time": "2024-07-16T00:59:27.071Z"
   },
   {
    "duration": 17,
    "start_time": "2024-07-16T00:59:27.167Z"
   },
   {
    "duration": 16,
    "start_time": "2024-07-16T00:59:27.189Z"
   },
   {
    "duration": 14,
    "start_time": "2024-07-16T00:59:27.208Z"
   },
   {
    "duration": 45,
    "start_time": "2024-07-16T00:59:27.225Z"
   },
   {
    "duration": 17,
    "start_time": "2024-07-16T00:59:27.273Z"
   },
   {
    "duration": 1408,
    "start_time": "2024-07-16T00:59:27.294Z"
   },
   {
    "duration": 40,
    "start_time": "2024-07-16T00:59:28.706Z"
   },
   {
    "duration": 201,
    "start_time": "2024-07-16T00:59:28.749Z"
   },
   {
    "duration": 23,
    "start_time": "2024-07-16T00:59:28.953Z"
   },
   {
    "duration": 199,
    "start_time": "2024-07-16T00:59:28.980Z"
   },
   {
    "duration": 187,
    "start_time": "2024-07-16T00:59:29.187Z"
   },
   {
    "duration": 91,
    "start_time": "2024-07-16T00:59:29.379Z"
   },
   {
    "duration": 23,
    "start_time": "2024-07-16T00:59:29.472Z"
   },
   {
    "duration": 7,
    "start_time": "2024-07-16T00:59:29.498Z"
   },
   {
    "duration": 85,
    "start_time": "2024-07-16T00:59:29.508Z"
   },
   {
    "duration": 18,
    "start_time": "2024-07-16T00:59:29.595Z"
   },
   {
    "duration": 6,
    "start_time": "2024-07-16T00:59:29.616Z"
   },
   {
    "duration": 41,
    "start_time": "2024-07-16T00:59:29.626Z"
   },
   {
    "duration": 1348,
    "start_time": "2024-07-16T00:59:29.671Z"
   },
   {
    "duration": 1400,
    "start_time": "2024-07-16T00:59:31.022Z"
   },
   {
    "duration": 4,
    "start_time": "2024-07-16T00:59:32.425Z"
   },
   {
    "duration": 37,
    "start_time": "2024-07-16T00:59:32.431Z"
   },
   {
    "duration": 16,
    "start_time": "2024-07-16T00:59:32.471Z"
   },
   {
    "duration": 18,
    "start_time": "2024-07-16T00:59:32.490Z"
   },
   {
    "duration": 4,
    "start_time": "2024-07-16T00:59:32.511Z"
   },
   {
    "duration": 51,
    "start_time": "2024-07-16T00:59:32.517Z"
   },
   {
    "duration": 16,
    "start_time": "2024-07-16T00:59:32.571Z"
   },
   {
    "duration": 17,
    "start_time": "2024-07-16T00:59:32.590Z"
   },
   {
    "duration": 6,
    "start_time": "2024-07-16T00:59:32.610Z"
   },
   {
    "duration": 51,
    "start_time": "2024-07-16T00:59:32.620Z"
   },
   {
    "duration": 3,
    "start_time": "2024-07-16T00:59:32.674Z"
   },
   {
    "duration": 160,
    "start_time": "2024-07-16T00:59:32.681Z"
   },
   {
    "duration": 519,
    "start_time": "2024-07-16T00:59:32.844Z"
   },
   {
    "duration": 12,
    "start_time": "2024-07-16T00:59:33.366Z"
   },
   {
    "duration": 19,
    "start_time": "2024-07-16T00:59:33.381Z"
   },
   {
    "duration": 19,
    "start_time": "2024-07-16T00:59:33.403Z"
   },
   {
    "duration": 41,
    "start_time": "2024-07-16T00:59:33.469Z"
   },
   {
    "duration": 3,
    "start_time": "2024-07-16T00:59:33.521Z"
   },
   {
    "duration": 818,
    "start_time": "2024-07-16T00:59:33.526Z"
   },
   {
    "duration": 21,
    "start_time": "2024-07-16T00:59:34.347Z"
   },
   {
    "duration": 10,
    "start_time": "2024-07-16T00:59:34.370Z"
   },
   {
    "duration": 117,
    "start_time": "2024-07-16T00:59:34.383Z"
   },
   {
    "duration": 21,
    "start_time": "2024-07-16T00:59:34.503Z"
   },
   {
    "duration": 7,
    "start_time": "2024-07-16T00:59:34.528Z"
   },
   {
    "duration": 176,
    "start_time": "2024-07-16T00:59:34.537Z"
   },
   {
    "duration": 15,
    "start_time": "2024-07-16T00:59:34.716Z"
   },
   {
    "duration": 34,
    "start_time": "2024-07-16T00:59:34.734Z"
   },
   {
    "duration": 357,
    "start_time": "2024-07-16T00:59:34.771Z"
   },
   {
    "duration": 4,
    "start_time": "2024-07-16T00:59:35.131Z"
   },
   {
    "duration": 33,
    "start_time": "2024-07-16T00:59:35.138Z"
   },
   {
    "duration": 229,
    "start_time": "2024-07-16T00:59:35.174Z"
   },
   {
    "duration": 4,
    "start_time": "2024-07-16T00:59:35.406Z"
   },
   {
    "duration": 6,
    "start_time": "2024-07-16T00:59:35.413Z"
   },
   {
    "duration": 48,
    "start_time": "2024-07-16T00:59:35.422Z"
   },
   {
    "duration": 374,
    "start_time": "2024-07-16T00:59:35.475Z"
   },
   {
    "duration": 15,
    "start_time": "2024-07-16T00:59:35.853Z"
   },
   {
    "duration": 438,
    "start_time": "2024-07-16T00:59:35.871Z"
   },
   {
    "duration": 80,
    "start_time": "2024-07-16T00:59:36.312Z"
   },
   {
    "duration": 232,
    "start_time": "2024-07-16T00:59:36.395Z"
   },
   {
    "duration": 3,
    "start_time": "2024-07-16T00:59:36.630Z"
   },
   {
    "duration": 4,
    "start_time": "2024-07-16T00:59:36.636Z"
   },
   {
    "duration": 3548,
    "start_time": "2024-07-16T00:59:36.644Z"
   },
   {
    "duration": 4,
    "start_time": "2024-07-16T00:59:40.195Z"
   },
   {
    "duration": 4,
    "start_time": "2024-07-16T00:59:40.201Z"
   },
   {
    "duration": 1092,
    "start_time": "2024-07-16T00:59:40.209Z"
   },
   {
    "duration": 517,
    "start_time": "2024-07-16T00:59:41.304Z"
   },
   {
    "duration": 323,
    "start_time": "2024-07-16T00:59:41.825Z"
   },
   {
    "duration": 5,
    "start_time": "2024-07-16T00:59:42.155Z"
   },
   {
    "duration": 4,
    "start_time": "2024-07-16T00:59:42.169Z"
   },
   {
    "duration": 191,
    "start_time": "2024-07-16T00:59:42.177Z"
   },
   {
    "duration": 81,
    "start_time": "2024-07-16T00:59:42.370Z"
   },
   {
    "duration": 21,
    "start_time": "2024-07-16T00:59:42.468Z"
   },
   {
    "duration": 9,
    "start_time": "2024-07-16T00:59:42.493Z"
   },
   {
    "duration": 14,
    "start_time": "2024-07-16T00:59:42.504Z"
   },
   {
    "duration": 4,
    "start_time": "2024-07-16T00:59:42.520Z"
   },
   {
    "duration": 3,
    "start_time": "2024-07-16T00:59:42.567Z"
   },
   {
    "duration": 363,
    "start_time": "2024-07-16T00:59:42.573Z"
   },
   {
    "duration": 48,
    "start_time": "2024-07-16T00:59:42.939Z"
   },
   {
    "duration": 4,
    "start_time": "2024-07-16T00:59:42.990Z"
   },
   {
    "duration": 22,
    "start_time": "2024-07-16T00:59:42.996Z"
   },
   {
    "duration": 3,
    "start_time": "2024-07-16T00:59:43.021Z"
   },
   {
    "duration": 1285,
    "start_time": "2024-07-16T01:16:01.964Z"
   },
   {
    "duration": 191,
    "start_time": "2024-07-16T01:16:05.259Z"
   },
   {
    "duration": 130,
    "start_time": "2024-07-16T01:16:09.043Z"
   },
   {
    "duration": 756,
    "start_time": "2024-07-16T01:20:49.858Z"
   },
   {
    "duration": 19,
    "start_time": "2024-07-16T01:20:50.619Z"
   },
   {
    "duration": 85,
    "start_time": "2024-07-16T01:20:50.642Z"
   },
   {
    "duration": 17,
    "start_time": "2024-07-16T01:20:50.730Z"
   },
   {
    "duration": 27,
    "start_time": "2024-07-16T01:20:50.771Z"
   },
   {
    "duration": 13,
    "start_time": "2024-07-16T01:20:50.802Z"
   },
   {
    "duration": 49,
    "start_time": "2024-07-16T01:20:50.818Z"
   },
   {
    "duration": 15,
    "start_time": "2024-07-16T01:20:50.870Z"
   },
   {
    "duration": 1356,
    "start_time": "2024-07-16T01:20:50.888Z"
   },
   {
    "duration": 54,
    "start_time": "2024-07-16T01:20:52.247Z"
   },
   {
    "duration": 191,
    "start_time": "2024-07-16T01:20:52.308Z"
   },
   {
    "duration": 14,
    "start_time": "2024-07-16T01:20:52.502Z"
   },
   {
    "duration": 215,
    "start_time": "2024-07-16T01:20:52.519Z"
   },
   {
    "duration": 180,
    "start_time": "2024-07-16T01:20:52.740Z"
   },
   {
    "duration": 90,
    "start_time": "2024-07-16T01:20:52.923Z"
   },
   {
    "duration": 23,
    "start_time": "2024-07-16T01:20:53.016Z"
   },
   {
    "duration": 33,
    "start_time": "2024-07-16T01:20:53.042Z"
   },
   {
    "duration": 60,
    "start_time": "2024-07-16T01:20:53.078Z"
   },
   {
    "duration": 39,
    "start_time": "2024-07-16T01:20:53.142Z"
   },
   {
    "duration": 6,
    "start_time": "2024-07-16T01:20:53.184Z"
   },
   {
    "duration": 6,
    "start_time": "2024-07-16T01:20:53.193Z"
   },
   {
    "duration": 1440,
    "start_time": "2024-07-16T01:20:53.202Z"
   },
   {
    "duration": 1459,
    "start_time": "2024-07-16T01:20:54.645Z"
   },
   {
    "duration": 3,
    "start_time": "2024-07-16T01:20:56.108Z"
   },
   {
    "duration": 17,
    "start_time": "2024-07-16T01:20:56.114Z"
   },
   {
    "duration": 18,
    "start_time": "2024-07-16T01:20:56.169Z"
   },
   {
    "duration": 15,
    "start_time": "2024-07-16T01:20:56.191Z"
   },
   {
    "duration": 3,
    "start_time": "2024-07-16T01:20:56.210Z"
   },
   {
    "duration": 56,
    "start_time": "2024-07-16T01:20:56.216Z"
   },
   {
    "duration": 18,
    "start_time": "2024-07-16T01:20:56.275Z"
   },
   {
    "duration": 18,
    "start_time": "2024-07-16T01:20:56.297Z"
   },
   {
    "duration": 7,
    "start_time": "2024-07-16T01:20:56.367Z"
   },
   {
    "duration": 12,
    "start_time": "2024-07-16T01:20:56.378Z"
   },
   {
    "duration": 4,
    "start_time": "2024-07-16T01:20:56.394Z"
   },
   {
    "duration": 201,
    "start_time": "2024-07-16T01:20:56.402Z"
   },
   {
    "duration": 552,
    "start_time": "2024-07-16T01:20:56.606Z"
   },
   {
    "duration": 12,
    "start_time": "2024-07-16T01:20:57.168Z"
   },
   {
    "duration": 17,
    "start_time": "2024-07-16T01:20:57.184Z"
   },
   {
    "duration": 66,
    "start_time": "2024-07-16T01:20:57.203Z"
   },
   {
    "duration": 48,
    "start_time": "2024-07-16T01:20:57.274Z"
   },
   {
    "duration": 30,
    "start_time": "2024-07-16T01:20:57.339Z"
   },
   {
    "duration": 840,
    "start_time": "2024-07-16T01:20:57.373Z"
   },
   {
    "duration": 11,
    "start_time": "2024-07-16T01:20:58.216Z"
   },
   {
    "duration": 39,
    "start_time": "2024-07-16T01:20:58.231Z"
   },
   {
    "duration": 112,
    "start_time": "2024-07-16T01:20:58.274Z"
   },
   {
    "duration": 22,
    "start_time": "2024-07-16T01:20:58.390Z"
   },
   {
    "duration": 6,
    "start_time": "2024-07-16T01:20:58.415Z"
   },
   {
    "duration": 176,
    "start_time": "2024-07-16T01:20:58.424Z"
   },
   {
    "duration": 14,
    "start_time": "2024-07-16T01:20:58.603Z"
   },
   {
    "duration": 50,
    "start_time": "2024-07-16T01:20:58.620Z"
   },
   {
    "duration": 357,
    "start_time": "2024-07-16T01:20:58.674Z"
   },
   {
    "duration": 3,
    "start_time": "2024-07-16T01:20:59.035Z"
   },
   {
    "duration": 34,
    "start_time": "2024-07-16T01:20:59.041Z"
   },
   {
    "duration": 243,
    "start_time": "2024-07-16T01:20:59.078Z"
   },
   {
    "duration": 4,
    "start_time": "2024-07-16T01:20:59.325Z"
   },
   {
    "duration": 5,
    "start_time": "2024-07-16T01:20:59.332Z"
   },
   {
    "duration": 15,
    "start_time": "2024-07-16T01:20:59.367Z"
   },
   {
    "duration": 386,
    "start_time": "2024-07-16T01:20:59.385Z"
   },
   {
    "duration": 3,
    "start_time": "2024-07-16T01:20:59.774Z"
   },
   {
    "duration": 394,
    "start_time": "2024-07-16T01:20:59.780Z"
   },
   {
    "duration": 69,
    "start_time": "2024-07-16T01:21:00.177Z"
   },
   {
    "duration": 226,
    "start_time": "2024-07-16T01:21:00.269Z"
   },
   {
    "duration": 4,
    "start_time": "2024-07-16T01:21:00.499Z"
   },
   {
    "duration": 4,
    "start_time": "2024-07-16T01:21:00.506Z"
   },
   {
    "duration": 3555,
    "start_time": "2024-07-16T01:21:00.513Z"
   },
   {
    "duration": 4,
    "start_time": "2024-07-16T01:21:04.071Z"
   },
   {
    "duration": 4,
    "start_time": "2024-07-16T01:21:04.079Z"
   },
   {
    "duration": 1141,
    "start_time": "2024-07-16T01:21:04.087Z"
   },
   {
    "duration": 566,
    "start_time": "2024-07-16T01:21:05.231Z"
   },
   {
    "duration": 314,
    "start_time": "2024-07-16T01:21:05.800Z"
   },
   {
    "duration": 4,
    "start_time": "2024-07-16T01:21:06.117Z"
   },
   {
    "duration": 10,
    "start_time": "2024-07-16T01:21:06.123Z"
   },
   {
    "duration": 207,
    "start_time": "2024-07-16T01:21:06.136Z"
   },
   {
    "duration": 100,
    "start_time": "2024-07-16T01:21:06.347Z"
   },
   {
    "duration": 39,
    "start_time": "2024-07-16T01:21:06.450Z"
   },
   {
    "duration": 11,
    "start_time": "2024-07-16T01:21:06.492Z"
   },
   {
    "duration": 16,
    "start_time": "2024-07-16T01:21:06.506Z"
   },
   {
    "duration": 44,
    "start_time": "2024-07-16T01:21:06.524Z"
   },
   {
    "duration": 5,
    "start_time": "2024-07-16T01:21:06.572Z"
   },
   {
    "duration": 373,
    "start_time": "2024-07-16T01:21:06.580Z"
   },
   {
    "duration": 39,
    "start_time": "2024-07-16T01:21:06.956Z"
   },
   {
    "duration": 4,
    "start_time": "2024-07-16T01:21:06.997Z"
   },
   {
    "duration": 22,
    "start_time": "2024-07-16T01:21:07.004Z"
   },
   {
    "duration": 4,
    "start_time": "2024-07-16T01:21:07.068Z"
   },
   {
    "duration": 1565,
    "start_time": "2024-07-16T01:21:07.075Z"
   },
   {
    "duration": 230,
    "start_time": "2024-07-16T01:21:08.642Z"
   },
   {
    "duration": 153,
    "start_time": "2024-07-16T01:21:08.874Z"
   },
   {
    "duration": 4765,
    "start_time": "2024-07-16T12:27:58.697Z"
   },
   {
    "duration": 19,
    "start_time": "2024-07-16T12:28:03.466Z"
   },
   {
    "duration": 108,
    "start_time": "2024-07-16T12:28:03.488Z"
   },
   {
    "duration": 17,
    "start_time": "2024-07-16T12:28:03.601Z"
   },
   {
    "duration": 18,
    "start_time": "2024-07-16T12:28:03.631Z"
   },
   {
    "duration": 14,
    "start_time": "2024-07-16T12:28:03.653Z"
   },
   {
    "duration": 20,
    "start_time": "2024-07-16T12:28:03.669Z"
   },
   {
    "duration": 46,
    "start_time": "2024-07-16T12:28:03.694Z"
   },
   {
    "duration": 1474,
    "start_time": "2024-07-16T12:28:03.743Z"
   },
   {
    "duration": 54,
    "start_time": "2024-07-16T12:28:05.230Z"
   },
   {
    "duration": 174,
    "start_time": "2024-07-16T12:28:05.288Z"
   },
   {
    "duration": 27,
    "start_time": "2024-07-16T12:28:05.465Z"
   },
   {
    "duration": 213,
    "start_time": "2024-07-16T12:28:05.496Z"
   },
   {
    "duration": 199,
    "start_time": "2024-07-16T12:28:05.713Z"
   },
   {
    "duration": 75,
    "start_time": "2024-07-16T12:28:05.919Z"
   },
   {
    "duration": 39,
    "start_time": "2024-07-16T12:28:05.998Z"
   },
   {
    "duration": 11,
    "start_time": "2024-07-16T12:28:06.042Z"
   },
   {
    "duration": 73,
    "start_time": "2024-07-16T12:28:06.059Z"
   },
   {
    "duration": 21,
    "start_time": "2024-07-16T12:28:06.137Z"
   },
   {
    "duration": 6,
    "start_time": "2024-07-16T12:28:06.162Z"
   },
   {
    "duration": 6,
    "start_time": "2024-07-16T12:28:06.172Z"
   },
   {
    "duration": 1378,
    "start_time": "2024-07-16T12:28:06.182Z"
   },
   {
    "duration": 1411,
    "start_time": "2024-07-16T12:28:07.564Z"
   },
   {
    "duration": 4,
    "start_time": "2024-07-16T12:28:08.979Z"
   },
   {
    "duration": 15,
    "start_time": "2024-07-16T12:28:08.986Z"
   },
   {
    "duration": 13,
    "start_time": "2024-07-16T12:28:09.030Z"
   },
   {
    "duration": 15,
    "start_time": "2024-07-16T12:28:09.046Z"
   },
   {
    "duration": 4,
    "start_time": "2024-07-16T12:28:09.068Z"
   },
   {
    "duration": 11,
    "start_time": "2024-07-16T12:28:09.075Z"
   },
   {
    "duration": 60,
    "start_time": "2024-07-16T12:28:09.089Z"
   },
   {
    "duration": 19,
    "start_time": "2024-07-16T12:28:09.152Z"
   },
   {
    "duration": 9,
    "start_time": "2024-07-16T12:28:09.175Z"
   },
   {
    "duration": 51,
    "start_time": "2024-07-16T12:28:09.188Z"
   },
   {
    "duration": 4,
    "start_time": "2024-07-16T12:28:09.243Z"
   },
   {
    "duration": 181,
    "start_time": "2024-07-16T12:28:09.251Z"
   },
   {
    "duration": 244,
    "start_time": "2024-07-16T12:28:09.435Z"
   },
   {
    "duration": 14,
    "start_time": "2024-07-16T12:28:09.682Z"
   },
   {
    "duration": 40,
    "start_time": "2024-07-16T12:28:09.699Z"
   },
   {
    "duration": 18,
    "start_time": "2024-07-16T12:28:09.742Z"
   },
   {
    "duration": 74,
    "start_time": "2024-07-16T12:28:09.764Z"
   },
   {
    "duration": 4,
    "start_time": "2024-07-16T12:28:09.841Z"
   },
   {
    "duration": 817,
    "start_time": "2024-07-16T12:28:09.848Z"
   },
   {
    "duration": 13,
    "start_time": "2024-07-16T12:28:15.912Z"
   },
   {
    "duration": 10,
    "start_time": "2024-07-16T12:28:21.132Z"
   },
   {
    "duration": 82,
    "start_time": "2024-07-16T12:28:36.435Z"
   },
   {
    "duration": 22,
    "start_time": "2024-07-16T12:28:39.154Z"
   },
   {
    "duration": 173,
    "start_time": "2024-07-16T12:29:26.869Z"
   },
   {
    "duration": 311,
    "start_time": "2024-07-16T12:30:37.299Z"
   },
   {
    "duration": 29,
    "start_time": "2024-07-16T12:31:10.784Z"
   },
   {
    "duration": 146,
    "start_time": "2024-07-16T12:31:27.810Z"
   },
   {
    "duration": 9,
    "start_time": "2024-07-16T12:34:50.879Z"
   },
   {
    "duration": 13,
    "start_time": "2024-07-16T12:35:21.545Z"
   },
   {
    "duration": 236,
    "start_time": "2024-07-16T12:36:17.353Z"
   },
   {
    "duration": 16,
    "start_time": "2024-07-16T12:36:17.595Z"
   },
   {
    "duration": 74,
    "start_time": "2024-07-16T12:36:17.614Z"
   },
   {
    "duration": 18,
    "start_time": "2024-07-16T12:36:17.693Z"
   },
   {
    "duration": 21,
    "start_time": "2024-07-16T12:36:17.731Z"
   },
   {
    "duration": 15,
    "start_time": "2024-07-16T12:36:17.756Z"
   },
   {
    "duration": 17,
    "start_time": "2024-07-16T12:36:17.774Z"
   },
   {
    "duration": 46,
    "start_time": "2024-07-16T12:36:17.794Z"
   },
   {
    "duration": 1281,
    "start_time": "2024-07-16T12:36:17.843Z"
   },
   {
    "duration": 35,
    "start_time": "2024-07-16T12:36:19.135Z"
   },
   {
    "duration": 186,
    "start_time": "2024-07-16T12:36:19.173Z"
   },
   {
    "duration": 22,
    "start_time": "2024-07-16T12:36:19.362Z"
   },
   {
    "duration": 179,
    "start_time": "2024-07-16T12:36:19.387Z"
   },
   {
    "duration": 157,
    "start_time": "2024-07-16T12:36:19.568Z"
   },
   {
    "duration": 69,
    "start_time": "2024-07-16T12:36:19.731Z"
   },
   {
    "duration": 41,
    "start_time": "2024-07-16T12:36:19.804Z"
   },
   {
    "duration": 9,
    "start_time": "2024-07-16T12:36:19.851Z"
   },
   {
    "duration": 91,
    "start_time": "2024-07-16T12:36:19.863Z"
   },
   {
    "duration": 17,
    "start_time": "2024-07-16T12:36:19.957Z"
   },
   {
    "duration": 6,
    "start_time": "2024-07-16T12:36:19.978Z"
   },
   {
    "duration": 7,
    "start_time": "2024-07-16T12:36:19.986Z"
   },
   {
    "duration": 1367,
    "start_time": "2024-07-16T12:36:19.996Z"
   },
   {
    "duration": 1390,
    "start_time": "2024-07-16T12:36:21.366Z"
   },
   {
    "duration": 4,
    "start_time": "2024-07-16T12:36:22.759Z"
   },
   {
    "duration": 20,
    "start_time": "2024-07-16T12:36:22.767Z"
   },
   {
    "duration": 42,
    "start_time": "2024-07-16T12:36:22.790Z"
   },
   {
    "duration": 19,
    "start_time": "2024-07-16T12:36:22.835Z"
   },
   {
    "duration": 4,
    "start_time": "2024-07-16T12:36:22.867Z"
   },
   {
    "duration": 10,
    "start_time": "2024-07-16T12:36:22.874Z"
   },
   {
    "duration": 50,
    "start_time": "2024-07-16T12:36:22.887Z"
   },
   {
    "duration": 21,
    "start_time": "2024-07-16T12:36:22.941Z"
   },
   {
    "duration": 7,
    "start_time": "2024-07-16T12:36:22.965Z"
   },
   {
    "duration": 10,
    "start_time": "2024-07-16T12:36:22.975Z"
   },
   {
    "duration": 43,
    "start_time": "2024-07-16T12:36:22.989Z"
   },
   {
    "duration": 176,
    "start_time": "2024-07-16T12:36:23.035Z"
   },
   {
    "duration": 259,
    "start_time": "2024-07-16T12:36:23.214Z"
   },
   {
    "duration": 12,
    "start_time": "2024-07-16T12:36:23.475Z"
   },
   {
    "duration": 44,
    "start_time": "2024-07-16T12:36:23.490Z"
   },
   {
    "duration": 20,
    "start_time": "2024-07-16T12:36:23.537Z"
   },
   {
    "duration": 37,
    "start_time": "2024-07-16T12:36:23.561Z"
   },
   {
    "duration": 31,
    "start_time": "2024-07-16T12:36:23.601Z"
   },
   {
    "duration": 807,
    "start_time": "2024-07-16T12:36:23.636Z"
   },
   {
    "duration": 13,
    "start_time": "2024-07-16T12:36:24.446Z"
   },
   {
    "duration": 10,
    "start_time": "2024-07-16T12:36:24.462Z"
   },
   {
    "duration": 123,
    "start_time": "2024-07-16T12:36:24.475Z"
   },
   {
    "duration": 35,
    "start_time": "2024-07-16T12:36:24.601Z"
   },
   {
    "duration": 10,
    "start_time": "2024-07-16T12:36:24.639Z"
   },
   {
    "duration": 148,
    "start_time": "2024-07-16T12:36:24.652Z"
   },
   {
    "duration": 29,
    "start_time": "2024-07-16T12:36:24.803Z"
   },
   {
    "duration": 13,
    "start_time": "2024-07-16T12:36:24.836Z"
   },
   {
    "duration": 15,
    "start_time": "2024-07-16T12:36:24.852Z"
   },
   {
    "duration": 386,
    "start_time": "2024-07-16T12:36:24.869Z"
   },
   {
    "duration": 5,
    "start_time": "2024-07-16T12:36:25.259Z"
   },
   {
    "duration": 15,
    "start_time": "2024-07-16T12:36:25.268Z"
   },
   {
    "duration": 245,
    "start_time": "2024-07-16T12:36:25.286Z"
   },
   {
    "duration": 4,
    "start_time": "2024-07-16T12:36:25.534Z"
   },
   {
    "duration": 7,
    "start_time": "2024-07-16T12:36:25.542Z"
   },
   {
    "duration": 13,
    "start_time": "2024-07-16T12:36:25.552Z"
   },
   {
    "duration": 410,
    "start_time": "2024-07-16T12:36:25.568Z"
   },
   {
    "duration": 3,
    "start_time": "2024-07-16T12:36:25.982Z"
   },
   {
    "duration": 414,
    "start_time": "2024-07-16T12:36:25.988Z"
   },
   {
    "duration": 72,
    "start_time": "2024-07-16T12:36:26.407Z"
   },
   {
    "duration": 229,
    "start_time": "2024-07-16T12:36:26.482Z"
   },
   {
    "duration": 17,
    "start_time": "2024-07-16T12:36:26.713Z"
   },
   {
    "duration": 4,
    "start_time": "2024-07-16T12:36:26.734Z"
   },
   {
    "duration": 3395,
    "start_time": "2024-07-16T12:36:26.742Z"
   },
   {
    "duration": 5,
    "start_time": "2024-07-16T12:36:30.143Z"
   },
   {
    "duration": 5,
    "start_time": "2024-07-16T12:36:30.154Z"
   },
   {
    "duration": 1084,
    "start_time": "2024-07-16T12:36:30.165Z"
   },
   {
    "duration": 514,
    "start_time": "2024-07-16T12:36:31.251Z"
   },
   {
    "duration": 375,
    "start_time": "2024-07-16T12:36:31.769Z"
   },
   {
    "duration": 8,
    "start_time": "2024-07-16T12:36:32.147Z"
   },
   {
    "duration": 4,
    "start_time": "2024-07-16T12:36:32.160Z"
   },
   {
    "duration": 200,
    "start_time": "2024-07-16T12:36:32.170Z"
   },
   {
    "duration": 87,
    "start_time": "2024-07-16T12:36:32.374Z"
   },
   {
    "duration": 21,
    "start_time": "2024-07-16T12:36:32.464Z"
   },
   {
    "duration": 9,
    "start_time": "2024-07-16T12:36:32.488Z"
   },
   {
    "duration": 17,
    "start_time": "2024-07-16T12:36:32.530Z"
   },
   {
    "duration": 3,
    "start_time": "2024-07-16T12:36:32.550Z"
   },
   {
    "duration": 4,
    "start_time": "2024-07-16T12:36:32.557Z"
   },
   {
    "duration": 394,
    "start_time": "2024-07-16T12:36:32.564Z"
   },
   {
    "duration": 35,
    "start_time": "2024-07-16T12:36:32.971Z"
   },
   {
    "duration": 22,
    "start_time": "2024-07-16T12:36:33.010Z"
   },
   {
    "duration": 26,
    "start_time": "2024-07-16T12:36:33.035Z"
   },
   {
    "duration": 4,
    "start_time": "2024-07-16T12:36:33.064Z"
   },
   {
    "duration": 1295,
    "start_time": "2024-07-16T12:42:22.299Z"
   },
   {
    "duration": 334,
    "start_time": "2024-07-16T12:43:42.284Z"
   },
   {
    "duration": 66,
    "start_time": "2024-07-16T12:44:04.746Z"
   },
   {
    "duration": 14,
    "start_time": "2024-07-16T12:44:08.362Z"
   },
   {
    "duration": 20,
    "start_time": "2024-07-16T12:44:16.730Z"
   },
   {
    "duration": 21,
    "start_time": "2024-07-16T12:44:22.028Z"
   },
   {
    "duration": 1057,
    "start_time": "2024-07-16T12:44:48.424Z"
   },
   {
    "duration": 19,
    "start_time": "2024-07-16T12:44:49.484Z"
   },
   {
    "duration": 99,
    "start_time": "2024-07-16T12:44:49.508Z"
   },
   {
    "duration": 32,
    "start_time": "2024-07-16T12:44:49.610Z"
   },
   {
    "duration": 16,
    "start_time": "2024-07-16T12:44:49.646Z"
   },
   {
    "duration": 14,
    "start_time": "2024-07-16T12:44:49.665Z"
   },
   {
    "duration": 50,
    "start_time": "2024-07-16T12:44:49.682Z"
   },
   {
    "duration": 14,
    "start_time": "2024-07-16T12:44:49.735Z"
   },
   {
    "duration": 1311,
    "start_time": "2024-07-16T12:44:49.753Z"
   },
   {
    "duration": 46,
    "start_time": "2024-07-16T12:44:51.071Z"
   },
   {
    "duration": 169,
    "start_time": "2024-07-16T12:44:51.134Z"
   },
   {
    "duration": 33,
    "start_time": "2024-07-16T12:44:51.307Z"
   },
   {
    "duration": 179,
    "start_time": "2024-07-16T12:44:51.343Z"
   },
   {
    "duration": 166,
    "start_time": "2024-07-16T12:44:51.533Z"
   },
   {
    "duration": 94,
    "start_time": "2024-07-16T12:44:51.701Z"
   },
   {
    "duration": 42,
    "start_time": "2024-07-16T12:44:51.797Z"
   },
   {
    "duration": 12,
    "start_time": "2024-07-16T12:44:51.843Z"
   },
   {
    "duration": 80,
    "start_time": "2024-07-16T12:44:51.859Z"
   },
   {
    "duration": 17,
    "start_time": "2024-07-16T12:44:51.942Z"
   },
   {
    "duration": 6,
    "start_time": "2024-07-16T12:44:51.962Z"
   },
   {
    "duration": 6,
    "start_time": "2024-07-16T12:44:51.971Z"
   },
   {
    "duration": 1426,
    "start_time": "2024-07-16T12:44:51.980Z"
   },
   {
    "duration": 1390,
    "start_time": "2024-07-16T12:44:53.410Z"
   },
   {
    "duration": 3,
    "start_time": "2024-07-16T12:44:54.805Z"
   },
   {
    "duration": 32,
    "start_time": "2024-07-16T12:44:54.812Z"
   },
   {
    "duration": 12,
    "start_time": "2024-07-16T12:44:54.848Z"
   },
   {
    "duration": 16,
    "start_time": "2024-07-16T12:44:54.863Z"
   },
   {
    "duration": 4,
    "start_time": "2024-07-16T12:44:54.881Z"
   },
   {
    "duration": 48,
    "start_time": "2024-07-16T12:44:54.887Z"
   },
   {
    "duration": 16,
    "start_time": "2024-07-16T12:44:54.939Z"
   },
   {
    "duration": 24,
    "start_time": "2024-07-16T12:44:54.959Z"
   },
   {
    "duration": 41,
    "start_time": "2024-07-16T12:44:54.989Z"
   },
   {
    "duration": 14,
    "start_time": "2024-07-16T12:44:55.033Z"
   },
   {
    "duration": 3,
    "start_time": "2024-07-16T12:44:55.051Z"
   },
   {
    "duration": 179,
    "start_time": "2024-07-16T12:44:55.058Z"
   },
   {
    "duration": 257,
    "start_time": "2024-07-16T12:44:55.240Z"
   },
   {
    "duration": 12,
    "start_time": "2024-07-16T12:44:55.500Z"
   },
   {
    "duration": 16,
    "start_time": "2024-07-16T12:44:55.532Z"
   },
   {
    "duration": 18,
    "start_time": "2024-07-16T12:44:55.551Z"
   },
   {
    "duration": 88,
    "start_time": "2024-07-16T12:44:55.573Z"
   },
   {
    "duration": 3,
    "start_time": "2024-07-16T12:44:55.673Z"
   },
   {
    "duration": 853,
    "start_time": "2024-07-16T12:44:55.680Z"
   },
   {
    "duration": 12,
    "start_time": "2024-07-16T12:44:56.537Z"
   },
   {
    "duration": 11,
    "start_time": "2024-07-16T12:44:56.552Z"
   },
   {
    "duration": 136,
    "start_time": "2024-07-16T12:44:56.566Z"
   },
   {
    "duration": 34,
    "start_time": "2024-07-16T12:44:56.705Z"
   },
   {
    "duration": 8,
    "start_time": "2024-07-16T12:44:56.741Z"
   },
   {
    "duration": 180,
    "start_time": "2024-07-16T12:44:56.752Z"
   },
   {
    "duration": 17,
    "start_time": "2024-07-16T12:44:56.939Z"
   },
   {
    "duration": 13,
    "start_time": "2024-07-16T12:44:56.959Z"
   },
   {
    "duration": 15,
    "start_time": "2024-07-16T12:44:56.975Z"
   },
   {
    "duration": 378,
    "start_time": "2024-07-16T12:44:56.994Z"
   },
   {
    "duration": 4,
    "start_time": "2024-07-16T12:44:57.375Z"
   },
   {
    "duration": 17,
    "start_time": "2024-07-16T12:44:57.384Z"
   },
   {
    "duration": 222,
    "start_time": "2024-07-16T12:44:57.431Z"
   },
   {
    "duration": 4,
    "start_time": "2024-07-16T12:44:57.658Z"
   },
   {
    "duration": 6,
    "start_time": "2024-07-16T12:44:57.666Z"
   },
   {
    "duration": 17,
    "start_time": "2024-07-16T12:44:57.675Z"
   },
   {
    "duration": 435,
    "start_time": "2024-07-16T12:44:57.695Z"
   },
   {
    "duration": 3,
    "start_time": "2024-07-16T12:44:58.133Z"
   },
   {
    "duration": 375,
    "start_time": "2024-07-16T12:44:58.139Z"
   },
   {
    "duration": 86,
    "start_time": "2024-07-16T12:44:58.518Z"
   },
   {
    "duration": 244,
    "start_time": "2024-07-16T12:44:58.610Z"
   },
   {
    "duration": 3,
    "start_time": "2024-07-16T12:44:58.858Z"
   },
   {
    "duration": 4,
    "start_time": "2024-07-16T12:44:58.865Z"
   },
   {
    "duration": 3487,
    "start_time": "2024-07-16T12:44:58.872Z"
   },
   {
    "duration": 3,
    "start_time": "2024-07-16T12:45:02.363Z"
   },
   {
    "duration": 4,
    "start_time": "2024-07-16T12:45:02.370Z"
   },
   {
    "duration": 1099,
    "start_time": "2024-07-16T12:45:02.378Z"
   },
   {
    "duration": 538,
    "start_time": "2024-07-16T12:45:03.481Z"
   },
   {
    "duration": 345,
    "start_time": "2024-07-16T12:45:04.022Z"
   },
   {
    "duration": 6,
    "start_time": "2024-07-16T12:45:04.370Z"
   },
   {
    "duration": 8,
    "start_time": "2024-07-16T12:45:04.381Z"
   },
   {
    "duration": 210,
    "start_time": "2024-07-16T12:45:04.392Z"
   },
   {
    "duration": 93,
    "start_time": "2024-07-16T12:45:04.604Z"
   },
   {
    "duration": 30,
    "start_time": "2024-07-16T12:45:04.701Z"
   },
   {
    "duration": 14,
    "start_time": "2024-07-16T12:45:04.734Z"
   },
   {
    "duration": 12,
    "start_time": "2024-07-16T12:45:04.753Z"
   },
   {
    "duration": 4,
    "start_time": "2024-07-16T12:45:04.769Z"
   },
   {
    "duration": 4,
    "start_time": "2024-07-16T12:45:04.776Z"
   },
   {
    "duration": 490,
    "start_time": "2024-07-16T12:45:04.783Z"
   },
   {
    "duration": 54,
    "start_time": "2024-07-16T12:45:05.276Z"
   },
   {
    "duration": 4,
    "start_time": "2024-07-16T12:45:05.333Z"
   },
   {
    "duration": 22,
    "start_time": "2024-07-16T12:45:05.340Z"
   },
   {
    "duration": 5,
    "start_time": "2024-07-16T12:45:05.365Z"
   },
   {
    "duration": 1314,
    "start_time": "2024-07-16T12:45:05.374Z"
   },
   {
    "duration": 217,
    "start_time": "2024-07-16T12:45:06.691Z"
   },
   {
    "duration": 80,
    "start_time": "2024-07-16T12:45:06.911Z"
   },
   {
    "duration": 18,
    "start_time": "2024-07-16T12:45:06.994Z"
   },
   {
    "duration": 4,
    "start_time": "2024-07-16T12:45:07.031Z"
   },
   {
    "duration": 17,
    "start_time": "2024-07-16T12:45:07.038Z"
   },
   {
    "duration": 20,
    "start_time": "2024-07-16T12:45:07.057Z"
   },
   {
    "duration": 83,
    "start_time": "2024-07-16T12:45:07.080Z"
   },
   {
    "duration": 209,
    "start_time": "2024-07-16T12:45:07.166Z"
   },
   {
    "duration": 8,
    "start_time": "2024-07-16T12:45:07.377Z"
   },
   {
    "duration": 18,
    "start_time": "2024-07-16T12:46:41.427Z"
   },
   {
    "duration": 148,
    "start_time": "2024-07-16T15:25:07.924Z"
   },
   {
    "duration": 201,
    "start_time": "2024-07-16T15:25:32.285Z"
   },
   {
    "duration": 178,
    "start_time": "2024-07-16T15:26:08.725Z"
   },
   {
    "duration": 167,
    "start_time": "2024-07-16T15:26:10.743Z"
   },
   {
    "duration": 62,
    "start_time": "2024-07-16T15:26:33.368Z"
   },
   {
    "duration": 184,
    "start_time": "2024-07-16T15:26:37.760Z"
   },
   {
    "duration": 74,
    "start_time": "2024-07-16T15:26:40.410Z"
   },
   {
    "duration": 16,
    "start_time": "2024-07-16T15:26:42.558Z"
   },
   {
    "duration": 62,
    "start_time": "2024-07-16T15:27:35.269Z"
   },
   {
    "duration": 13,
    "start_time": "2024-07-16T15:27:37.089Z"
   },
   {
    "duration": 65,
    "start_time": "2024-07-16T15:28:22.927Z"
   },
   {
    "duration": 14,
    "start_time": "2024-07-16T15:28:24.567Z"
   },
   {
    "duration": 11,
    "start_time": "2024-07-16T15:30:03.726Z"
   },
   {
    "duration": 196,
    "start_time": "2024-07-16T15:32:10.322Z"
   },
   {
    "duration": 78,
    "start_time": "2024-07-16T15:32:13.812Z"
   },
   {
    "duration": 16,
    "start_time": "2024-07-16T15:32:16.299Z"
   },
   {
    "duration": 64,
    "start_time": "2024-07-16T15:32:34.830Z"
   },
   {
    "duration": 13,
    "start_time": "2024-07-16T15:32:36.574Z"
   },
   {
    "duration": 1245,
    "start_time": "2024-07-16T15:47:45.549Z"
   },
   {
    "duration": 169,
    "start_time": "2024-07-16T15:47:59.975Z"
   },
   {
    "duration": 370,
    "start_time": "2024-07-16T15:48:19.928Z"
   },
   {
    "duration": 27,
    "start_time": "2024-07-16T15:48:22.332Z"
   },
   {
    "duration": 28,
    "start_time": "2024-07-16T15:48:27.238Z"
   },
   {
    "duration": 23,
    "start_time": "2024-07-16T15:48:29.879Z"
   },
   {
    "duration": 1087,
    "start_time": "2024-07-16T15:48:38.295Z"
   },
   {
    "duration": 20,
    "start_time": "2024-07-16T15:48:39.387Z"
   },
   {
    "duration": 98,
    "start_time": "2024-07-16T15:48:39.410Z"
   },
   {
    "duration": 19,
    "start_time": "2024-07-16T15:48:39.511Z"
   },
   {
    "duration": 18,
    "start_time": "2024-07-16T15:48:39.536Z"
   },
   {
    "duration": 16,
    "start_time": "2024-07-16T15:48:39.557Z"
   },
   {
    "duration": 18,
    "start_time": "2024-07-16T15:48:39.576Z"
   },
   {
    "duration": 41,
    "start_time": "2024-07-16T15:48:39.597Z"
   },
   {
    "duration": 1450,
    "start_time": "2024-07-16T15:48:39.642Z"
   },
   {
    "duration": 53,
    "start_time": "2024-07-16T15:48:41.095Z"
   },
   {
    "duration": 181,
    "start_time": "2024-07-16T15:48:41.151Z"
   },
   {
    "duration": 25,
    "start_time": "2024-07-16T15:48:41.335Z"
   },
   {
    "duration": 245,
    "start_time": "2024-07-16T15:48:41.364Z"
   },
   {
    "duration": 193,
    "start_time": "2024-07-16T15:48:41.616Z"
   },
   {
    "duration": 85,
    "start_time": "2024-07-16T15:48:41.812Z"
   },
   {
    "duration": 39,
    "start_time": "2024-07-16T15:48:41.902Z"
   },
   {
    "duration": 9,
    "start_time": "2024-07-16T15:48:41.944Z"
   },
   {
    "duration": 94,
    "start_time": "2024-07-16T15:48:41.956Z"
   },
   {
    "duration": 26,
    "start_time": "2024-07-16T15:48:42.054Z"
   },
   {
    "duration": 6,
    "start_time": "2024-07-16T15:48:42.083Z"
   },
   {
    "duration": 7,
    "start_time": "2024-07-16T15:48:42.091Z"
   },
   {
    "duration": 1427,
    "start_time": "2024-07-16T15:48:42.135Z"
   },
   {
    "duration": 1413,
    "start_time": "2024-07-16T15:48:43.566Z"
   },
   {
    "duration": 6,
    "start_time": "2024-07-16T15:48:44.983Z"
   },
   {
    "duration": 37,
    "start_time": "2024-07-16T15:48:44.997Z"
   },
   {
    "duration": 16,
    "start_time": "2024-07-16T15:48:45.038Z"
   },
   {
    "duration": 14,
    "start_time": "2024-07-16T15:48:45.057Z"
   },
   {
    "duration": 4,
    "start_time": "2024-07-16T15:48:45.075Z"
   },
   {
    "duration": 50,
    "start_time": "2024-07-16T15:48:45.082Z"
   },
   {
    "duration": 19,
    "start_time": "2024-07-16T15:48:45.135Z"
   },
   {
    "duration": 19,
    "start_time": "2024-07-16T15:48:45.157Z"
   },
   {
    "duration": 7,
    "start_time": "2024-07-16T15:48:45.178Z"
   },
   {
    "duration": 53,
    "start_time": "2024-07-16T15:48:45.188Z"
   },
   {
    "duration": 4,
    "start_time": "2024-07-16T15:48:45.244Z"
   },
   {
    "duration": 180,
    "start_time": "2024-07-16T15:48:45.251Z"
   },
   {
    "duration": 243,
    "start_time": "2024-07-16T15:48:45.434Z"
   },
   {
    "duration": 12,
    "start_time": "2024-07-16T15:48:45.682Z"
   },
   {
    "duration": 43,
    "start_time": "2024-07-16T15:48:45.698Z"
   },
   {
    "duration": 23,
    "start_time": "2024-07-16T15:48:45.744Z"
   },
   {
    "duration": 68,
    "start_time": "2024-07-16T15:48:45.770Z"
   },
   {
    "duration": 4,
    "start_time": "2024-07-16T15:48:45.850Z"
   },
   {
    "duration": 826,
    "start_time": "2024-07-16T15:48:45.858Z"
   },
   {
    "duration": 13,
    "start_time": "2024-07-16T15:48:46.687Z"
   },
   {
    "duration": 35,
    "start_time": "2024-07-16T15:48:46.703Z"
   },
   {
    "duration": 110,
    "start_time": "2024-07-16T15:48:46.741Z"
   },
   {
    "duration": 21,
    "start_time": "2024-07-16T15:48:46.854Z"
   },
   {
    "duration": 6,
    "start_time": "2024-07-16T15:48:46.878Z"
   },
   {
    "duration": 167,
    "start_time": "2024-07-16T15:48:46.888Z"
   },
   {
    "duration": 17,
    "start_time": "2024-07-16T15:48:47.058Z"
   },
   {
    "duration": 15,
    "start_time": "2024-07-16T15:48:47.080Z"
   },
   {
    "duration": 43,
    "start_time": "2024-07-16T15:48:47.099Z"
   },
   {
    "duration": 384,
    "start_time": "2024-07-16T15:48:47.146Z"
   },
   {
    "duration": 4,
    "start_time": "2024-07-16T15:48:47.534Z"
   },
   {
    "duration": 14,
    "start_time": "2024-07-16T15:48:47.542Z"
   },
   {
    "duration": 254,
    "start_time": "2024-07-16T15:48:47.560Z"
   },
   {
    "duration": 13,
    "start_time": "2024-07-16T15:48:47.818Z"
   },
   {
    "duration": 7,
    "start_time": "2024-07-16T15:48:47.834Z"
   },
   {
    "duration": 16,
    "start_time": "2024-07-16T15:48:47.849Z"
   },
   {
    "duration": 422,
    "start_time": "2024-07-16T15:48:47.868Z"
   },
   {
    "duration": 4,
    "start_time": "2024-07-16T15:48:48.292Z"
   },
   {
    "duration": 521,
    "start_time": "2024-07-16T15:48:48.300Z"
   },
   {
    "duration": 74,
    "start_time": "2024-07-16T15:48:48.831Z"
   },
   {
    "duration": 242,
    "start_time": "2024-07-16T15:48:48.908Z"
   },
   {
    "duration": 4,
    "start_time": "2024-07-16T15:48:49.153Z"
   },
   {
    "duration": 6,
    "start_time": "2024-07-16T15:48:49.159Z"
   },
   {
    "duration": 3655,
    "start_time": "2024-07-16T15:48:49.168Z"
   },
   {
    "duration": 9,
    "start_time": "2024-07-16T15:48:52.834Z"
   },
   {
    "duration": 4,
    "start_time": "2024-07-16T15:48:52.847Z"
   },
   {
    "duration": 1155,
    "start_time": "2024-07-16T15:48:52.856Z"
   },
   {
    "duration": 575,
    "start_time": "2024-07-16T15:48:54.014Z"
   },
   {
    "duration": 315,
    "start_time": "2024-07-16T15:48:54.595Z"
   },
   {
    "duration": 4,
    "start_time": "2024-07-16T15:48:54.913Z"
   },
   {
    "duration": 4,
    "start_time": "2024-07-16T15:48:54.933Z"
   },
   {
    "duration": 199,
    "start_time": "2024-07-16T15:48:54.941Z"
   },
   {
    "duration": 96,
    "start_time": "2024-07-16T15:48:55.143Z"
   },
   {
    "duration": 24,
    "start_time": "2024-07-16T15:48:55.243Z"
   },
   {
    "duration": 10,
    "start_time": "2024-07-16T15:48:55.270Z"
   },
   {
    "duration": 47,
    "start_time": "2024-07-16T15:48:55.283Z"
   },
   {
    "duration": 3,
    "start_time": "2024-07-16T15:48:55.334Z"
   },
   {
    "duration": 4,
    "start_time": "2024-07-16T15:48:55.340Z"
   },
   {
    "duration": 396,
    "start_time": "2024-07-16T15:48:55.347Z"
   },
   {
    "duration": 34,
    "start_time": "2024-07-16T15:48:55.746Z"
   },
   {
    "duration": 3,
    "start_time": "2024-07-16T15:48:55.786Z"
   },
   {
    "duration": 47,
    "start_time": "2024-07-16T15:48:55.792Z"
   },
   {
    "duration": 8,
    "start_time": "2024-07-16T15:48:55.842Z"
   },
   {
    "duration": 1543,
    "start_time": "2024-07-16T15:49:17.012Z"
   },
   {
    "duration": 168,
    "start_time": "2024-07-16T15:49:53.806Z"
   },
   {
    "duration": 410,
    "start_time": "2024-07-16T15:49:56.054Z"
   },
   {
    "duration": 20,
    "start_time": "2024-07-16T15:49:57.940Z"
   },
   {
    "duration": 15,
    "start_time": "2024-07-16T15:50:04.715Z"
   },
   {
    "duration": 16,
    "start_time": "2024-07-16T15:50:07.448Z"
   },
   {
    "duration": 1012,
    "start_time": "2024-07-16T15:50:17.348Z"
   },
   {
    "duration": 24,
    "start_time": "2024-07-16T15:50:18.365Z"
   },
   {
    "duration": 88,
    "start_time": "2024-07-16T15:50:18.392Z"
   },
   {
    "duration": 18,
    "start_time": "2024-07-16T15:50:18.482Z"
   },
   {
    "duration": 45,
    "start_time": "2024-07-16T15:50:18.505Z"
   },
   {
    "duration": 15,
    "start_time": "2024-07-16T15:50:18.558Z"
   },
   {
    "duration": 16,
    "start_time": "2024-07-16T15:50:18.576Z"
   },
   {
    "duration": 15,
    "start_time": "2024-07-16T15:50:18.596Z"
   },
   {
    "duration": 1298,
    "start_time": "2024-07-16T15:50:18.632Z"
   },
   {
    "duration": 51,
    "start_time": "2024-07-16T15:50:19.933Z"
   },
   {
    "duration": 185,
    "start_time": "2024-07-16T15:50:19.986Z"
   },
   {
    "duration": 23,
    "start_time": "2024-07-16T15:50:20.174Z"
   },
   {
    "duration": 203,
    "start_time": "2024-07-16T15:50:20.202Z"
   },
   {
    "duration": 199,
    "start_time": "2024-07-16T15:50:20.412Z"
   },
   {
    "duration": 98,
    "start_time": "2024-07-16T15:50:20.614Z"
   },
   {
    "duration": 31,
    "start_time": "2024-07-16T15:50:20.718Z"
   },
   {
    "duration": 11,
    "start_time": "2024-07-16T15:50:20.752Z"
   },
   {
    "duration": 81,
    "start_time": "2024-07-16T15:50:20.766Z"
   },
   {
    "duration": 22,
    "start_time": "2024-07-16T15:50:20.851Z"
   },
   {
    "duration": 5,
    "start_time": "2024-07-16T15:50:20.876Z"
   },
   {
    "duration": 6,
    "start_time": "2024-07-16T15:50:20.884Z"
   },
   {
    "duration": 1412,
    "start_time": "2024-07-16T15:50:20.893Z"
   },
   {
    "duration": 1417,
    "start_time": "2024-07-16T15:50:22.308Z"
   },
   {
    "duration": 3,
    "start_time": "2024-07-16T15:50:23.732Z"
   },
   {
    "duration": 16,
    "start_time": "2024-07-16T15:50:23.738Z"
   },
   {
    "duration": 14,
    "start_time": "2024-07-16T15:50:23.757Z"
   },
   {
    "duration": 13,
    "start_time": "2024-07-16T15:50:23.775Z"
   },
   {
    "duration": 3,
    "start_time": "2024-07-16T15:50:23.832Z"
   },
   {
    "duration": 10,
    "start_time": "2024-07-16T15:50:23.837Z"
   },
   {
    "duration": 17,
    "start_time": "2024-07-16T15:50:23.850Z"
   },
   {
    "duration": 18,
    "start_time": "2024-07-16T15:50:23.870Z"
   },
   {
    "duration": 45,
    "start_time": "2024-07-16T15:50:23.891Z"
   },
   {
    "duration": 13,
    "start_time": "2024-07-16T15:50:23.940Z"
   },
   {
    "duration": 3,
    "start_time": "2024-07-16T15:50:23.956Z"
   },
   {
    "duration": 182,
    "start_time": "2024-07-16T15:50:23.963Z"
   },
   {
    "duration": 273,
    "start_time": "2024-07-16T15:50:24.149Z"
   },
   {
    "duration": 14,
    "start_time": "2024-07-16T15:50:24.425Z"
   },
   {
    "duration": 19,
    "start_time": "2024-07-16T15:50:24.442Z"
   },
   {
    "duration": 18,
    "start_time": "2024-07-16T15:50:24.467Z"
   },
   {
    "duration": 84,
    "start_time": "2024-07-16T15:50:24.488Z"
   },
   {
    "duration": 4,
    "start_time": "2024-07-16T15:50:24.585Z"
   },
   {
    "duration": 811,
    "start_time": "2024-07-16T15:50:24.592Z"
   },
   {
    "duration": 25,
    "start_time": "2024-07-16T15:50:25.405Z"
   },
   {
    "duration": 10,
    "start_time": "2024-07-16T15:50:25.433Z"
   },
   {
    "duration": 107,
    "start_time": "2024-07-16T15:50:25.446Z"
   },
   {
    "duration": 24,
    "start_time": "2024-07-16T15:50:25.556Z"
   },
   {
    "duration": 9,
    "start_time": "2024-07-16T15:50:25.583Z"
   },
   {
    "duration": 177,
    "start_time": "2024-07-16T15:50:25.597Z"
   },
   {
    "duration": 15,
    "start_time": "2024-07-16T15:50:25.777Z"
   },
   {
    "duration": 35,
    "start_time": "2024-07-16T15:50:25.795Z"
   },
   {
    "duration": 17,
    "start_time": "2024-07-16T15:50:25.835Z"
   },
   {
    "duration": 369,
    "start_time": "2024-07-16T15:50:25.855Z"
   },
   {
    "duration": 3,
    "start_time": "2024-07-16T15:50:26.234Z"
   },
   {
    "duration": 18,
    "start_time": "2024-07-16T15:50:26.240Z"
   },
   {
    "duration": 277,
    "start_time": "2024-07-16T15:50:26.260Z"
   },
   {
    "duration": 4,
    "start_time": "2024-07-16T15:50:26.541Z"
   },
   {
    "duration": 6,
    "start_time": "2024-07-16T15:50:26.548Z"
   },
   {
    "duration": 13,
    "start_time": "2024-07-16T15:50:26.557Z"
   },
   {
    "duration": 432,
    "start_time": "2024-07-16T15:50:26.573Z"
   },
   {
    "duration": 3,
    "start_time": "2024-07-16T15:50:27.008Z"
   },
   {
    "duration": 381,
    "start_time": "2024-07-16T15:50:27.030Z"
   },
   {
    "duration": 90,
    "start_time": "2024-07-16T15:50:27.414Z"
   },
   {
    "duration": 233,
    "start_time": "2024-07-16T15:50:27.507Z"
   },
   {
    "duration": 4,
    "start_time": "2024-07-16T15:50:27.745Z"
   },
   {
    "duration": 5,
    "start_time": "2024-07-16T15:50:27.752Z"
   },
   {
    "duration": 3539,
    "start_time": "2024-07-16T15:50:27.760Z"
   },
   {
    "duration": 3,
    "start_time": "2024-07-16T15:50:31.302Z"
   },
   {
    "duration": 23,
    "start_time": "2024-07-16T15:50:31.308Z"
   },
   {
    "duration": 1113,
    "start_time": "2024-07-16T15:50:31.334Z"
   },
   {
    "duration": 534,
    "start_time": "2024-07-16T15:50:32.449Z"
   },
   {
    "duration": 341,
    "start_time": "2024-07-16T15:50:32.986Z"
   },
   {
    "duration": 4,
    "start_time": "2024-07-16T15:50:33.330Z"
   },
   {
    "duration": 5,
    "start_time": "2024-07-16T15:50:33.337Z"
   },
   {
    "duration": 200,
    "start_time": "2024-07-16T15:50:33.345Z"
   },
   {
    "duration": 95,
    "start_time": "2024-07-16T15:50:33.547Z"
   },
   {
    "duration": 22,
    "start_time": "2024-07-16T15:50:33.645Z"
   },
   {
    "duration": 10,
    "start_time": "2024-07-16T15:50:33.670Z"
   },
   {
    "duration": 13,
    "start_time": "2024-07-16T15:50:33.684Z"
   },
   {
    "duration": 4,
    "start_time": "2024-07-16T15:50:33.732Z"
   },
   {
    "duration": 4,
    "start_time": "2024-07-16T15:50:33.738Z"
   },
   {
    "duration": 446,
    "start_time": "2024-07-16T15:50:33.744Z"
   },
   {
    "duration": 44,
    "start_time": "2024-07-16T15:50:34.193Z"
   },
   {
    "duration": 4,
    "start_time": "2024-07-16T15:50:34.243Z"
   },
   {
    "duration": 26,
    "start_time": "2024-07-16T15:50:34.251Z"
   },
   {
    "duration": 3,
    "start_time": "2024-07-16T15:50:34.280Z"
   },
   {
    "duration": 1443,
    "start_time": "2024-07-16T15:50:34.286Z"
   },
   {
    "duration": 21,
    "start_time": "2024-07-16T15:50:35.733Z"
   },
   {
    "duration": 186,
    "start_time": "2024-07-16T15:50:35.758Z"
   },
   {
    "duration": 413,
    "start_time": "2024-07-16T15:50:35.947Z"
   },
   {
    "duration": 17,
    "start_time": "2024-07-16T15:50:36.362Z"
   },
   {
    "duration": 16,
    "start_time": "2024-07-16T15:50:36.383Z"
   },
   {
    "duration": 43,
    "start_time": "2024-07-16T15:50:36.402Z"
   },
   {
    "duration": 49,
    "start_time": "2024-07-16T15:50:36.447Z"
   },
   {
    "duration": 230,
    "start_time": "2024-07-16T15:50:36.501Z"
   },
   {
    "duration": 6,
    "start_time": "2024-07-16T15:50:36.734Z"
   },
   {
    "duration": 11,
    "start_time": "2024-07-16T15:58:18.243Z"
   },
   {
    "duration": 5366,
    "start_time": "2024-07-16T16:12:50.901Z"
   },
   {
    "duration": 25,
    "start_time": "2024-07-16T16:12:56.271Z"
   },
   {
    "duration": 140,
    "start_time": "2024-07-16T16:12:56.314Z"
   },
   {
    "duration": 17,
    "start_time": "2024-07-16T16:12:56.458Z"
   },
   {
    "duration": 21,
    "start_time": "2024-07-16T16:12:56.478Z"
   },
   {
    "duration": 41,
    "start_time": "2024-07-16T16:12:56.502Z"
   },
   {
    "duration": 18,
    "start_time": "2024-07-16T16:12:56.547Z"
   },
   {
    "duration": 14,
    "start_time": "2024-07-16T16:12:56.568Z"
   },
   {
    "duration": 1564,
    "start_time": "2024-07-16T16:12:56.586Z"
   },
   {
    "duration": 39,
    "start_time": "2024-07-16T16:12:58.157Z"
   },
   {
    "duration": 189,
    "start_time": "2024-07-16T16:12:58.199Z"
   },
   {
    "duration": 40,
    "start_time": "2024-07-16T16:12:58.391Z"
   },
   {
    "duration": 223,
    "start_time": "2024-07-16T16:12:58.436Z"
   },
   {
    "duration": 194,
    "start_time": "2024-07-16T16:12:58.662Z"
   },
   {
    "duration": 97,
    "start_time": "2024-07-16T16:12:58.861Z"
   },
   {
    "duration": 23,
    "start_time": "2024-07-16T16:12:58.961Z"
   },
   {
    "duration": 48,
    "start_time": "2024-07-16T16:12:58.987Z"
   },
   {
    "duration": 59,
    "start_time": "2024-07-16T16:12:59.041Z"
   },
   {
    "duration": 36,
    "start_time": "2024-07-16T16:12:59.103Z"
   },
   {
    "duration": 5,
    "start_time": "2024-07-16T16:12:59.148Z"
   },
   {
    "duration": 7,
    "start_time": "2024-07-16T16:12:59.156Z"
   },
   {
    "duration": 1586,
    "start_time": "2024-07-16T16:12:59.166Z"
   },
   {
    "duration": 1594,
    "start_time": "2024-07-16T16:13:00.756Z"
   },
   {
    "duration": 4,
    "start_time": "2024-07-16T16:13:02.353Z"
   },
   {
    "duration": 16,
    "start_time": "2024-07-16T16:13:02.360Z"
   },
   {
    "duration": 40,
    "start_time": "2024-07-16T16:13:02.379Z"
   },
   {
    "duration": 23,
    "start_time": "2024-07-16T16:13:02.432Z"
   },
   {
    "duration": 4,
    "start_time": "2024-07-16T16:13:02.465Z"
   },
   {
    "duration": 9,
    "start_time": "2024-07-16T16:13:02.472Z"
   },
   {
    "duration": 52,
    "start_time": "2024-07-16T16:13:02.483Z"
   },
   {
    "duration": 21,
    "start_time": "2024-07-16T16:13:02.538Z"
   },
   {
    "duration": 7,
    "start_time": "2024-07-16T16:13:02.562Z"
   },
   {
    "duration": 45,
    "start_time": "2024-07-16T16:13:02.572Z"
   },
   {
    "duration": 2,
    "start_time": "2024-07-16T16:13:02.621Z"
   },
   {
    "duration": 171,
    "start_time": "2024-07-16T16:13:02.627Z"
   },
   {
    "duration": 303,
    "start_time": "2024-07-16T16:13:02.802Z"
   },
   {
    "duration": 25,
    "start_time": "2024-07-16T16:13:03.108Z"
   },
   {
    "duration": 35,
    "start_time": "2024-07-16T16:13:03.136Z"
   },
   {
    "duration": 49,
    "start_time": "2024-07-16T16:13:03.181Z"
   },
   {
    "duration": 44,
    "start_time": "2024-07-16T16:13:03.237Z"
   },
   {
    "duration": 3,
    "start_time": "2024-07-16T16:13:03.284Z"
   },
   {
    "duration": 880,
    "start_time": "2024-07-16T16:13:03.320Z"
   },
   {
    "duration": 20,
    "start_time": "2024-07-16T16:13:04.203Z"
   },
   {
    "duration": 20,
    "start_time": "2024-07-16T16:13:04.226Z"
   },
   {
    "duration": 134,
    "start_time": "2024-07-16T16:13:04.250Z"
   },
   {
    "duration": 44,
    "start_time": "2024-07-16T16:13:04.387Z"
   },
   {
    "duration": 8,
    "start_time": "2024-07-16T16:13:04.434Z"
   },
   {
    "duration": 145,
    "start_time": "2024-07-16T16:13:04.445Z"
   },
   {
    "duration": 25,
    "start_time": "2024-07-16T16:13:04.593Z"
   },
   {
    "duration": 22,
    "start_time": "2024-07-16T16:13:04.621Z"
   },
   {
    "duration": 18,
    "start_time": "2024-07-16T16:13:04.646Z"
   },
   {
    "duration": 415,
    "start_time": "2024-07-16T16:13:04.667Z"
   },
   {
    "duration": 4,
    "start_time": "2024-07-16T16:13:05.086Z"
   },
   {
    "duration": 35,
    "start_time": "2024-07-16T16:13:05.111Z"
   },
   {
    "duration": 247,
    "start_time": "2024-07-16T16:13:05.150Z"
   },
   {
    "duration": 29,
    "start_time": "2024-07-16T16:13:05.400Z"
   },
   {
    "duration": 6,
    "start_time": "2024-07-16T16:13:05.445Z"
   },
   {
    "duration": 15,
    "start_time": "2024-07-16T16:13:05.457Z"
   },
   {
    "duration": 477,
    "start_time": "2024-07-16T16:13:05.475Z"
   },
   {
    "duration": 4,
    "start_time": "2024-07-16T16:13:05.954Z"
   },
   {
    "duration": 414,
    "start_time": "2024-07-16T16:13:05.961Z"
   },
   {
    "duration": 80,
    "start_time": "2024-07-16T16:13:06.378Z"
   },
   {
    "duration": 285,
    "start_time": "2024-07-16T16:13:06.461Z"
   },
   {
    "duration": 3,
    "start_time": "2024-07-16T16:13:06.749Z"
   },
   {
    "duration": 4,
    "start_time": "2024-07-16T16:13:06.755Z"
   },
   {
    "duration": 4229,
    "start_time": "2024-07-16T16:13:06.762Z"
   },
   {
    "duration": 4,
    "start_time": "2024-07-16T16:13:10.994Z"
   },
   {
    "duration": 4,
    "start_time": "2024-07-16T16:13:11.024Z"
   },
   {
    "duration": 1268,
    "start_time": "2024-07-16T16:13:11.033Z"
   },
   {
    "duration": 576,
    "start_time": "2024-07-16T16:13:12.316Z"
   },
   {
    "duration": 378,
    "start_time": "2024-07-16T16:13:12.894Z"
   },
   {
    "duration": 4,
    "start_time": "2024-07-16T16:13:13.275Z"
   },
   {
    "duration": 3,
    "start_time": "2024-07-16T16:13:13.282Z"
   },
   {
    "duration": 233,
    "start_time": "2024-07-16T16:13:13.315Z"
   },
   {
    "duration": 97,
    "start_time": "2024-07-16T16:13:13.555Z"
   },
   {
    "duration": 21,
    "start_time": "2024-07-16T16:13:13.655Z"
   },
   {
    "duration": 9,
    "start_time": "2024-07-16T16:13:13.679Z"
   },
   {
    "duration": 44,
    "start_time": "2024-07-16T16:13:13.691Z"
   },
   {
    "duration": 4,
    "start_time": "2024-07-16T16:13:13.740Z"
   },
   {
    "duration": 5,
    "start_time": "2024-07-16T16:13:13.749Z"
   },
   {
    "duration": 411,
    "start_time": "2024-07-16T16:13:13.758Z"
   },
   {
    "duration": 58,
    "start_time": "2024-07-16T16:13:14.181Z"
   },
   {
    "duration": 6,
    "start_time": "2024-07-16T16:13:14.247Z"
   },
   {
    "duration": 22,
    "start_time": "2024-07-16T16:13:14.256Z"
   },
   {
    "duration": 4,
    "start_time": "2024-07-16T16:13:14.281Z"
   },
   {
    "duration": 1658,
    "start_time": "2024-07-16T16:13:14.288Z"
   },
   {
    "duration": 19,
    "start_time": "2024-07-16T16:13:15.949Z"
   },
   {
    "duration": 216,
    "start_time": "2024-07-16T16:13:15.972Z"
   },
   {
    "duration": 459,
    "start_time": "2024-07-16T16:13:16.190Z"
   },
   {
    "duration": 16,
    "start_time": "2024-07-16T16:13:16.652Z"
   },
   {
    "duration": 17,
    "start_time": "2024-07-16T16:13:16.670Z"
   },
   {
    "duration": 26,
    "start_time": "2024-07-16T16:13:16.713Z"
   },
   {
    "duration": 46,
    "start_time": "2024-07-16T16:13:16.742Z"
   },
   {
    "duration": 255,
    "start_time": "2024-07-16T16:13:16.792Z"
   },
   {
    "duration": 7,
    "start_time": "2024-07-16T16:13:17.051Z"
   },
   {
    "duration": 1089,
    "start_time": "2024-07-16T16:15:44.071Z"
   },
   {
    "duration": 18,
    "start_time": "2024-07-16T16:15:45.163Z"
   },
   {
    "duration": 91,
    "start_time": "2024-07-16T16:15:45.184Z"
   },
   {
    "duration": 17,
    "start_time": "2024-07-16T16:15:45.278Z"
   },
   {
    "duration": 31,
    "start_time": "2024-07-16T16:15:45.315Z"
   },
   {
    "duration": 15,
    "start_time": "2024-07-16T16:15:45.350Z"
   },
   {
    "duration": 15,
    "start_time": "2024-07-16T16:15:45.369Z"
   },
   {
    "duration": 16,
    "start_time": "2024-07-16T16:15:45.411Z"
   },
   {
    "duration": 1440,
    "start_time": "2024-07-16T16:15:45.430Z"
   },
   {
    "duration": 68,
    "start_time": "2024-07-16T16:15:46.873Z"
   },
   {
    "duration": 181,
    "start_time": "2024-07-16T16:15:46.944Z"
   },
   {
    "duration": 30,
    "start_time": "2024-07-16T16:15:47.129Z"
   },
   {
    "duration": 219,
    "start_time": "2024-07-16T16:15:47.161Z"
   },
   {
    "duration": 211,
    "start_time": "2024-07-16T16:15:47.388Z"
   },
   {
    "duration": 112,
    "start_time": "2024-07-16T16:15:47.602Z"
   },
   {
    "duration": 39,
    "start_time": "2024-07-16T16:15:47.718Z"
   },
   {
    "duration": 9,
    "start_time": "2024-07-16T16:15:47.761Z"
   },
   {
    "duration": 100,
    "start_time": "2024-07-16T16:15:47.774Z"
   },
   {
    "duration": 18,
    "start_time": "2024-07-16T16:15:47.877Z"
   },
   {
    "duration": 12,
    "start_time": "2024-07-16T16:15:47.918Z"
   },
   {
    "duration": 6,
    "start_time": "2024-07-16T16:15:47.941Z"
   },
   {
    "duration": 1579,
    "start_time": "2024-07-16T16:15:47.950Z"
   },
   {
    "duration": 1539,
    "start_time": "2024-07-16T16:15:49.533Z"
   },
   {
    "duration": 4,
    "start_time": "2024-07-16T16:15:51.076Z"
   },
   {
    "duration": 52,
    "start_time": "2024-07-16T16:15:51.084Z"
   },
   {
    "duration": 15,
    "start_time": "2024-07-16T16:15:51.142Z"
   },
   {
    "duration": 17,
    "start_time": "2024-07-16T16:15:51.161Z"
   },
   {
    "duration": 36,
    "start_time": "2024-07-16T16:15:51.181Z"
   },
   {
    "duration": 19,
    "start_time": "2024-07-16T16:15:51.224Z"
   },
   {
    "duration": 22,
    "start_time": "2024-07-16T16:15:51.247Z"
   },
   {
    "duration": 46,
    "start_time": "2024-07-16T16:15:51.273Z"
   },
   {
    "duration": 9,
    "start_time": "2024-07-16T16:15:51.322Z"
   },
   {
    "duration": 19,
    "start_time": "2024-07-16T16:15:51.334Z"
   },
   {
    "duration": 4,
    "start_time": "2024-07-16T16:15:51.357Z"
   },
   {
    "duration": 186,
    "start_time": "2024-07-16T16:15:51.365Z"
   },
   {
    "duration": 265,
    "start_time": "2024-07-16T16:15:51.554Z"
   },
   {
    "duration": 22,
    "start_time": "2024-07-16T16:15:51.824Z"
   },
   {
    "duration": 21,
    "start_time": "2024-07-16T16:15:51.848Z"
   },
   {
    "duration": 19,
    "start_time": "2024-07-16T16:15:51.872Z"
   },
   {
    "duration": 47,
    "start_time": "2024-07-16T16:15:51.917Z"
   },
   {
    "duration": 3,
    "start_time": "2024-07-16T16:15:51.977Z"
   },
   {
    "duration": 894,
    "start_time": "2024-07-16T16:15:51.983Z"
   },
   {
    "duration": 11,
    "start_time": "2024-07-16T16:15:52.880Z"
   },
   {
    "duration": 25,
    "start_time": "2024-07-16T16:15:52.919Z"
   },
   {
    "duration": 103,
    "start_time": "2024-07-16T16:15:52.947Z"
   },
   {
    "duration": 31,
    "start_time": "2024-07-16T16:15:53.053Z"
   },
   {
    "duration": 6,
    "start_time": "2024-07-16T16:15:53.088Z"
   },
   {
    "duration": 160,
    "start_time": "2024-07-16T16:15:53.117Z"
   },
   {
    "duration": 13,
    "start_time": "2024-07-16T16:15:53.281Z"
   },
   {
    "duration": 21,
    "start_time": "2024-07-16T16:15:53.317Z"
   },
   {
    "duration": 20,
    "start_time": "2024-07-16T16:15:53.342Z"
   },
   {
    "duration": 389,
    "start_time": "2024-07-16T16:15:53.366Z"
   },
   {
    "duration": 4,
    "start_time": "2024-07-16T16:15:53.758Z"
   },
   {
    "duration": 14,
    "start_time": "2024-07-16T16:15:53.765Z"
   },
   {
    "duration": 289,
    "start_time": "2024-07-16T16:15:53.781Z"
   },
   {
    "duration": 4,
    "start_time": "2024-07-16T16:15:54.073Z"
   },
   {
    "duration": 5,
    "start_time": "2024-07-16T16:15:54.081Z"
   },
   {
    "duration": 43,
    "start_time": "2024-07-16T16:15:54.089Z"
   },
   {
    "duration": 415,
    "start_time": "2024-07-16T16:15:54.134Z"
   },
   {
    "duration": 5,
    "start_time": "2024-07-16T16:15:54.552Z"
   },
   {
    "duration": 427,
    "start_time": "2024-07-16T16:15:54.561Z"
   },
   {
    "duration": 94,
    "start_time": "2024-07-16T16:15:54.992Z"
   },
   {
    "duration": 261,
    "start_time": "2024-07-16T16:15:55.089Z"
   },
   {
    "duration": 4,
    "start_time": "2024-07-16T16:15:55.353Z"
   },
   {
    "duration": 4,
    "start_time": "2024-07-16T16:15:55.361Z"
   },
   {
    "duration": 4105,
    "start_time": "2024-07-16T16:15:55.368Z"
   },
   {
    "duration": 3,
    "start_time": "2024-07-16T16:15:59.476Z"
   },
   {
    "duration": 3,
    "start_time": "2024-07-16T16:15:59.483Z"
   },
   {
    "duration": 1182,
    "start_time": "2024-07-16T16:15:59.512Z"
   },
   {
    "duration": 594,
    "start_time": "2024-07-16T16:16:00.697Z"
   },
   {
    "duration": 374,
    "start_time": "2024-07-16T16:16:01.294Z"
   },
   {
    "duration": 4,
    "start_time": "2024-07-16T16:16:01.671Z"
   },
   {
    "duration": 4,
    "start_time": "2024-07-16T16:16:01.678Z"
   },
   {
    "duration": 230,
    "start_time": "2024-07-16T16:16:01.685Z"
   },
   {
    "duration": 101,
    "start_time": "2024-07-16T16:16:01.918Z"
   },
   {
    "duration": 24,
    "start_time": "2024-07-16T16:16:02.022Z"
   },
   {
    "duration": 9,
    "start_time": "2024-07-16T16:16:02.049Z"
   },
   {
    "duration": 13,
    "start_time": "2024-07-16T16:16:02.061Z"
   },
   {
    "duration": 4,
    "start_time": "2024-07-16T16:16:02.077Z"
   },
   {
    "duration": 10,
    "start_time": "2024-07-16T16:16:02.130Z"
   },
   {
    "duration": 479,
    "start_time": "2024-07-16T16:16:02.144Z"
   },
   {
    "duration": 42,
    "start_time": "2024-07-16T16:16:02.626Z"
   },
   {
    "duration": 3,
    "start_time": "2024-07-16T16:16:02.672Z"
   },
   {
    "duration": 46,
    "start_time": "2024-07-16T16:16:02.678Z"
   },
   {
    "duration": 6,
    "start_time": "2024-07-16T16:16:02.730Z"
   },
   {
    "duration": 1735,
    "start_time": "2024-07-16T16:16:02.739Z"
   },
   {
    "duration": 17,
    "start_time": "2024-07-16T16:16:04.477Z"
   },
   {
    "duration": 219,
    "start_time": "2024-07-16T16:16:04.513Z"
   },
   {
    "duration": 495,
    "start_time": "2024-07-16T16:16:04.735Z"
   },
   {
    "duration": 19,
    "start_time": "2024-07-16T16:16:05.232Z"
   },
   {
    "duration": 15,
    "start_time": "2024-07-16T16:16:05.254Z"
   },
   {
    "duration": 53,
    "start_time": "2024-07-16T16:16:05.273Z"
   },
   {
    "duration": 50,
    "start_time": "2024-07-16T16:16:05.333Z"
   },
   {
    "duration": 230,
    "start_time": "2024-07-16T16:16:05.385Z"
   },
   {
    "duration": 10,
    "start_time": "2024-07-16T16:16:05.618Z"
   },
   {
    "duration": 7,
    "start_time": "2024-07-16T16:21:59.913Z"
   },
   {
    "duration": 12,
    "start_time": "2024-07-16T16:22:33.204Z"
   },
   {
    "duration": 1018,
    "start_time": "2024-07-16T16:23:00.389Z"
   },
   {
    "duration": 19,
    "start_time": "2024-07-16T16:23:01.414Z"
   },
   {
    "duration": 89,
    "start_time": "2024-07-16T16:23:01.436Z"
   },
   {
    "duration": 18,
    "start_time": "2024-07-16T16:23:01.529Z"
   },
   {
    "duration": 15,
    "start_time": "2024-07-16T16:23:01.550Z"
   },
   {
    "duration": 43,
    "start_time": "2024-07-16T16:23:01.569Z"
   },
   {
    "duration": 16,
    "start_time": "2024-07-16T16:23:01.615Z"
   },
   {
    "duration": 13,
    "start_time": "2024-07-16T16:23:01.634Z"
   },
   {
    "duration": 1297,
    "start_time": "2024-07-16T16:23:01.650Z"
   },
   {
    "duration": 66,
    "start_time": "2024-07-16T16:23:02.954Z"
   },
   {
    "duration": 191,
    "start_time": "2024-07-16T16:23:03.024Z"
   },
   {
    "duration": 21,
    "start_time": "2024-07-16T16:23:03.219Z"
   },
   {
    "duration": 209,
    "start_time": "2024-07-16T16:23:03.243Z"
   },
   {
    "duration": 174,
    "start_time": "2024-07-16T16:23:03.455Z"
   },
   {
    "duration": 94,
    "start_time": "2024-07-16T16:23:03.633Z"
   },
   {
    "duration": 23,
    "start_time": "2024-07-16T16:23:03.730Z"
   },
   {
    "duration": 9,
    "start_time": "2024-07-16T16:23:03.755Z"
   },
   {
    "duration": 94,
    "start_time": "2024-07-16T16:23:03.767Z"
   },
   {
    "duration": 16,
    "start_time": "2024-07-16T16:23:03.864Z"
   },
   {
    "duration": 5,
    "start_time": "2024-07-16T16:23:03.884Z"
   },
   {
    "duration": 16,
    "start_time": "2024-07-16T16:23:03.913Z"
   },
   {
    "duration": 1403,
    "start_time": "2024-07-16T16:23:03.932Z"
   },
   {
    "duration": 1425,
    "start_time": "2024-07-16T16:23:05.338Z"
   },
   {
    "duration": 6,
    "start_time": "2024-07-16T16:23:06.766Z"
   },
   {
    "duration": 38,
    "start_time": "2024-07-16T16:23:06.775Z"
   },
   {
    "duration": 18,
    "start_time": "2024-07-16T16:23:06.816Z"
   },
   {
    "duration": 15,
    "start_time": "2024-07-16T16:23:06.838Z"
   },
   {
    "duration": 4,
    "start_time": "2024-07-16T16:23:06.865Z"
   },
   {
    "duration": 10,
    "start_time": "2024-07-16T16:23:06.912Z"
   },
   {
    "duration": 16,
    "start_time": "2024-07-16T16:23:06.925Z"
   },
   {
    "duration": 16,
    "start_time": "2024-07-16T16:23:06.944Z"
   },
   {
    "duration": 50,
    "start_time": "2024-07-16T16:23:06.963Z"
   },
   {
    "duration": 13,
    "start_time": "2024-07-16T16:23:07.016Z"
   },
   {
    "duration": 3,
    "start_time": "2024-07-16T16:23:07.032Z"
   },
   {
    "duration": 174,
    "start_time": "2024-07-16T16:23:07.038Z"
   },
   {
    "duration": 260,
    "start_time": "2024-07-16T16:23:07.215Z"
   },
   {
    "duration": 11,
    "start_time": "2024-07-16T16:23:07.478Z"
   },
   {
    "duration": 17,
    "start_time": "2024-07-16T16:23:07.512Z"
   },
   {
    "duration": 19,
    "start_time": "2024-07-16T16:23:07.532Z"
   },
   {
    "duration": 76,
    "start_time": "2024-07-16T16:23:07.554Z"
   },
   {
    "duration": 4,
    "start_time": "2024-07-16T16:23:07.634Z"
   },
   {
    "duration": 797,
    "start_time": "2024-07-16T16:23:07.641Z"
   },
   {
    "duration": 13,
    "start_time": "2024-07-16T16:23:08.442Z"
   },
   {
    "duration": 11,
    "start_time": "2024-07-16T16:23:08.459Z"
   },
   {
    "duration": 44,
    "start_time": "2024-07-16T16:23:08.473Z"
   },
   {
    "duration": 103,
    "start_time": "2024-07-16T16:23:08.521Z"
   },
   {
    "duration": 23,
    "start_time": "2024-07-16T16:23:08.627Z"
   },
   {
    "duration": 7,
    "start_time": "2024-07-16T16:23:08.653Z"
   },
   {
    "duration": 168,
    "start_time": "2024-07-16T16:23:08.662Z"
   },
   {
    "duration": 14,
    "start_time": "2024-07-16T16:23:08.833Z"
   },
   {
    "duration": 12,
    "start_time": "2024-07-16T16:23:08.849Z"
   },
   {
    "duration": 48,
    "start_time": "2024-07-16T16:23:08.864Z"
   },
   {
    "duration": 335,
    "start_time": "2024-07-16T16:23:08.916Z"
   },
   {
    "duration": 4,
    "start_time": "2024-07-16T16:23:09.254Z"
   },
   {
    "duration": 15,
    "start_time": "2024-07-16T16:23:09.261Z"
   },
   {
    "duration": 250,
    "start_time": "2024-07-16T16:23:09.280Z"
   },
   {
    "duration": 4,
    "start_time": "2024-07-16T16:23:09.533Z"
   },
   {
    "duration": 6,
    "start_time": "2024-07-16T16:23:09.540Z"
   },
   {
    "duration": 16,
    "start_time": "2024-07-16T16:23:09.549Z"
   },
   {
    "duration": 431,
    "start_time": "2024-07-16T16:23:09.568Z"
   },
   {
    "duration": 10,
    "start_time": "2024-07-16T16:23:10.002Z"
   },
   {
    "duration": 417,
    "start_time": "2024-07-16T16:23:10.016Z"
   },
   {
    "duration": 85,
    "start_time": "2024-07-16T16:23:10.437Z"
   },
   {
    "duration": 238,
    "start_time": "2024-07-16T16:23:10.525Z"
   },
   {
    "duration": 4,
    "start_time": "2024-07-16T16:23:10.765Z"
   },
   {
    "duration": 4,
    "start_time": "2024-07-16T16:23:10.773Z"
   },
   {
    "duration": 3598,
    "start_time": "2024-07-16T16:23:10.780Z"
   },
   {
    "duration": 4,
    "start_time": "2024-07-16T16:23:14.381Z"
   },
   {
    "duration": 4,
    "start_time": "2024-07-16T16:23:14.388Z"
   },
   {
    "duration": 1112,
    "start_time": "2024-07-16T16:23:14.414Z"
   },
   {
    "duration": 536,
    "start_time": "2024-07-16T16:23:15.528Z"
   },
   {
    "duration": 331,
    "start_time": "2024-07-16T16:23:16.068Z"
   },
   {
    "duration": 9,
    "start_time": "2024-07-16T16:23:16.403Z"
   },
   {
    "duration": 4,
    "start_time": "2024-07-16T16:23:16.416Z"
   },
   {
    "duration": 207,
    "start_time": "2024-07-16T16:23:16.423Z"
   },
   {
    "duration": 99,
    "start_time": "2024-07-16T16:23:16.633Z"
   },
   {
    "duration": 20,
    "start_time": "2024-07-16T16:23:16.735Z"
   },
   {
    "duration": 18,
    "start_time": "2024-07-16T16:23:16.758Z"
   },
   {
    "duration": 33,
    "start_time": "2024-07-16T16:23:16.779Z"
   },
   {
    "duration": 4,
    "start_time": "2024-07-16T16:23:16.815Z"
   },
   {
    "duration": 4,
    "start_time": "2024-07-16T16:23:16.822Z"
   },
   {
    "duration": 381,
    "start_time": "2024-07-16T16:23:16.841Z"
   },
   {
    "duration": 31,
    "start_time": "2024-07-16T16:23:17.225Z"
   },
   {
    "duration": 4,
    "start_time": "2024-07-16T16:23:17.259Z"
   },
   {
    "duration": 49,
    "start_time": "2024-07-16T16:23:17.269Z"
   },
   {
    "duration": 4,
    "start_time": "2024-07-16T16:23:17.325Z"
   },
   {
    "duration": 1431,
    "start_time": "2024-07-16T16:23:17.333Z"
   },
   {
    "duration": 17,
    "start_time": "2024-07-16T16:23:18.767Z"
   },
   {
    "duration": 203,
    "start_time": "2024-07-16T16:23:18.787Z"
   },
   {
    "duration": 421,
    "start_time": "2024-07-16T16:23:18.993Z"
   },
   {
    "duration": 16,
    "start_time": "2024-07-16T16:23:19.416Z"
   },
   {
    "duration": 15,
    "start_time": "2024-07-16T16:23:19.436Z"
   },
   {
    "duration": 110,
    "start_time": "2024-07-16T16:23:19.454Z"
   },
   {
    "duration": 65,
    "start_time": "2024-07-16T16:23:19.568Z"
   },
   {
    "duration": 214,
    "start_time": "2024-07-16T16:23:19.637Z"
   },
   {
    "duration": 6,
    "start_time": "2024-07-16T16:23:19.855Z"
   },
   {
    "duration": 9,
    "start_time": "2024-07-16T16:23:20.064Z"
   },
   {
    "duration": 1005,
    "start_time": "2024-07-16T16:23:33.090Z"
   },
   {
    "duration": 29,
    "start_time": "2024-07-16T16:23:34.099Z"
   },
   {
    "duration": 67,
    "start_time": "2024-07-16T16:23:34.130Z"
   },
   {
    "duration": 15,
    "start_time": "2024-07-16T16:23:34.215Z"
   },
   {
    "duration": 16,
    "start_time": "2024-07-16T16:23:34.233Z"
   },
   {
    "duration": 13,
    "start_time": "2024-07-16T16:23:34.252Z"
   },
   {
    "duration": 51,
    "start_time": "2024-07-16T16:23:34.268Z"
   },
   {
    "duration": 14,
    "start_time": "2024-07-16T16:23:34.323Z"
   },
   {
    "duration": 1297,
    "start_time": "2024-07-16T16:23:34.340Z"
   },
   {
    "duration": 41,
    "start_time": "2024-07-16T16:23:35.642Z"
   },
   {
    "duration": 196,
    "start_time": "2024-07-16T16:23:35.687Z"
   },
   {
    "duration": 33,
    "start_time": "2024-07-16T16:23:35.886Z"
   },
   {
    "duration": 205,
    "start_time": "2024-07-16T16:23:35.922Z"
   },
   {
    "duration": 177,
    "start_time": "2024-07-16T16:23:36.130Z"
   },
   {
    "duration": 76,
    "start_time": "2024-07-16T16:23:36.311Z"
   },
   {
    "duration": 43,
    "start_time": "2024-07-16T16:23:36.390Z"
   },
   {
    "duration": 9,
    "start_time": "2024-07-16T16:23:36.436Z"
   },
   {
    "duration": 88,
    "start_time": "2024-07-16T16:23:36.448Z"
   },
   {
    "duration": 18,
    "start_time": "2024-07-16T16:23:36.539Z"
   },
   {
    "duration": 5,
    "start_time": "2024-07-16T16:23:36.560Z"
   },
   {
    "duration": 7,
    "start_time": "2024-07-16T16:23:36.568Z"
   },
   {
    "duration": 1428,
    "start_time": "2024-07-16T16:23:36.613Z"
   },
   {
    "duration": 1447,
    "start_time": "2024-07-16T16:23:38.045Z"
   },
   {
    "duration": 3,
    "start_time": "2024-07-16T16:23:39.497Z"
   },
   {
    "duration": 16,
    "start_time": "2024-07-16T16:23:39.514Z"
   },
   {
    "duration": 13,
    "start_time": "2024-07-16T16:23:39.533Z"
   },
   {
    "duration": 15,
    "start_time": "2024-07-16T16:23:39.549Z"
   },
   {
    "duration": 4,
    "start_time": "2024-07-16T16:23:39.614Z"
   },
   {
    "duration": 9,
    "start_time": "2024-07-16T16:23:39.622Z"
   },
   {
    "duration": 19,
    "start_time": "2024-07-16T16:23:39.634Z"
   },
   {
    "duration": 56,
    "start_time": "2024-07-16T16:23:39.656Z"
   },
   {
    "duration": 8,
    "start_time": "2024-07-16T16:23:39.715Z"
   },
   {
    "duration": 12,
    "start_time": "2024-07-16T16:23:39.726Z"
   },
   {
    "duration": 3,
    "start_time": "2024-07-16T16:23:39.742Z"
   },
   {
    "duration": 172,
    "start_time": "2024-07-16T16:23:39.751Z"
   },
   {
    "duration": 260,
    "start_time": "2024-07-16T16:23:39.926Z"
   },
   {
    "duration": 30,
    "start_time": "2024-07-16T16:23:40.189Z"
   },
   {
    "duration": 21,
    "start_time": "2024-07-16T16:23:40.223Z"
   },
   {
    "duration": 22,
    "start_time": "2024-07-16T16:23:40.247Z"
   },
   {
    "duration": 83,
    "start_time": "2024-07-16T16:23:40.272Z"
   },
   {
    "duration": 3,
    "start_time": "2024-07-16T16:23:40.359Z"
   },
   {
    "duration": 818,
    "start_time": "2024-07-16T16:23:40.373Z"
   },
   {
    "duration": 20,
    "start_time": "2024-07-16T16:23:41.194Z"
   },
   {
    "duration": 12,
    "start_time": "2024-07-16T16:23:41.217Z"
   },
   {
    "duration": 9,
    "start_time": "2024-07-16T16:23:41.232Z"
   },
   {
    "duration": 6,
    "start_time": "2024-07-16T16:23:41.244Z"
   },
   {
    "duration": 134,
    "start_time": "2024-07-16T16:23:41.253Z"
   },
   {
    "duration": 34,
    "start_time": "2024-07-16T16:23:41.390Z"
   },
   {
    "duration": 7,
    "start_time": "2024-07-16T16:23:41.428Z"
   },
   {
    "duration": 177,
    "start_time": "2024-07-16T16:23:41.438Z"
   },
   {
    "duration": 15,
    "start_time": "2024-07-16T16:23:41.619Z"
   },
   {
    "duration": 12,
    "start_time": "2024-07-16T16:23:41.637Z"
   },
   {
    "duration": 14,
    "start_time": "2024-07-16T16:23:41.652Z"
   },
   {
    "duration": 345,
    "start_time": "2024-07-16T16:23:41.713Z"
   },
   {
    "duration": 5,
    "start_time": "2024-07-16T16:23:42.061Z"
   },
   {
    "duration": 15,
    "start_time": "2024-07-16T16:23:42.069Z"
   },
   {
    "duration": 224,
    "start_time": "2024-07-16T16:23:42.112Z"
   },
   {
    "duration": 5,
    "start_time": "2024-07-16T16:23:42.338Z"
   },
   {
    "duration": 5,
    "start_time": "2024-07-16T16:23:42.346Z"
   },
   {
    "duration": 13,
    "start_time": "2024-07-16T16:23:42.355Z"
   },
   {
    "duration": 434,
    "start_time": "2024-07-16T16:23:42.370Z"
   },
   {
    "duration": 4,
    "start_time": "2024-07-16T16:23:42.813Z"
   },
   {
    "duration": 398,
    "start_time": "2024-07-16T16:23:42.820Z"
   },
   {
    "duration": 90,
    "start_time": "2024-07-16T16:23:43.224Z"
   },
   {
    "duration": 230,
    "start_time": "2024-07-16T16:23:43.318Z"
   },
   {
    "duration": 4,
    "start_time": "2024-07-16T16:23:43.551Z"
   },
   {
    "duration": 4,
    "start_time": "2024-07-16T16:23:43.558Z"
   },
   {
    "duration": 3569,
    "start_time": "2024-07-16T16:23:43.566Z"
   },
   {
    "duration": 3,
    "start_time": "2024-07-16T16:23:47.138Z"
   },
   {
    "duration": 3,
    "start_time": "2024-07-16T16:23:47.145Z"
   },
   {
    "duration": 1163,
    "start_time": "2024-07-16T16:23:47.152Z"
   },
   {
    "duration": 545,
    "start_time": "2024-07-16T16:23:48.318Z"
   },
   {
    "duration": 313,
    "start_time": "2024-07-16T16:23:48.866Z"
   },
   {
    "duration": 5,
    "start_time": "2024-07-16T16:23:49.182Z"
   },
   {
    "duration": 4,
    "start_time": "2024-07-16T16:23:49.190Z"
   },
   {
    "duration": 209,
    "start_time": "2024-07-16T16:23:49.196Z"
   },
   {
    "duration": 82,
    "start_time": "2024-07-16T16:23:49.407Z"
   },
   {
    "duration": 36,
    "start_time": "2024-07-16T16:23:49.492Z"
   },
   {
    "duration": 10,
    "start_time": "2024-07-16T16:23:49.531Z"
   },
   {
    "duration": 12,
    "start_time": "2024-07-16T16:23:49.544Z"
   },
   {
    "duration": 3,
    "start_time": "2024-07-16T16:23:49.560Z"
   },
   {
    "duration": 3,
    "start_time": "2024-07-16T16:23:49.612Z"
   },
   {
    "duration": 366,
    "start_time": "2024-07-16T16:23:49.619Z"
   },
   {
    "duration": 39,
    "start_time": "2024-07-16T16:23:49.987Z"
   },
   {
    "duration": 3,
    "start_time": "2024-07-16T16:23:50.029Z"
   },
   {
    "duration": 21,
    "start_time": "2024-07-16T16:23:50.036Z"
   },
   {
    "duration": 3,
    "start_time": "2024-07-16T16:23:50.060Z"
   },
   {
    "duration": 1503,
    "start_time": "2024-07-16T16:23:50.066Z"
   },
   {
    "duration": 21,
    "start_time": "2024-07-16T16:23:51.572Z"
   },
   {
    "duration": 192,
    "start_time": "2024-07-16T16:23:51.596Z"
   },
   {
    "duration": 421,
    "start_time": "2024-07-16T16:23:51.791Z"
   },
   {
    "duration": 16,
    "start_time": "2024-07-16T16:23:52.215Z"
   },
   {
    "duration": 15,
    "start_time": "2024-07-16T16:23:52.234Z"
   },
   {
    "duration": 108,
    "start_time": "2024-07-16T16:23:52.251Z"
   },
   {
    "duration": 59,
    "start_time": "2024-07-16T16:23:52.362Z"
   },
   {
    "duration": 209,
    "start_time": "2024-07-16T16:23:52.424Z"
   },
   {
    "duration": 8,
    "start_time": "2024-07-16T16:23:52.638Z"
   },
   {
    "duration": 723,
    "start_time": "2024-07-16T16:24:04.254Z"
   },
   {
    "duration": 108,
    "start_time": "2024-07-16T16:24:21.978Z"
   },
   {
    "duration": 108,
    "start_time": "2024-07-16T16:24:49.894Z"
   },
   {
    "duration": 1022,
    "start_time": "2024-07-16T16:26:21.349Z"
   },
   {
    "duration": 18,
    "start_time": "2024-07-16T16:26:22.375Z"
   },
   {
    "duration": 80,
    "start_time": "2024-07-16T16:26:22.396Z"
   },
   {
    "duration": 40,
    "start_time": "2024-07-16T16:26:22.480Z"
   },
   {
    "duration": 16,
    "start_time": "2024-07-16T16:26:22.525Z"
   },
   {
    "duration": 15,
    "start_time": "2024-07-16T16:26:22.544Z"
   },
   {
    "duration": 50,
    "start_time": "2024-07-16T16:26:22.563Z"
   },
   {
    "duration": 15,
    "start_time": "2024-07-16T16:26:22.616Z"
   },
   {
    "duration": 1305,
    "start_time": "2024-07-16T16:26:22.634Z"
   },
   {
    "duration": 38,
    "start_time": "2024-07-16T16:26:23.945Z"
   },
   {
    "duration": 215,
    "start_time": "2024-07-16T16:26:23.987Z"
   },
   {
    "duration": 20,
    "start_time": "2024-07-16T16:26:24.211Z"
   },
   {
    "duration": 193,
    "start_time": "2024-07-16T16:26:24.234Z"
   },
   {
    "duration": 168,
    "start_time": "2024-07-16T16:26:24.429Z"
   },
   {
    "duration": 90,
    "start_time": "2024-07-16T16:26:24.600Z"
   },
   {
    "duration": 38,
    "start_time": "2024-07-16T16:26:24.693Z"
   },
   {
    "duration": 10,
    "start_time": "2024-07-16T16:26:24.734Z"
   },
   {
    "duration": 95,
    "start_time": "2024-07-16T16:26:24.749Z"
   },
   {
    "duration": 19,
    "start_time": "2024-07-16T16:26:24.848Z"
   },
   {
    "duration": 6,
    "start_time": "2024-07-16T16:26:24.870Z"
   },
   {
    "duration": 33,
    "start_time": "2024-07-16T16:26:24.879Z"
   },
   {
    "duration": 1464,
    "start_time": "2024-07-16T16:26:24.915Z"
   },
   {
    "duration": 1594,
    "start_time": "2024-07-16T16:26:26.382Z"
   },
   {
    "duration": 3,
    "start_time": "2024-07-16T16:26:27.979Z"
   },
   {
    "duration": 35,
    "start_time": "2024-07-16T16:26:27.985Z"
   },
   {
    "duration": 16,
    "start_time": "2024-07-16T16:26:28.024Z"
   },
   {
    "duration": 18,
    "start_time": "2024-07-16T16:26:28.043Z"
   },
   {
    "duration": 4,
    "start_time": "2024-07-16T16:26:28.113Z"
   },
   {
    "duration": 9,
    "start_time": "2024-07-16T16:26:28.120Z"
   },
   {
    "duration": 16,
    "start_time": "2024-07-16T16:26:28.132Z"
   },
   {
    "duration": 16,
    "start_time": "2024-07-16T16:26:28.151Z"
   },
   {
    "duration": 47,
    "start_time": "2024-07-16T16:26:28.170Z"
   },
   {
    "duration": 12,
    "start_time": "2024-07-16T16:26:28.220Z"
   },
   {
    "duration": 3,
    "start_time": "2024-07-16T16:26:28.235Z"
   },
   {
    "duration": 173,
    "start_time": "2024-07-16T16:26:28.241Z"
   },
   {
    "duration": 260,
    "start_time": "2024-07-16T16:26:28.418Z"
   },
   {
    "duration": 30,
    "start_time": "2024-07-16T16:26:28.682Z"
   },
   {
    "duration": 25,
    "start_time": "2024-07-16T16:26:28.715Z"
   },
   {
    "duration": 24,
    "start_time": "2024-07-16T16:26:28.743Z"
   },
   {
    "duration": 86,
    "start_time": "2024-07-16T16:26:28.770Z"
   },
   {
    "duration": 3,
    "start_time": "2024-07-16T16:26:28.861Z"
   },
   {
    "duration": 833,
    "start_time": "2024-07-16T16:26:28.867Z"
   },
   {
    "duration": 17,
    "start_time": "2024-07-16T16:26:29.703Z"
   },
   {
    "duration": 12,
    "start_time": "2024-07-16T16:26:29.724Z"
   },
   {
    "duration": 128,
    "start_time": "2024-07-16T16:26:29.739Z"
   },
   {
    "duration": 23,
    "start_time": "2024-07-16T16:26:29.871Z"
   },
   {
    "duration": 8,
    "start_time": "2024-07-16T16:26:29.914Z"
   },
   {
    "duration": 173,
    "start_time": "2024-07-16T16:26:29.925Z"
   },
   {
    "duration": 18,
    "start_time": "2024-07-16T16:26:30.101Z"
   },
   {
    "duration": 13,
    "start_time": "2024-07-16T16:26:30.123Z"
   },
   {
    "duration": 20,
    "start_time": "2024-07-16T16:26:30.140Z"
   },
   {
    "duration": 418,
    "start_time": "2024-07-16T16:26:30.163Z"
   },
   {
    "duration": 4,
    "start_time": "2024-07-16T16:26:30.584Z"
   },
   {
    "duration": 28,
    "start_time": "2024-07-16T16:26:30.591Z"
   },
   {
    "duration": 281,
    "start_time": "2024-07-16T16:26:30.622Z"
   },
   {
    "duration": 9,
    "start_time": "2024-07-16T16:26:30.907Z"
   },
   {
    "duration": 9,
    "start_time": "2024-07-16T16:26:30.919Z"
   },
   {
    "duration": 16,
    "start_time": "2024-07-16T16:26:30.932Z"
   },
   {
    "duration": 453,
    "start_time": "2024-07-16T16:26:30.952Z"
   },
   {
    "duration": 5,
    "start_time": "2024-07-16T16:26:31.408Z"
   },
   {
    "duration": 442,
    "start_time": "2024-07-16T16:26:31.416Z"
   },
   {
    "duration": 82,
    "start_time": "2024-07-16T16:26:31.861Z"
   },
   {
    "duration": 227,
    "start_time": "2024-07-16T16:26:31.946Z"
   },
   {
    "duration": 4,
    "start_time": "2024-07-16T16:26:32.175Z"
   },
   {
    "duration": 7,
    "start_time": "2024-07-16T16:26:32.182Z"
   },
   {
    "duration": 3741,
    "start_time": "2024-07-16T16:26:32.211Z"
   },
   {
    "duration": 4,
    "start_time": "2024-07-16T16:26:35.956Z"
   },
   {
    "duration": 10,
    "start_time": "2024-07-16T16:26:35.965Z"
   },
   {
    "duration": 1196,
    "start_time": "2024-07-16T16:26:35.981Z"
   },
   {
    "duration": 624,
    "start_time": "2024-07-16T16:26:37.180Z"
   },
   {
    "duration": 372,
    "start_time": "2024-07-16T16:26:37.812Z"
   },
   {
    "duration": 4,
    "start_time": "2024-07-16T16:26:38.187Z"
   },
   {
    "duration": 17,
    "start_time": "2024-07-16T16:26:38.195Z"
   },
   {
    "duration": 189,
    "start_time": "2024-07-16T16:26:38.216Z"
   },
   {
    "duration": 106,
    "start_time": "2024-07-16T16:26:38.412Z"
   },
   {
    "duration": 25,
    "start_time": "2024-07-16T16:26:38.525Z"
   },
   {
    "duration": 15,
    "start_time": "2024-07-16T16:26:38.553Z"
   },
   {
    "duration": 16,
    "start_time": "2024-07-16T16:26:38.572Z"
   },
   {
    "duration": 3,
    "start_time": "2024-07-16T16:26:38.615Z"
   },
   {
    "duration": 6,
    "start_time": "2024-07-16T16:26:38.625Z"
   },
   {
    "duration": 450,
    "start_time": "2024-07-16T16:26:38.634Z"
   },
   {
    "duration": 41,
    "start_time": "2024-07-16T16:26:39.097Z"
   },
   {
    "duration": 4,
    "start_time": "2024-07-16T16:26:39.141Z"
   },
   {
    "duration": 22,
    "start_time": "2024-07-16T16:26:39.148Z"
   },
   {
    "duration": 4,
    "start_time": "2024-07-16T16:26:39.172Z"
   },
   {
    "duration": 1614,
    "start_time": "2024-07-16T16:26:39.179Z"
   },
   {
    "duration": 28,
    "start_time": "2024-07-16T16:26:40.798Z"
   },
   {
    "duration": 208,
    "start_time": "2024-07-16T16:26:40.830Z"
   },
   {
    "duration": 443,
    "start_time": "2024-07-16T16:26:41.041Z"
   },
   {
    "duration": 32,
    "start_time": "2024-07-16T16:26:41.488Z"
   },
   {
    "duration": 18,
    "start_time": "2024-07-16T16:26:41.524Z"
   },
   {
    "duration": 25,
    "start_time": "2024-07-16T16:26:41.545Z"
   },
   {
    "duration": 77,
    "start_time": "2024-07-16T16:26:41.574Z"
   },
   {
    "duration": 247,
    "start_time": "2024-07-16T16:26:41.656Z"
   },
   {
    "duration": 7,
    "start_time": "2024-07-16T16:26:41.907Z"
   }
  ],
  "kernelspec": {
   "display_name": "Python 3 (ipykernel)",
   "language": "python",
   "name": "python3"
  },
  "language_info": {
   "codemirror_mode": {
    "name": "ipython",
    "version": 3
   },
   "file_extension": ".py",
   "mimetype": "text/x-python",
   "name": "python",
   "nbconvert_exporter": "python",
   "pygments_lexer": "ipython3",
   "version": "3.12.5"
  },
  "toc": {
   "base_numbering": 1,
   "nav_menu": {},
   "number_sections": true,
   "sideBar": true,
   "skip_h1_title": true,
   "title_cell": "Table of Contents",
   "title_sidebar": "Contents",
   "toc_cell": false,
   "toc_position": {},
   "toc_section_display": true,
   "toc_window_display": false
  },
  "vscode": {
   "interpreter": {
    "hash": "01a7be9ec63e704a62cefc5fe7a4756944464ee731be31632bdf42a4cb4688cf"
   }
  }
 },
 "nbformat": 4,
 "nbformat_minor": 5
}
